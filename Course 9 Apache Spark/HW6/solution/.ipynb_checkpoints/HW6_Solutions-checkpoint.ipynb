{
 "cells": [
  {
   "cell_type": "code",
   "execution_count": 1,
   "metadata": {
    "collapsed": true
   },
   "outputs": [],
   "source": [
    "SAT_FN = 'SAT_Results.csv'\n",
    "HSD_FN = 'DOE_High_School_Directory_2014-2015.csv'"
   ]
  },
  {
   "cell_type": "code",
   "execution_count": 4,
   "metadata": {
    "collapsed": true
   },
   "outputs": [],
   "source": [
    "df = sqlContext.read.format('com.databricks.spark.csv').options(header='true', inferschema='true').load(HSD_FN)"
   ]
  },
  {
   "cell_type": "code",
   "execution_count": 5,
   "metadata": {
    "collapsed": false
   },
   "outputs": [
    {
     "name": "stdout",
     "output_type": "stream",
     "text": [
      "+-------------------+--------------------+----+-------------+------------+----------+--------------+--------------+-----------------+-----------------+----+------+----------------------+----+----------+----+-------+--------------+-----------+-----------+------------------+------------------+----------------+-------------------------+-----------------+-----------------------+--------------------------+----------------+-----------------+----------------+-------------+-----------+----------------+----------------+----------------+-----------------+-----------------+-----------------+-------------+-----------+-----------+----------+--------+-----------+------------+--------------------------------+---------------+----------+----------+----------+----------+----------+----------+----------+----------+----------+----------+----------+\n",
      "|                dbn|         school_name|boro|building_code|phone_number|fax_number|grade_span_min|grade_span_max|expgrade_span_min|expgrade_span_max| bus|subway|primary_address_line_1|city|state_code| zip|website|total_students|campus_name|school_type|overview_paragraph|program_highlights|language_classes|advancedplacement_courses|online_ap_courses|online_language_courses|extracurricular_activities|psal_sports_boys|psal_sports_girls|psal_sports_coed|school_sports|partner_cbo|partner_hospital|partner_highered|partner_cultural|partner_nonprofit|partner_corporate|partner_financial|partner_other|addtl_info1|addtl_info2|start_time|end_time|se_services|ell_programs|school_accessibility_description|number_programs|priority01|priority02|priority03|priority04|priority05|priority06|priority07|priority08|priority09|priority10|Location 1|\n",
      "+-------------------+--------------------+----+-------------+------------+----------+--------------+--------------+-----------------+-----------------+----+------+----------------------+----+----------+----+-------+--------------+-----------+-----------+------------------+------------------+----------------+-------------------------+-----------------+-----------------------+--------------------------+----------------+-----------------+----------------+-------------+-----------+----------------+----------------+----------------+-----------------+-----------------+-----------------+-------------+-----------+-----------+----------+--------+-----------+------------+--------------------------------+---------------+----------+----------+----------+----------+----------+----------+----------+----------+----------+----------+----------+\n",
      "|           New York|            NY 10002|null|         null|        null|      null|          null|          null|             null|             null|null|  null|                  null|null|      null|null|   null|          null|       null|       null|              null|              null|            null|                     null|             null|                   null|                      null|            null|             null|            null|         null|       null|            null|            null|            null|             null|             null|             null|         null|       null|       null|      null|    null|       null|        null|                            null|           null|      null|      null|      null|      null|      null|      null|      null|      null|      null|      null|      null|\n",
      "| (40.71376394700047| -73.985260039999...|null|         null|        null|      null|          null|          null|             null|             null|null|  null|                  null|null|      null|null|   null|          null|       null|       null|              null|              null|            null|                     null|             null|                   null|                      null|            null|             null|            null|         null|       null|            null|            null|            null|             null|             null|             null|         null|       null|       null|      null|    null|       null|        null|                            null|           null|      null|      null|      null|      null|      null|      null|      null|      null|      null|      null|      null|\n",
      "|           New York|            NY 10002|null|         null|        null|      null|          null|          null|             null|             null|null|  null|                  null|null|      null|null|   null|          null|       null|       null|              null|              null|            null|                     null|             null|                   null|                      null|            null|             null|            null|         null|       null|            null|            null|            null|             null|             null|             null|         null|       null|       null|      null|    null|       null|        null|                            null|           null|      null|      null|      null|      null|      null|      null|      null|      null|      null|      null|      null|\n",
      "|  (40.7123318510005| -73.984796624999...|null|         null|        null|      null|          null|          null|             null|             null|null|  null|                  null|null|      null|null|   null|          null|       null|       null|              null|              null|            null|                     null|             null|                   null|                      null|            null|             null|            null|         null|       null|            null|            null|            null|             null|             null|             null|         null|       null|       null|      null|    null|       null|        null|                            null|           null|      null|      null|      null|      null|      null|      null|      null|      null|      null|      null|      null|\n",
      "|           New York|            NY 10009|null|         null|        null|      null|          null|          null|             null|             null|null|  null|                  null|null|      null|null|   null|          null|       null|       null|              null|              null|            null|                     null|             null|                   null|                      null|            null|             null|            null|         null|       null|            null|            null|            null|             null|             null|             null|         null|       null|       null|      null|    null|       null|        null|                            null|           null|      null|      null|      null|      null|      null|      null|      null|      null|      null|      null|      null|\n",
      "|(40.729782687000466| -73.983041440999...|null|         null|        null|      null|          null|          null|             null|             null|null|  null|                  null|null|      null|null|   null|          null|       null|       null|              null|              null|            null|                     null|             null|                   null|                      null|            null|             null|            null|         null|       null|            null|            null|            null|             null|             null|             null|         null|       null|       null|      null|    null|       null|        null|                            null|           null|      null|      null|      null|      null|      null|      null|      null|      null|      null|      null|      null|\n",
      "|           New York|            NY 10002|null|         null|        null|      null|          null|          null|             null|             null|null|  null|                  null|null|      null|null|   null|          null|       null|       null|              null|              null|            null|                     null|             null|                   null|                      null|            null|             null|            null|         null|       null|            null|            null|            null|             null|             null|             null|         null|       null|       null|      null|    null|       null|        null|                            null|           null|      null|      null|      null|      null|      null|      null|      null|      null|      null|      null|      null|\n",
      "|(40.720569079000484| -73.985672690999...|null|         null|        null|      null|          null|          null|             null|             null|null|  null|                  null|null|      null|null|   null|          null|       null|       null|              null|              null|            null|                     null|             null|                   null|                      null|            null|             null|            null|         null|       null|            null|            null|            null|             null|             null|             null|         null|       null|       null|      null|    null|       null|        null|                            null|           null|      null|      null|      null|      null|      null|      null|      null|      null|      null|      null|      null|\n",
      "|           New York|            NY 10002|null|         null|        null|      null|          null|          null|             null|             null|null|  null|                  null|null|      null|null|   null|          null|       null|       null|              null|              null|            null|                     null|             null|                   null|                      null|            null|             null|            null|         null|       null|            null|            null|            null|             null|             null|             null|         null|       null|       null|      null|    null|       null|        null|                            null|           null|      null|      null|      null|      null|      null|      null|      null|      null|      null|      null|      null|\n",
      "|(40.718725451000466| -73.979426385999...|null|         null|        null|      null|          null|          null|             null|             null|null|  null|                  null|null|      null|null|   null|          null|       null|       null|              null|              null|            null|                     null|             null|                   null|                      null|            null|             null|            null|         null|       null|            null|            null|            null|             null|             null|             null|         null|       null|       null|      null|    null|       null|        null|                            null|           null|      null|      null|      null|      null|      null|      null|      null|      null|      null|      null|      null|\n",
      "|           New York|            NY 10002|null|         null|        null|      null|          null|          null|             null|             null|null|  null|                  null|null|      null|null|   null|          null|       null|       null|              null|              null|            null|                     null|             null|                   null|                      null|            null|             null|            null|         null|       null|            null|            null|            null|             null|             null|             null|         null|       null|       null|      null|    null|       null|        null|                            null|           null|      null|      null|      null|      null|      null|      null|      null|      null|      null|      null|      null|\n",
      "|(40.718961617000446| -73.976066020999...|null|         null|        null|      null|          null|          null|             null|             null|null|  null|                  null|null|      null|null|   null|          null|       null|       null|              null|              null|            null|                     null|             null|                   null|                      null|            null|             null|            null|         null|       null|            null|            null|            null|             null|             null|             null|         null|       null|       null|      null|    null|       null|        null|                            null|           null|      null|      null|      null|      null|      null|      null|      null|      null|      null|      null|      null|\n",
      "|           New York|            NY 10010|null|         null|        null|      null|          null|          null|             null|             null|null|  null|                  null|null|      null|null|   null|          null|       null|       null|              null|              null|            null|                     null|             null|                   null|                      null|            null|             null|            null|         null|       null|            null|            null|            null|             null|             null|             null|         null|       null|       null|      null|    null|       null|        null|                            null|           null|      null|      null|      null|      null|      null|      null|      null|      null|      null|      null|      null|\n",
      "|(40.738599087000466| -73.982511910999...|null|         null|        null|      null|          null|          null|             null|             null|null|  null|                  null|null|      null|null|   null|          null|       null|       null|              null|              null|            null|                     null|             null|                   null|                      null|            null|             null|            null|         null|       null|            null|            null|            null|             null|             null|             null|         null|       null|       null|      null|    null|       null|        null|                            null|           null|      null|      null|      null|      null|      null|      null|      null|      null|      null|      null|      null|\n",
      "|           New York|            NY 10019|null|         null|        null|      null|          null|          null|             null|             null|null|  null|                  null|null|      null|null|   null|          null|       null|       null|              null|              null|            null|                     null|             null|                   null|                      null|            null|             null|            null|         null|       null|            null|            null|            null|             null|             null|             null|         null|       null|       null|      null|    null|       null|        null|                            null|           null|      null|      null|      null|      null|      null|      null|      null|      null|      null|      null|      null|\n",
      "|(40.763361732000476| -73.990509090999...|null|         null|        null|      null|          null|          null|             null|             null|null|  null|                  null|null|      null|null|   null|          null|       null|       null|              null|              null|            null|                     null|             null|                   null|                      null|            null|             null|            null|         null|       null|            null|            null|            null|             null|             null|             null|         null|       null|       null|      null|    null|       null|        null|                            null|           null|      null|      null|      null|      null|      null|      null|      null|      null|      null|      null|      null|\n",
      "|           New York|            NY 10038|null|         null|        null|      null|          null|          null|             null|             null|null|  null|                  null|null|      null|null|   null|          null|       null|       null|              null|              null|            null|                     null|             null|                   null|                      null|            null|             null|            null|         null|       null|            null|            null|            null|             null|             null|             null|         null|       null|       null|      null|    null|       null|        null|                            null|           null|      null|      null|      null|      null|      null|      null|      null|      null|      null|      null|      null|\n",
      "| (40.71067947100045| -74.000807020999...|null|         null|        null|      null|          null|          null|             null|             null|null|  null|                  null|null|      null|null|   null|          null|       null|       null|              null|              null|            null|                     null|             null|                   null|                      null|            null|             null|            null|         null|       null|            null|            null|            null|             null|             null|             null|         null|       null|       null|      null|    null|       null|        null|                            null|           null|      null|      null|      null|      null|      null|      null|      null|      null|      null|      null|      null|\n",
      "|          Manhattan|            NY 10001|null|         null|        null|      null|          null|          null|             null|             null|null|  null|                  null|null|      null|null|   null|          null|       null|       null|              null|              null|            null|                     null|             null|                   null|                      null|            null|             null|            null|         null|       null|            null|            null|            null|             null|             null|             null|         null|       null|       null|      null|    null|       null|        null|                            null|           null|      null|      null|      null|      null|      null|      null|      null|      null|      null|      null|      null|\n",
      "| (40.75321087800046| -73.997858514999...|null|         null|        null|      null|          null|          null|             null|             null|null|  null|                  null|null|      null|null|   null|          null|       null|       null|              null|              null|            null|                     null|             null|                   null|                      null|            null|             null|            null|         null|       null|            null|            null|            null|             null|             null|             null|         null|       null|       null|      null|    null|       null|        null|                            null|           null|      null|      null|      null|      null|      null|      null|      null|      null|      null|      null|      null|\n",
      "+-------------------+--------------------+----+-------------+------------+----------+--------------+--------------+-----------------+-----------------+----+------+----------------------+----+----------+----+-------+--------------+-----------+-----------+------------------+------------------+----------------+-------------------------+-----------------+-----------------------+--------------------------+----------------+-----------------+----------------+-------------+-----------+----------------+----------------+----------------+-----------------+-----------------+-----------------+-------------+-----------+-----------+----------+--------+-----------+------------+--------------------------------+---------------+----------+----------+----------+----------+----------+----------+----------+----------+----------+----------+----------+\n",
      "only showing top 20 rows\n",
      "\n"
     ]
    }
   ],
   "source": [
    "df.show()"
   ]
  },
  {
   "cell_type": "code",
   "execution_count": 8,
   "metadata": {
    "collapsed": false
   },
   "outputs": [
    {
     "data": {
      "text/plain": [
       "[(0, 'DBN'),\n",
       " (1, 'SCHOOL NAME'),\n",
       " (2, 'Num of SAT Test Takers'),\n",
       " (3, 'SAT Critical Reading Avg. Score'),\n",
       " (4, 'SAT Math Avg. Score'),\n",
       " (5, 'SAT Writing Avg. Score')]"
      ]
     },
     "execution_count": 8,
     "metadata": {},
     "output_type": "execute_result"
    }
   ],
   "source": [
    "sat = sc.textFile(SAT_FN, use_unicode=False).cache()\n",
    "list(enumerate(sat.first().split(',')))"
   ]
  },
  {
   "cell_type": "code",
   "execution_count": 9,
   "metadata": {
    "collapsed": false
   },
   "outputs": [
    {
     "data": {
      "text/plain": [
       "2"
      ]
     },
     "execution_count": 9,
     "metadata": {},
     "output_type": "execute_result"
    }
   ],
   "source": [
    "sat.getNumPartitions()"
   ]
  },
  {
   "cell_type": "code",
   "execution_count": 10,
   "metadata": {
    "collapsed": false
   },
   "outputs": [],
   "source": [
    "def extractScores(index, lines):\n",
    "    import csv\n",
    "    if index==0:\n",
    "        lines.next()\n",
    "    reader = csv.reader(lines)\n",
    "    for row in reader:\n",
    "        if row[2]!='s':\n",
    "            (dbn, takers, score) = (row[0], int(row[2]), int(row[4]))\n",
    "            yield (dbn, (score*takers, takers))\n",
    "        \n",
    "satScores = sat.mapPartitionsWithIndex(extractScores)"
   ]
  },
  {
   "cell_type": "code",
   "execution_count": 7,
   "metadata": {
    "collapsed": false
   },
   "outputs": [
    {
     "data": {
      "text/plain": [
       "[(0, 'dbn'),\n",
       " (1, 'school_name'),\n",
       " (2, 'boro'),\n",
       " (3, 'building_code'),\n",
       " (4, 'phone_number'),\n",
       " (5, 'fax_number'),\n",
       " (6, 'grade_span_min'),\n",
       " (7, 'grade_span_max'),\n",
       " (8, 'expgrade_span_min'),\n",
       " (9, 'expgrade_span_max'),\n",
       " (10, 'bus'),\n",
       " (11, 'subway'),\n",
       " (12, 'primary_address_line_1'),\n",
       " (13, 'city'),\n",
       " (14, 'state_code'),\n",
       " (15, 'zip'),\n",
       " (16, 'website'),\n",
       " (17, 'total_students'),\n",
       " (18, 'campus_name'),\n",
       " (19, 'school_type'),\n",
       " (20, 'overview_paragraph'),\n",
       " (21, 'program_highlights'),\n",
       " (22, 'language_classes'),\n",
       " (23, 'advancedplacement_courses'),\n",
       " (24, 'online_ap_courses'),\n",
       " (25, 'online_language_courses'),\n",
       " (26, 'extracurricular_activities'),\n",
       " (27, 'psal_sports_boys'),\n",
       " (28, 'psal_sports_girls'),\n",
       " (29, 'psal_sports_coed'),\n",
       " (30, 'school_sports'),\n",
       " (31, 'partner_cbo'),\n",
       " (32, 'partner_hospital'),\n",
       " (33, 'partner_highered'),\n",
       " (34, 'partner_cultural'),\n",
       " (35, 'partner_nonprofit'),\n",
       " (36, 'partner_corporate'),\n",
       " (37, 'partner_financial'),\n",
       " (38, 'partner_other'),\n",
       " (39, 'addtl_info1'),\n",
       " (40, 'addtl_info2'),\n",
       " (41, 'start_time'),\n",
       " (42, 'end_time'),\n",
       " (43, 'se_services'),\n",
       " (44, 'ell_programs'),\n",
       " (45, 'school_accessibility_description'),\n",
       " (46, 'number_programs'),\n",
       " (47, 'priority01'),\n",
       " (48, 'priority02'),\n",
       " (49, 'priority03'),\n",
       " (50, 'priority04'),\n",
       " (51, 'priority05'),\n",
       " (52, 'priority06'),\n",
       " (53, 'priority07'),\n",
       " (54, 'priority08'),\n",
       " (55, 'priority09'),\n",
       " (56, 'priority10'),\n",
       " (57, 'Location 1')]"
      ]
     },
     "execution_count": 7,
     "metadata": {},
     "output_type": "execute_result"
    }
   ],
   "source": [
    "schools = sc.textFile(HSD_FN, use_unicode=False).cache()\n",
    "list(enumerate(schools.first().split(',')))"
   ]
  },
  {
   "cell_type": "code",
   "execution_count": 14,
   "metadata": {
    "collapsed": false
   },
   "outputs": [],
   "source": [
    "def extractSchools(index, lines):\n",
    "    import csv\n",
    "    if index==0:\n",
    "        lines.next()\n",
    "    reader = csv.reader(lines)\n",
    "    for row in reader:\n",
    "        if len(row)==58 and row[17].isdigit():\n",
    "            (dbn, boro, total_students) = (row[0], row[2], int(row[17]))\n",
    "            if total_students>500:\n",
    "                yield (dbn, boro)\n",
    "largeSchools = schools.mapPartitionsWithIndex(extractSchools)"
   ]
  },
  {
   "cell_type": "code",
   "execution_count": 15,
   "metadata": {
    "collapsed": false
   },
   "outputs": [
    {
     "data": {
      "text/plain": [
       "[('01M450', 'Manhattan'),\n",
       " ('01M539', 'Manhattan'),\n",
       " ('01M696', 'Manhattan'),\n",
       " ('02M374', 'Manhattan'),\n",
       " ('02M400', 'Manhattan'),\n",
       " ('02M408', 'Manhattan'),\n",
       " ('02M412', 'Manhattan'),\n",
       " ('02M413', 'Manhattan'),\n",
       " ('02M416', 'Manhattan'),\n",
       " ('02M418', 'Manhattan')]"
      ]
     },
     "execution_count": 15,
     "metadata": {},
     "output_type": "execute_result"
    }
   ],
   "source": [
    "largeSchools.take(10)"
   ]
  },
  {
   "cell_type": "code",
   "execution_count": 16,
   "metadata": {
    "collapsed": false
   },
   "outputs": [
    {
     "data": {
      "text/plain": [
       "[('02M047', (6400, 16)),\n",
       " ('21K410', (207575, 475)),\n",
       " ('30Q301', (43120, 98)),\n",
       " ('17K382', (22066, 59)),\n",
       " ('18K637', (13335, 35)),\n",
       " ('32K403', (18300, 50)),\n",
       " ('09X365', (18306, 54)),\n",
       " ('11X270', (22064, 56)),\n",
       " ('05M367', (12078, 33)),\n",
       " ('14K404', (24276, 68))]"
      ]
     },
     "execution_count": 16,
     "metadata": {},
     "output_type": "execute_result"
    }
   ],
   "source": [
    "satScores.take(10)"
   ]
  },
  {
   "cell_type": "code",
   "execution_count": 21,
   "metadata": {
    "collapsed": false
   },
   "outputs": [],
   "source": [
    "scores = largeSchools.join(satScores).values()"
   ]
  },
  {
   "cell_type": "code",
   "execution_count": 22,
   "metadata": {
    "collapsed": false
   },
   "outputs": [
    {
     "data": {
      "text/plain": [
       "[('Bronx', (23069, 59)),\n",
       " ('Staten Island', (52216, 107)),\n",
       " ('Bronx', (16317, 49)),\n",
       " ('Brooklyn', (33235, 85)),\n",
       " ('Bronx', (24570, 65)),\n",
       " ('Manhattan', (24948, 66)),\n",
       " ('Brooklyn', (17920, 56)),\n",
       " ('Bronx', (37120, 80)),\n",
       " ('Queens', (180978, 278)),\n",
       " ('Queens', (503426, 934))]"
      ]
     },
     "execution_count": 22,
     "metadata": {},
     "output_type": "execute_result"
    }
   ],
   "source": [
    "scores.take(10)"
   ]
  },
  {
   "cell_type": "code",
   "execution_count": 25,
   "metadata": {
    "collapsed": false
   },
   "outputs": [
    {
     "data": {
      "text/plain": [
       "[('Manhattan', 514),\n",
       " ('Brooklyn', 487),\n",
       " ('Staten Island', 477),\n",
       " ('Queens', 474),\n",
       " ('Bronx', 470)]"
      ]
     },
     "execution_count": 25,
     "metadata": {},
     "output_type": "execute_result"
    }
   ],
   "source": [
    "largeSchools.join(satScores) \\\n",
    "            .values() \\\n",
    "            .reduceByKey(lambda x, y: (x[0]+y[0], x[1]+y[1])) \\\n",
    "            .mapValues(lambda x: x[0]/x[1]) \\\n",
    "            .sortBy(lambda x: -x[1]) \\\n",
    "            .collect()"
   ]
  },
  {
   "cell_type": "code",
   "execution_count": null,
   "metadata": {
    "collapsed": true
   },
   "outputs": [],
   "source": []
  },
  {
   "cell_type": "code",
   "execution_count": 26,
   "metadata": {
    "collapsed": true
   },
   "outputs": [],
   "source": [
    "from pyspark.sql import Row"
   ]
  },
  {
   "cell_type": "code",
   "execution_count": 27,
   "metadata": {
    "collapsed": false
   },
   "outputs": [
    {
     "name": "stdout",
     "output_type": "stream",
     "text": [
      "+------+----------+----------+\n",
      "|   dbn|num_takers|sum_scores|\n",
      "+------+----------+----------+\n",
      "|02M047|        16|      6400|\n",
      "|21K410|       475|    207575|\n",
      "|30Q301|        98|     43120|\n",
      "|17K382|        59|     22066|\n",
      "|18K637|        35|     13335|\n",
      "|32K403|        50|     18300|\n",
      "|09X365|        54|     18306|\n",
      "|11X270|        56|     22064|\n",
      "|05M367|        33|     12078|\n",
      "|14K404|        68|     24276|\n",
      "|30Q575|       135|     66420|\n",
      "|13K336|         9|      3366|\n",
      "|04M635|        48|     17712|\n",
      "|24Q264|        89|     40406|\n",
      "|17K408|        57|     19494|\n",
      "|19K618|        60|     22260|\n",
      "|27Q309|        36|     13644|\n",
      "|32K552|        67|     24388|\n",
      "|13K499|        72|     26208|\n",
      "|07X600|        76|     30400|\n",
      "+------+----------+----------+\n",
      "only showing top 20 rows\n",
      "\n"
     ]
    }
   ],
   "source": [
    "satRows = satScores.map(lambda x: Row(dbn=x[0], sum_scores=x[1][0], num_takers=x[1][1]))\n",
    "satTable = sqlContext.createDataFrame(satRows)\n",
    "satTable.show()"
   ]
  },
  {
   "cell_type": "code",
   "execution_count": 28,
   "metadata": {
    "collapsed": false
   },
   "outputs": [
    {
     "name": "stdout",
     "output_type": "stream",
     "text": [
      "+---------+------+\n",
      "|     boro|   dbn|\n",
      "+---------+------+\n",
      "|Manhattan|01M450|\n",
      "|Manhattan|01M539|\n",
      "|Manhattan|01M696|\n",
      "|Manhattan|02M374|\n",
      "|Manhattan|02M400|\n",
      "|Manhattan|02M408|\n",
      "|Manhattan|02M412|\n",
      "|Manhattan|02M413|\n",
      "|Manhattan|02M416|\n",
      "|Manhattan|02M418|\n",
      "|Manhattan|02M420|\n",
      "|Manhattan|02M425|\n",
      "|Manhattan|02M475|\n",
      "|Manhattan|02M489|\n",
      "|Manhattan|02M519|\n",
      "|Manhattan|02M520|\n",
      "|Manhattan|02M529|\n",
      "|Manhattan|02M542|\n",
      "|Manhattan|02M580|\n",
      "|Manhattan|02M600|\n",
      "+---------+------+\n",
      "only showing top 20 rows\n",
      "\n"
     ]
    }
   ],
   "source": [
    "schoolRows = largeSchools.map(lambda x: Row(dbn=x[0], boro=x[1]))\n",
    "schoolTable = sqlContext.createDataFrame(schoolRows)\n",
    "schoolTable.show()"
   ]
  },
  {
   "cell_type": "code",
   "execution_count": 29,
   "metadata": {
    "collapsed": false
   },
   "outputs": [],
   "source": [
    "df = schoolTable.join(satTable, on=\"dbn\", how=\"inner\") \\\n",
    "                .groupBy(\"boro\") \\\n",
    "                .sum(\"sum_scores\", \"num_takers\")"
   ]
  },
  {
   "cell_type": "code",
   "execution_count": 30,
   "metadata": {
    "collapsed": false
   },
   "outputs": [
    {
     "name": "stdout",
     "output_type": "stream",
     "text": [
      "+-------------+---------------+---------------+\n",
      "|         boro|sum(sum_scores)|sum(num_takers)|\n",
      "+-------------+---------------+---------------+\n",
      "|       Queens|        5190534|          10942|\n",
      "|     Brooklyn|        4544126|           9322|\n",
      "|Staten Island|        1406967|           2944|\n",
      "|        Bronx|        1619364|           3444|\n",
      "|    Manhattan|        3206992|           6228|\n",
      "+-------------+---------------+---------------+\n",
      "\n"
     ]
    }
   ],
   "source": [
    "df.show()"
   ]
  },
  {
   "cell_type": "code",
   "execution_count": 34,
   "metadata": {
    "collapsed": false
   },
   "outputs": [
    {
     "name": "stdout",
     "output_type": "stream",
     "text": [
      "+-------------+------------------+\n",
      "|         boro|               avg|\n",
      "+-------------+------------------+\n",
      "|       Queens| 474.3679400475233|\n",
      "|     Brooklyn|487.46256168204246|\n",
      "|Staten Island| 477.9099864130435|\n",
      "|        Bronx|  470.198606271777|\n",
      "|    Manhattan| 514.9312780989081|\n",
      "+-------------+------------------+\n",
      "\n"
     ]
    }
   ],
   "source": [
    "df.withColumn(\"avg\", (df[1]/df[2])) \\\n",
    "          .select('boro', 'avg') \\\n",
    "          .show()"
   ]
  },
  {
   "cell_type": "code",
   "execution_count": 33,
   "metadata": {
    "collapsed": false
   },
   "outputs": [
    {
     "name": "stdout",
     "output_type": "stream",
     "text": [
      "+-------------+---+\n",
      "|         boro|avg|\n",
      "+-------------+---+\n",
      "|       Queens|474|\n",
      "|     Brooklyn|487|\n",
      "|Staten Island|477|\n",
      "|        Bronx|470|\n",
      "|    Manhattan|514|\n",
      "+-------------+---+\n",
      "\n"
     ]
    }
   ],
   "source": [
    "new_df.show()"
   ]
  },
  {
   "cell_type": "code",
   "execution_count": 35,
   "metadata": {
    "collapsed": false
   },
   "outputs": [
    {
     "data": {
      "text/plain": [
       "['dbn,school_name,boro,building_code,phone_number,fax_number,grade_span_min,grade_span_max,expgrade_span_min,expgrade_span_max,bus,subway,primary_address_line_1,city,state_code,zip,website,total_students,campus_name,school_type,overview_paragraph,program_highlights,language_classes,advancedplacement_courses,online_ap_courses,online_language_courses,extracurricular_activities,psal_sports_boys,psal_sports_girls,psal_sports_coed,school_sports,partner_cbo,partner_hospital,partner_highered,partner_cultural,partner_nonprofit,partner_corporate,partner_financial,partner_other,addtl_info1,addtl_info2,start_time,end_time,se_services,ell_programs,school_accessibility_description,number_programs,priority01,priority02,priority03,priority04,priority05,priority06,priority07,priority08,priority09,priority10,Location 1',\n",
       " '01M292,Henry Street School for International Studies,Manhattan,M056,212-406-9411,212-406-9417,6,12,,,\"B39, M14A, M14D, M15, M15-SBS, M21, M22, M9\",\"B, D to Grand St ; F to East Broadway ; J, M, Z to Delancey St-Essex St\",220 Henry Street,New York,NY,10002,http://schools.nyc.gov/schoolportals/01/M292,323,N/A,,\"Henry Street School for International Studies is a unique small school founded by the Asia Society. While in pursuit of knowledge about other world regions, including their histories, economies and world languages, students acquire the knowledge and skills needed to prepare for college and/or careers. Teachers and other adults who make up the learning community forge supportive relationships with students and parents while providing challenging and engaging learning experiences. Our school partners with various community, arts and business organizations to help students achieve success. Our theme of international studies extends beyond the classroom, where students participate in ongoing \\xe2\\x80\\x98Advisory Day Out\\xe2\\x80\\x99 excursions where the multiculturalism of NYC becomes the classroom.\",\"Global/International Studies in core subjects, Literacy block schedule, Personalized instruction in small classes, Student Advisories, International travel opportunities, After-school program focused on youth leadership\",\"Chinese (Mandarin), Spanish\",Psychology,\"Chinese Language and Culture, Spanish Literature and Culture\",\"Chinese (Mandarin), Spanish\",\"Math through Card Play; Art, Poetry/Spoken Word, Drama, Book, STEP, Big Brothers/Big Sisters, Student Government/Leadership, Future Project\",Basketball,Softball,Soccer,\"Boxing, Track, CHAMPS, Tennis, Flag Football, Softball\",The Henry Street Settlement; Asia Society; America Reads; Future Project; 21st Century Grant,Gouverneur Hospital (Turning Points),New York University,Asia Society,Heart of America Foundation,,,United Nations,,,8:30 AM,3:30 PM,This school will provide students with disabilities the supports and services indicated on their IEPs.,ESL,Functionally Accessible,1,Priority to continuing 8th graders,Then to Manhattan students or residents who attend an information session,Then to New York City residents who attend an information session,Then to Manhattan students or residents,Then to New York City residents,,,,,,\"220 Henry Street']"
      ]
     },
     "execution_count": 35,
     "metadata": {},
     "output_type": "execute_result"
    }
   ],
   "source": [
    "schools.take(2)"
   ]
  },
  {
   "cell_type": "code",
   "execution_count": 36,
   "metadata": {
    "collapsed": false
   },
   "outputs": [],
   "source": [
    "def extractSchools(index, lines):\n",
    "    import csv\n",
    "    import operator\n",
    "    if index==0:\n",
    "        lines.next()\n",
    "    reader = csv.reader(lines)\n",
    "    for row in reader:\n",
    "        if len(row)==58 and row[17].isdigit():\n",
    "            (dbn, bus, subway) = (row[0], row[10], row[11])\n",
    "            bus = bus.split(', ')\n",
    "            subway = reduce(operator.add, map(lambda x: x.split(' to ')[0].split(', '), subway.split('; ')))\n",
    "            yield (dbn, tuple(bus+subway))\n",
    "transports = schools.mapPartitionsWithIndex(extractSchools)"
   ]
  },
  {
   "cell_type": "code",
   "execution_count": 39,
   "metadata": {
    "collapsed": false
   },
   "outputs": [
    {
     "data": {
      "text/plain": [
       "[('01M292',\n",
       "  ('B39',\n",
       "   'M14A',\n",
       "   'M14D',\n",
       "   'M15',\n",
       "   'M15-SBS',\n",
       "   'M21',\n",
       "   'M22',\n",
       "   'M9',\n",
       "   'B',\n",
       "   'D',\n",
       "   'F',\n",
       "   'J',\n",
       "   'M',\n",
       "   'Z')),\n",
       " ('01M448', ('M14A', 'M14D', 'M15', 'M21', 'M22', 'M9', 'F', 'J', 'M', 'Z')),\n",
       " ('01M450',\n",
       "  ('M101',\n",
       "   'M102',\n",
       "   'M103',\n",
       "   'M14A',\n",
       "   'M14D',\n",
       "   'M15',\n",
       "   'M15-SBS',\n",
       "   'M2',\n",
       "   'M23',\n",
       "   'M3',\n",
       "   'M8',\n",
       "   'M9',\n",
       "   '6',\n",
       "   'L')),\n",
       " ('01M509',\n",
       "  ('B39',\n",
       "   'M103',\n",
       "   'M14A',\n",
       "   'M14D',\n",
       "   'M15',\n",
       "   'M15-SBS',\n",
       "   'M21',\n",
       "   'M22',\n",
       "   'M8',\n",
       "   'M9',\n",
       "   'B',\n",
       "   'D',\n",
       "   'F',\n",
       "   'J',\n",
       "   'M',\n",
       "   'Z')),\n",
       " ('01M539',\n",
       "  ('B39', 'M14A', 'M14D', 'M21', 'M22', 'M8', 'M9', 'F', 'J', 'M', 'Z')),\n",
       " ('01M696', ('M14A', 'M14D', 'M21', 'M22', 'M9', 'N/A')),\n",
       " ('02M047',\n",
       "  ('M101',\n",
       "   'M102',\n",
       "   'M14A',\n",
       "   'M14D',\n",
       "   'M15',\n",
       "   'M15-SBS',\n",
       "   'M2',\n",
       "   'M23',\n",
       "   'M34A-SBS',\n",
       "   'M5',\n",
       "   'M9',\n",
       "   '4',\n",
       "   '5',\n",
       "   'Q',\n",
       "   '6',\n",
       "   'N',\n",
       "   'R',\n",
       "   'L')),\n",
       " ('02M135',\n",
       "  ('M10',\n",
       "   'M104',\n",
       "   'M11',\n",
       "   'M20',\n",
       "   'M31',\n",
       "   'M34A-SBS',\n",
       "   'M42',\n",
       "   'M50',\n",
       "   'M57',\n",
       "   'M7',\n",
       "   '1',\n",
       "   'C',\n",
       "   'E',\n",
       "   'A',\n",
       "   'B',\n",
       "   'D',\n",
       "   'B',\n",
       "   'D',\n",
       "   'N',\n",
       "   'Q',\n",
       "   'R')),\n",
       " ('02M139',\n",
       "  ('M103',\n",
       "   'M15',\n",
       "   'M22',\n",
       "   'M5',\n",
       "   'M9',\n",
       "   '1',\n",
       "   '2',\n",
       "   '3',\n",
       "   'A',\n",
       "   'C',\n",
       "   '4',\n",
       "   '5',\n",
       "   '6',\n",
       "   'J',\n",
       "   'Z',\n",
       "   'E',\n",
       "   'N',\n",
       "   'Q',\n",
       "   'R')),\n",
       " ('02M260',\n",
       "  ('M104',\n",
       "   'M11',\n",
       "   'M20',\n",
       "   'M23',\n",
       "   'M34A-SBS',\n",
       "   'M34-SBS',\n",
       "   'M4',\n",
       "   'M42',\n",
       "   'M7',\n",
       "   '1',\n",
       "   '2',\n",
       "   '3',\n",
       "   'A',\n",
       "   'C',\n",
       "   'E'))]"
      ]
     },
     "execution_count": 39,
     "metadata": {},
     "output_type": "execute_result"
    }
   ],
   "source": [
    "transports.take(10)"
   ]
  },
  {
   "cell_type": "code",
   "execution_count": null,
   "metadata": {
    "collapsed": true
   },
   "outputs": [],
   "source": [
    "a = [1,2,3]\n",
    "b = [4]\n",
    "\n",
    "(1,4) (2,4) (3,4)"
   ]
  },
  {
   "cell_type": "code",
   "execution_count": 42,
   "metadata": {
    "collapsed": false,
    "scrolled": false
   },
   "outputs": [
    {
     "data": {
      "text/plain": [
       "[('S1115', 612),\n",
       " ('M79', 594),\n",
       " ('Q42', 582),\n",
       " ('M22', 574),\n",
       " ('Bx3', 571),\n",
       " ('B52', 560),\n",
       " ('B63', 557),\n",
       " ('B69', 548),\n",
       " ('B54', 543),\n",
       " ('B25', 541),\n",
       " ('M20', 540),\n",
       " ('M9', 539),\n",
       " ('M86', 538),\n",
       " ('B65', 538),\n",
       " ('B45', 534),\n",
       " ('Bx10', 534),\n",
       " ('Bx26', 533),\n",
       " ('B103', 531),\n",
       " ('Q64', 529),\n",
       " ('Bx22', 525),\n",
       " ('M72', 523),\n",
       " ('B41', 520),\n",
       " ('B38', 520),\n",
       " ('M5', 520),\n",
       " ('Q35', 519),\n",
       " ('M66', 518),\n",
       " ('B62', 513),\n",
       " ('3', 513),\n",
       " ('A', 510),\n",
       " ('C', 510),\n",
       " ('Q88', 508),\n",
       " ('R', 508),\n",
       " ('Q84', 507),\n",
       " ('Q30', 507),\n",
       " ('Q20A', 505),\n",
       " ('S79-SBS', 505),\n",
       " ('Q31', 504),\n",
       " ('G', 503),\n",
       " ('B11', 503),\n",
       " ('D', 502)]"
      ]
     },
     "execution_count": 42,
     "metadata": {},
     "output_type": "execute_result"
    }
   ],
   "source": [
    "import itertools\n",
    "transports.join(satScores) \\\n",
    "          .flatMap(lambda x: itertools.product(x[1][0], [x[1][1]])) \\\n",
    "          .reduceByKey(lambda x, y: (x[0]+y[0], x[1]+y[1])) \\\n",
    "          .mapValues(lambda x: x[0]/x[1]) \\\n",
    "          .sortBy(lambda x: -x[1]) \\\n",
    "          .take(40)"
   ]
  },
  {
   "cell_type": "code",
   "execution_count": 10,
   "metadata": {
    "collapsed": false
   },
   "outputs": [],
   "source": [
    "def extractSchools(lines):\n",
    "    for row in lines:\n",
    "        if row[17].isdigit():\n",
    "            (dbn, boro, total_students) = (row[0], row[2], int(row[17]))\n",
    "            if total_students>500:\n",
    "                yield (dbn, boro)\n",
    "\n",
    "from csv_parser import csvRDD\n",
    "largeSchools1 = csvRDD(schools)"
   ]
  },
  {
   "cell_type": "code",
   "execution_count": 11,
   "metadata": {
    "collapsed": false
   },
   "outputs": [
    {
     "data": {
      "text/plain": [
       "[['01M292',\n",
       "  'Henry Street School for International Studies',\n",
       "  'Manhattan',\n",
       "  'M056',\n",
       "  '212-406-9411',\n",
       "  '212-406-9417',\n",
       "  '6',\n",
       "  '12',\n",
       "  '',\n",
       "  '',\n",
       "  'B39, M14A, M14D, M15, M15-SBS, M21, M22, M9',\n",
       "  'B, D to Grand St ; F to East Broadway ; J, M, Z to Delancey St-Essex St',\n",
       "  '220 Henry Street',\n",
       "  'New York',\n",
       "  'NY',\n",
       "  '10002',\n",
       "  'http://schools.nyc.gov/schoolportals/01/M292',\n",
       "  '323',\n",
       "  'N/A',\n",
       "  '',\n",
       "  'Henry Street School for International Studies is a unique small school founded by the Asia Society. While in pursuit of knowledge about other world regions, including their histories, economies and world languages, students acquire the knowledge and skills needed to prepare for college and/or careers. Teachers and other adults who make up the learning community forge supportive relationships with students and parents while providing challenging and engaging learning experiences. Our school partners with various community, arts and business organizations to help students achieve success. Our theme of international studies extends beyond the classroom, where students participate in ongoing \\xe2\\x80\\x98Advisory Day Out\\xe2\\x80\\x99 excursions where the multiculturalism of NYC becomes the classroom.',\n",
       "  'Global/International Studies in core subjects, Literacy block schedule, Personalized instruction in small classes, Student Advisories, International travel opportunities, After-school program focused on youth leadership',\n",
       "  'Chinese (Mandarin), Spanish',\n",
       "  'Psychology',\n",
       "  'Chinese Language and Culture, Spanish Literature and Culture',\n",
       "  'Chinese (Mandarin), Spanish',\n",
       "  'Math through Card Play; Art, Poetry/Spoken Word, Drama, Book, STEP, Big Brothers/Big Sisters, Student Government/Leadership, Future Project',\n",
       "  'Basketball',\n",
       "  'Softball',\n",
       "  'Soccer',\n",
       "  'Boxing, Track, CHAMPS, Tennis, Flag Football, Softball',\n",
       "  'The Henry Street Settlement; Asia Society; America Reads; Future Project; 21st Century Grant',\n",
       "  'Gouverneur Hospital (Turning Points)',\n",
       "  'New York University',\n",
       "  'Asia Society',\n",
       "  'Heart of America Foundation',\n",
       "  '',\n",
       "  '',\n",
       "  'United Nations',\n",
       "  '',\n",
       "  '',\n",
       "  '8:30 AM',\n",
       "  '3:30 PM',\n",
       "  'This school will provide students with disabilities the supports and services indicated on their IEPs.',\n",
       "  'ESL',\n",
       "  'Functionally Accessible',\n",
       "  '1',\n",
       "  'Priority to continuing 8th graders',\n",
       "  'Then to Manhattan students or residents who attend an information session',\n",
       "  'Then to New York City residents who attend an information session',\n",
       "  'Then to Manhattan students or residents',\n",
       "  'Then to New York City residents',\n",
       "  '',\n",
       "  '',\n",
       "  '',\n",
       "  '',\n",
       "  '',\n",
       "  '220 Henry StreetNew York, NY 10002(40.71376394700047, -73.98526003999967)'],\n",
       " ['01M448',\n",
       "  'University Neighborhood High School',\n",
       "  'Manhattan',\n",
       "  'M446',\n",
       "  '212-962-4341',\n",
       "  '212-267-5611',\n",
       "  '9',\n",
       "  '12',\n",
       "  '',\n",
       "  '',\n",
       "  'M14A, M14D, M15, M21, M22, M9',\n",
       "  'F to East Broadway ; J, M, Z to Delancey St-Essex St',\n",
       "  '200 Monroe Street',\n",
       "  'New York',\n",
       "  'NY',\n",
       "  '10002',\n",
       "  'www.universityneighborhoodhs.com',\n",
       "  '299',\n",
       "  'N/A',\n",
       "  '',\n",
       "  'University Neighborhood High School (UNHS) is the first collaborative partnership school between New York University and the New York City Department of Education. We are proud to provide all kinds of learners with a challenging curriculum in a supportive environment so that they can successfully participate in higher education opportunities and the workforce.',\n",
       "  \"While attending UNHS, students can earn up to 24 tuition-free college credits by taking College Now classes at the Baruch College Campus or at UNHS during the regular school day. Recent College Now course offerings include Business, Speech Communication, Psychology, and Personal Finance. Students are offered a variety of innovative technology courses such as Microsoft Office Suite, Computer Programming, Computer Coding, Gaming, Web Design, Adobe Suite, and Film Production. Two Sigma, one of our technology partnerships, is currently open to ninth and tenth graders to develop in-depth computer technology skills necessary for young scholars in the 21st century. Other courses and opportunities include College Summit, Kaplan SAT prep review classes, a Saturday ESL program, Saturday Regents Prep, Saturday ESL classes at St. John's University, an Advanced Regents Diploma honors program, and the Deloitte Academy mentoring program. We use the online learning programs of Achieve3000 and Compass Learning to help students achieve their education goals.\",\n",
       "  'Chinese, Spanish',\n",
       "  'Calculus AB, Chinese Language and Culture, English Literature and Composition, Spanish Language and Culture, Spanish Literature and Culture, United States History, World History',\n",
       "  '',\n",
       "  'Chinese (Cantonese), Chinese (Mandarin), Spanish',\n",
       "  \"Basketball, Badminton, Handball, Glee, Dance, Fitness, Ping-Pong, Tennis, Step Team, After-School Tutoring, Peer Tutoring, Lunchtime Tutoring, Saturday SAT Prep, Regents Prep, National Honor Society, Council for Unity, Young Women's Empowerment, Student Assistance Services, Aviation, Book, Chess, Robotics, Computer, Spanish, Student Government, Art, Audio (at a live radio station), Music, Digital Art Studio, Guitar and Piano, Literary Magazine, Murals and School Beautification, and Video. At UNHS, we will also help any student develop any club that has 10 or more students interested in joining.\",\n",
       "  'Baseball, Basketball, Bowling, Cross Country, Handball',\n",
       "  'Basketball, Bowling, Cross Country, Softball, Tennis',\n",
       "  '',\n",
       "  '',\n",
       "  'Grand Street Settlement, Henry Street Settlement, Educational Alliance',\n",
       "  'Gouverneur Hospital, The Door, The Mount Sinai Adolescent Clinic',\n",
       "  \"New York University, CUNY Baruch College, Parsons School of Design, St. John's University\",\n",
       "  'Dance Film Association, Dance Makers Film Workshop, Theatre Development Fund',\n",
       "  'W!SE, Big Brothers Big Sisters, Peer Health Exchange, New York Public Library, United Way NYC',\n",
       "  'Deloitte LLP Consulting and Financial Services, Kaplan, Two Sigma Technology and Consulting',\n",
       "  '',\n",
       "  'Movement Research',\n",
       "  'Incoming students are expected to attend school orientation in June., Internships are encouraged and supported., Extra academic support is available daily for all students in all subjects.',\n",
       "  'Community Service Requirement, Dress Code Required, Extended Day Program Requirement, Weekend Program offered',\n",
       "  '8:15 AM',\n",
       "  '3:15 PM',\n",
       "  'This school will provide students with disabilities the supports and services indicated on their IEPs.',\n",
       "  'ESL',\n",
       "  'Not Functionally Accessible',\n",
       "  '3',\n",
       "  'Open to New York City residents',\n",
       "  'For M35B only: Open only to students whose home language is Chinese (Mandarin)',\n",
       "  '',\n",
       "  '',\n",
       "  '',\n",
       "  '',\n",
       "  '',\n",
       "  '',\n",
       "  '',\n",
       "  '',\n",
       "  '200 Monroe StreetNew York, NY 10002(40.7123318510005, -73.98479662499966)'],\n",
       " ['01M450',\n",
       "  'East Side Community School',\n",
       "  'Manhattan',\n",
       "  'M060',\n",
       "  '212-460-8467',\n",
       "  '212-260-9657',\n",
       "  '6',\n",
       "  '12',\n",
       "  '',\n",
       "  '',\n",
       "  'M101, M102, M103, M14A, M14D, M15, M15-SBS, M2, M23, M3, M8, M9',\n",
       "  '6 to Astor Place ; L to 1st Ave',\n",
       "  '420 East 12 Street',\n",
       "  'New York',\n",
       "  'NY',\n",
       "  '10009',\n",
       "  'www.eschs.org',\n",
       "  '649',\n",
       "  'N/A',\n",
       "  'Consortium School',\n",
       "  'We are a small 6-12 secondary school that prepares all students for college and careers. We set high standards and work with all of our students to help them meet these standards. With no more than 25 students per class, teachers are able to provide personal attention in a respectful environment. Our staff makes sure that we know every student well. We assess our students by challenging them to use what they have learned in creative ways to complete interesting projects. Students, staff, families and community members all see themselves as part of a team whose main goal is the success of every individual student.',\n",
       "  'Our Advisory System ensures that we can effectively address our students\\xe2\\x80\\x99 and their families\\xe2\\x80\\x99 needs; Our full-time college counselor, through the College Bound Initiative, helps prepare students for the college application process; Advanced students take College Now classes at Hunter College; Electives include: Visual Art, Rapping/Poetry & Beat Making, Choir, Digital Art and Photography, Skateboarding, Film Making, Chess, Dance, Bicycling, Video Game Design',\n",
       "  '',\n",
       "  'Calculus AB, English Literature and Composition',\n",
       "  '',\n",
       "  'American Sign Language, Arabic, Chinese (Mandarin), English, French, German, Hebrew, Italian, Japanese, Korean, Latin, Modern Greek, Polish, Portuguese, Russian, Spanish',\n",
       "  \"After-School Tutoring, Art Portfolio Classes, Chess Team, I Challenge Myself Bicycling Program, Dance, Environmental Committee, Gay/Straight Alliance, Hip-Hop Beat Making & Rhyming, Model UN, School Newspaper, Peer Tutoring, the Brotherhood and Girl's Group, Principal's Book Club, Yoga, Rock Band Program, SAT Prep Classes, Scholars Program, School Newspaper, Skateboarding PE Classes, Student Council, Cheerleading, Gardening Internships, Choir, Travel, Volleyball, Morgan Stanley Internship Program, Saturday Photography Program, Rock Climbing at Brooklyn Boulders, Golf, Video Game Design, Surfing and Snowboarding through Stoked.\",\n",
       "  'Baseball, Basketball, Soccer',\n",
       "  'Basketball, Soccer, Softball',\n",
       "  '',\n",
       "  'Basketball, Bicycling, Fitness, Flag Football, Indoor Soccer, Running, Skateboarding, Softball, Volleyball',\n",
       "  'University Settlement, Big Brothers Big Sisters of New York City, Educational Alliance, CASALEAP, Project Stay.',\n",
       "  '',\n",
       "  'Columbia Teachers College, New York University, The New School, John Jay College, Hunter College, Borough of Manhattan Community College (BMCC) Upward Bound, Bard College, Gettysburg College, Fashion Institute of Technology (FIT) Summer Program, At Home in College CUNY Program.',\n",
       "  ', Internship Program, Loisaida Art Gallery located within the school and online, Loisaidaartgallery.org, Five Boroughs Foundation of Photography, the Nuyorican Poet\\xe2\\x80\\x99s Caf\\xc3\\xa9.',\n",
       "  'College Bound Initiative, Center for Collaborative Education, Stoked, PENCIL, Fund for Public Schools, Ramapo, Facing History and Ourselves, National Lab Day, Chess-in- the-Schools, Sponsors for Educational Opportunity (SEO), Lower East Side Ecology Center, Coalition of Essential Schools, Upward Bound, CARA (College Access: Research & Action).',\n",
       "  'Prudential Securities, Moore Capital, Morgan Stanley, Barclay Intercontinental Hotels, Supreme, Vans, IBM, Guardian Insurance, Altra-Share.',\n",
       "  '',\n",
       "  'Brooklyn Boulders (Rock Climbing)',\n",
       "  'Students present and defend their work to committees twice a year through our portfolio roundtable presentations, Students also must complete Performance-based Assessment Tasks (PBATs) such as a college-level history research paper and a student-designed science experiment as a replacement for the math, science and history Regents Exams; Students do take the ELA Regents Exam; The state recognizes these PBATs as a replacement for the Regents Exams, Through our engaging curriculum, students creatively apply their knowledge to complete interesting and rigorous projects',\n",
       "  'Our school requires an Academic Portfolio for graduation',\n",
       "  '8:30 AM',\n",
       "  '3:30 PM',\n",
       "  'This school will provide students with disabilities the supports and services indicated on their IEPs.',\n",
       "  'ESL',\n",
       "  'Not Functionally Accessible',\n",
       "  '1',\n",
       "  'Priority to continuing 8th graders',\n",
       "  'Then to New York City residents',\n",
       "  '',\n",
       "  '',\n",
       "  '',\n",
       "  '',\n",
       "  '',\n",
       "  '',\n",
       "  '',\n",
       "  '',\n",
       "  '420 East 12 StreetNew York, NY 10009(40.729782687000466, -73.98304144099967)'],\n",
       " ['01M509',\n",
       "  'Marta Valle High School',\n",
       "  'Manhattan',\n",
       "  'M025',\n",
       "  '212-473-8152',\n",
       "  '212-475-7588',\n",
       "  '9',\n",
       "  '12',\n",
       "  '',\n",
       "  '',\n",
       "  'B39, M103, M14A, M14D, M15, M15-SBS, M21, M22, M8, M9',\n",
       "  'B, D to Grand St ; F, J, M, Z to Delancey St-Essex St',\n",
       "  '145 Stanton Street',\n",
       "  'New York',\n",
       "  'NY',\n",
       "  '10002',\n",
       "  'www.martavalle.org',\n",
       "  '401',\n",
       "  'N/A',\n",
       "  '',\n",
       "  'Marta Valle High School (MVHS) offers a strong program of academic and character development in the tradition of our namesake Marta Valle, a social worker, youth advocate and community organizer. Our Core Values \\xe2\\x80\\x93 Respect, Leadership, Integrity, Diligence and Service \\xe2\\x80\\x93 are woven throughout everything we do. Our academics are supplemented by electives in the arts. As an iZone school, we prepare our students to meet the challenges of both college and career. Our students can earn Advanced Placement credits and earn college credit at the City University of New York (CUNY). MVHS is a place where \\xe2\\x80\\x98Educating Hearts and Minds for the 21st Century\\xe2\\x80\\x99 is a reality.',\n",
       "  'Advanced Regents Diploma, Early Graduation, up to 8 college credits through College Now, Mastery-based Grading System, College Placement Office, College Adviser, College For Every Student, Statistics, Culinary Arts, Video Production, Music Production, Piano, Visual Art, Drama, Dance, Advisory, Culinary Arts Kitchen, Fitness and Weight Training Studio, Media Lab, Music Recording, Video Production and Dance Studios; Technology integration through Blended Online Instructional Model; Living Environment, Chemistry Science Labs',\n",
       "  'French, Spanish',\n",
       "  'English Literature and Composition, Studio Art: Drawing',\n",
       "  '',\n",
       "  'Spanish',\n",
       "  \"Model Peer Leadership Program, 'The Vine' Student Newsletter, 21st Century After-school Program, Student Ambassadors, Animation, Annual College and Career Fair, Annual Family Night, Art, Audio Recording, Camping, Theater Trips, Cheerleading, Chorus, College Trips & Tours, CUNY and Free Application for Federal Student Aid (FAFSA) Application Workshops, Dance, Film, Gallatin Great Works Project (NYU), Kaplan SAT Prep, Monthly Family Resource Fairs, MOUSE Squad, Music Recording, National Honor Society, on-site Placement and Referral Office for Summer Youth Employment Program, Parent Resource Room, Painting, Peer Mediation and Conflict Resolution, Piano, Princeton Center for Leadership, Recycling, Saturday Success Academy Regents Prep, Smart and Fabulous Fashion Show, Songwriting, Step Dance, Student Advisory Council, Student Ambassador Program, Sarah Lawrence College Student Interns, lunchtime Cafe Clubs, Theater, Video and Production, Visual Art, Voice, Young Entrepreneurs\",\n",
       "  'Basketball, Rugby',\n",
       "  'Rugby, Volleyball',\n",
       "  'Rugby',\n",
       "  'Volleyball, Zumba',\n",
       "  \"NYCDOE Innovation Zone Lab Site, Grand Street Settlement, Learning Through an Expanded Arts Program (LeAP), NYU Gallatin Writing Project, Lower East Side Girls' Club, Lower East Side Family Alliance, Relationship Abuse Prevention Program (RAPP).\",\n",
       "  \"Gouvenuer's Hospital\",\n",
       "  'New York University (NYU), Sarah Lawrence College, Williams College, Borough of Manhattan Community College (BMCC), Empire State College, Minister of Education of Quebec, International Remote Networked Schools Project',\n",
       "  'Young Audiences, The National Arts Club, Educational Network of Artists and Creative Theatre (ENACT), Creative Cookie',\n",
       "  'College for Every Student (CFES), Morningside Center for Teaching Social Responsibility, Australian United States Services in Education (AUSSIE), Careers through Culinary Arts Program (C-CAP), Childsight',\n",
       "  'Est\\xc3\\xa9e Lauder',\n",
       "  'Bank of America',\n",
       "  'CASALEAP, Beacon',\n",
       "  'Students Dress for Success, Summer Bridge to Success Program for incoming students in July offers HS credits, Innovative Advisory Program',\n",
       "  'Community Service Requirement, Extended Day Program, Summer Internship Program offered',\n",
       "  '8:00 AM',\n",
       "  '3:30 PM',\n",
       "  'This school will provide students with disabilities the supports and services indicated on their IEPs.',\n",
       "  'ESL',\n",
       "  'Functionally Accessible',\n",
       "  '1',\n",
       "  'Priority to District 1 students or residents',\n",
       "  'Then to Manhattan students or residents',\n",
       "  'Then to New York City residents',\n",
       "  '',\n",
       "  '',\n",
       "  '',\n",
       "  '',\n",
       "  '',\n",
       "  '',\n",
       "  '',\n",
       "  '145 Stanton StreetNew York, NY 10002(40.720569079000484, -73.98567269099965)'],\n",
       " ['01M539',\n",
       "  'New Explorations into Science, Technology and Math High School',\n",
       "  'Manhattan',\n",
       "  'M022',\n",
       "  '212-677-5190',\n",
       "  '212-260-8124',\n",
       "  'K',\n",
       "  '12',\n",
       "  '',\n",
       "  '',\n",
       "  'B39, M14A, M14D, M21, M22, M8, M9',\n",
       "  'F, J, M, Z to Delancey St-Essex St',\n",
       "  '111 Columbia Street',\n",
       "  'New York',\n",
       "  'NY',\n",
       "  '10002',\n",
       "  'www.nestmk12.net',\n",
       "  '1725',\n",
       "  'N/A',\n",
       "  '',\n",
       "  'New Explorations into Science, Technology and Math High School (NEST+m) is a K-12 school that is committed to providing an exemplary accelerated education for students of diverse backgrounds who have the ability and promise to meet the demands of an academically challenging curriculum. The Upper School (grades 9-12) engages students to think abstractly and critically, and encourages them to formulate questions that guide their learning experience via discussions and research. Multiple opportunities exist for students to have internships at local universities in the sciences and the arts.',\n",
       "  '1st level science sequence - 9th grade: Regents Physics with a Recitation/Applications course; 10th grade: Regents Chemistry and 1 term of Computer Science with the option of an Student Research class; 11th grade: Living Environment; 12th grade: Options include science electives, AP Biology, AP Chemistry, AP Physics or AP Environmental Science; The 2nd level science sequence is for accelerated students who have demonstrated aptitude for the sciences and mathematics; can begin with AP Physics B in 9th grade, AP Chemistry in 10th grade, AP Biology in 11th grade, and AP Environmental Science in 12th grade',\n",
       "  'Chinese (Mandarin), French, Italian, Latin, Spanish',\n",
       "  'Biology, Calculus AB, Calculus BC, Chemistry, Chinese Language and Culture, Comparative Government and Politics, Computer Science A, English Language and Composition, English Literature and Composition, Environmental Science, European History, French Language and Culture, Human Geography, Microeconomics, Physics B, Psychology, Spanish Language and Culture, Statistics, United States History, World History',\n",
       "  '',\n",
       "  '',\n",
       "  'After-school Jazz Band, Annual Coffee House Concert, Annual Gallery Walk Art Exhibitions, Badminton, Baseball, Basketball, Borough Advisory Student Council, Boys Soccer, Community Service Learning, Competitive Ballroom Dancing, Creative Writing, Debate Committee, Debate Team, Educational Field Trips, Girls Volleyball, Green Club, Gay-Straight Alliance (GSA), Handball, Heart to Heart Charity, Kangaroo International Competition, Mandarin, Math Team, Model UN, National and Local Chess Championships, National Honor Society, NESTFest (Annual Talent Show), New York Math League Competition, Peer Leaders, Red Cross, Robotics, Scholastic Arts Competition, School Leadership Team (SLT), Social Justice, Softball, Student Government, The City Tones (Chorus), The Gauss Contest, The Purple Meet, Time Warner Cable, Ultimate Frisbee, Varsity Dance Team, Winter and Spring School Plays, World Science Festival',\n",
       "  'Basketball, Fencing, Indoor Track',\n",
       "  'Basketball, Fencing, Indoor Track',\n",
       "  '',\n",
       "  'Badminton, Baseball, Cross-Country, Dance, Outdoor Track, Soccer, Softball, Table Tennis, Volleyball',\n",
       "  '7th Precinct Community Affairs, NYCWastele$$, Penny Harvest, Blood Drive, CASALEAP, University Settlement House, Henry Street Settlement, Toys for Tots',\n",
       "  '',\n",
       "  \"Hunter College, New York University, Cornell University, St. John's University, Pace University, Baruch College\",\n",
       "  'VH1, Dancing Classrooms, Center for Arts Education, New Museum, School of Visual Arts, The Jazz Standard, New York State School Music Associations, American Choral Directors Association; Visiting Artists: Jeff Lederer, Wynton Marsalis, Monica Buffington, Ralph Alessi',\n",
       "  'After 3',\n",
       "  'Time Warner Cable, Google, IBM, MET Project, Sony, Vital NY',\n",
       "  '',\n",
       "  '',\n",
       "  'Dress Code Required: Business Casual - shirt/blouse, khaki, corduroy or dark denim (navy, black, brown, dark gray) pants, dress slacks/skirt/dress. On Assembly Days, students wear job interview clothing (Boys - shirt and tie, optional blazer)., 9th grade math and science are single gender classes., Community Service Requirement - All Upper School students are required to complete 60 hours of Community Service., Chancellor\\xe2\\x80\\x99s Arts Endorsed Diploma',\n",
       "  '',\n",
       "  '8:15 AM',\n",
       "  '4:00 PM',\n",
       "  'This school will provide students with disabilities the supports and services indicated on their IEPs.',\n",
       "  'ESL',\n",
       "  'Not Functionally Accessible',\n",
       "  '1',\n",
       "  'Priority to continuing 8th graders',\n",
       "  'Then to New York City residents',\n",
       "  '',\n",
       "  '',\n",
       "  '',\n",
       "  '',\n",
       "  '',\n",
       "  '',\n",
       "  '',\n",
       "  '',\n",
       "  '111 Columbia StreetNew York, NY 10002(40.718725451000466, -73.97942638599966)'],\n",
       " ['01M696',\n",
       "  'Bard High School Early College',\n",
       "  'Manhattan',\n",
       "  'M097',\n",
       "  '212-995-8479',\n",
       "  '212-777-4702',\n",
       "  '9',\n",
       "  '12',\n",
       "  '',\n",
       "  '',\n",
       "  'M14A, M14D, M21, M22, M9',\n",
       "  'N/A',\n",
       "  '525 East Houston Street',\n",
       "  'New York',\n",
       "  'NY',\n",
       "  '10002',\n",
       "  'www.bard.edu/bhsec',\n",
       "  '560',\n",
       "  'N/A',\n",
       "  '',\n",
       "  'Bard High School Early College Manhattan (BHSEC Manhattan) was founded on the belief that many students are ready to do serious college work at age 16. Bard College partnered with the NYC Department of Education to create an innovative program that enables high school students to move, in four years, from 9th grade through the first two years of college, earning a high school diploma, up to 60 college credits and an Associate of Arts (AA) degree upon graduation.',\n",
       "  \"In the first two years at BHSEC, students undertake a course of study designed to provide a grounding in mathematics, science, history, English and a foreign language; They participate in a variety of arts classes and complete state requirements in Physical Education and Health; Students' work in the college program builds on their high school studies; BHSEC offers a variety of college courses, as well as the opportunity for students to engage in independent studies of their own design; Students must complete 60 college credits to receive the Bard College AA degree; Our curriculum is designed to enable students to transfer to colleges and universities with up to two years of college credit\",\n",
       "  'Chinese (Mandarin), Latin, Spanish',\n",
       "  '',\n",
       "  '',\n",
       "  '',\n",
       "  \"Bard Bulletin online newspaper, Bardvark student newspaper, Art Magazine, Asian Culture, BHSEC Connect, BHSEC Literary Magazine, BHSEC Student Activist Network, BHSEC Student's Union, Book, Break Dance, CAFE performances, Chinese Language and Culture, Current Events, Debate, ECO, Film, Future Doctors and Scientists of America (FDSA), Karaoke, Literary Magazine, MAC (Making A Change), Mock Trial, Model UN, Muslim Students Association, Philosophy, Step Team, Swim, Table Tennis, Theater Production, Winter and Spring Concerts, Yearbook\",\n",
       "  'Basketball, Soccer, Tennis',\n",
       "  'Basketball, Soccer, Tennis, Volleyball',\n",
       "  'Outdoor Track',\n",
       "  'Co-ed Ultimate Frisbee',\n",
       "  'Lower East Side Girls Club, Third Street Music School Settlement, Educational Alliance Edgies Teen Center, Grand Street Settlement, Henry Street Settlement, Lower East Side Ecology Center, YMCA Global Teens',\n",
       "  '',\n",
       "  \"Bard College, Bard College at Simon's Rock, Rockefeller University, New York University, Union College\",\n",
       "  'American Symphony Orchestra, American Museum of Natural History',\n",
       "  '',\n",
       "  '',\n",
       "  '',\n",
       "  'New York Academy of Sciences',\n",
       "  '',\n",
       "  'Student Summer Orientation',\n",
       "  '9:00 AM',\n",
       "  '3:50 PM',\n",
       "  'This school will provide students with disabilities the supports and services indicated on their IEPs.',\n",
       "  'ESL',\n",
       "  'Not Functionally Accessible',\n",
       "  '1',\n",
       "  'Open to New York City residents',\n",
       "  '',\n",
       "  '',\n",
       "  '',\n",
       "  '',\n",
       "  '',\n",
       "  '',\n",
       "  '',\n",
       "  '',\n",
       "  '',\n",
       "  '525 East Houston StreetNew York, NY 10002(40.718961617000446, -73.97606602099967)'],\n",
       " ['02M047',\n",
       "  '47 The American Sign Language and English Secondary School',\n",
       "  'Manhattan',\n",
       "  'M047',\n",
       "  '917-326-6668',\n",
       "  '917-326-6688',\n",
       "  '9',\n",
       "  '12',\n",
       "  '',\n",
       "  '',\n",
       "  'M101, M102, M14A, M14D, M15, M15-SBS, M2, M23, M34A-SBS, M5, M9',\n",
       "  '4, 5, Q to 14th St-Union Square ; 6, N, R to 23rd St ; L to 3rd Ave',\n",
       "  '223 East 23 Street',\n",
       "  'New York',\n",
       "  'NY',\n",
       "  '10010',\n",
       "  'www.47aslhs.org',\n",
       "  '184',\n",
       "  'N/A',\n",
       "  '',\n",
       "  'In addition to the New York State Regents curriculum, our students learn American Sign Language. Students are expected to graduate with second-language proficiency in American Sign Language.',\n",
       "  'Small class sizes, Pre-College Now for ninth grade, College Now, Summer programs at various colleges, Intensive instruction in American Sign Language, Collaboration with The School of Cooperative Technical Education for juniors and seniors interested in taking more intensive technical or vocational courses, Community-based internships',\n",
       "  'American Sign Language',\n",
       "  '',\n",
       "  '',\n",
       "  '',\n",
       "  \"Academic Bowl, ACT and SAT Test Preparation, After-school Mentoring and Tutoring, American Sign Language (ASL), Artist-in-Residence from Children's Museum of the Arts, Arts and Crafts, Boys Club, Chess, Comic Books, Community and Museum Internships, Computer-Photoshop, Conflict Resolution, Dance, Drama, Girls Club, Knitting, Mock Debates, One-on-one tutoring in all subjects, Peer Mediation, Regents Test Preparation, School Newspaper (in print and video), Student Council, Student Discussion Boards, Video Production and Editing, Visits to American Sign Language (ASL) Interpreted Broadway shows, Weight Room, Yearbook\",\n",
       "  'Basketball',\n",
       "  '',\n",
       "  '',\n",
       "  'Basketball, Cross Country, Track, Volleyball',\n",
       "  'WRI-Welfare Rights Initiative at Hunter College, New York City (NYC) Police Academy, Housing Works Thrift Store, City Opera Thrift Store, Federation Employment and Guidance Services, Inc. (FEGS), New York Road Runners (NYRR)',\n",
       "  '',\n",
       "  'New York University (NYU), The City University of New York (CUNY), Baruch College, LaGuardia Community College, Gallaudet University, Rochester Institute of Technology (RIT)',\n",
       "  \"Children's Museum of Manhattan, Third Street Music School Settlement\",\n",
       "  '',\n",
       "  'PENCIL',\n",
       "  '',\n",
       "  '',\n",
       "  'Our student body is composed of deaf, hard-of-hearing and hearing students, Our students graduate with bilingual language proficiency (American Sign Language and English), American Sign Language classes are offered to parents and the community',\n",
       "  'Community Service Requirement, Extended Day Program, Student Summer Orientation, Weekend Program offered',\n",
       "  '8:45 AM',\n",
       "  '3:45 PM',\n",
       "  'This school will provide students with disabilities the supports and services indicated on their IEPs.',\n",
       "  'ESL',\n",
       "  'Functionally Accessible',\n",
       "  '1',\n",
       "  'Priority to \\xe2\\x80\\x9c47\\xe2\\x80\\x9d American Sign Language & English Lower School students',\n",
       "  'Then to New York City residents who know or are interested in learning American Sign Language',\n",
       "  '',\n",
       "  '',\n",
       "  '',\n",
       "  '',\n",
       "  '',\n",
       "  '',\n",
       "  '',\n",
       "  '',\n",
       "  '223 East 23 StreetNew York, NY 10010(40.738599087000466, -73.98251191099968)'],\n",
       " ['02M135',\n",
       "  'The Urban Assembly School for Emergency Management',\n",
       "  'Manhattan',\n",
       "  'M625',\n",
       "  '212-245-4670',\n",
       "  '212-246-4669',\n",
       "  '9',\n",
       "  '11',\n",
       "  '9',\n",
       "  '12',\n",
       "  'M10, M104, M11, M20, M31, M34A-SBS, M42, M50, M57, M7',\n",
       "  '1, C, E to 50th St ; A to 42nd St-Port Authority Bus Terminal ; B, D to 59th St-Columbus Circle ; B, D to 7th Ave ; N, Q, R to 49th St',\n",
       "  '439 West 49Th Street',\n",
       "  'New York',\n",
       "  'NY',\n",
       "  '10019',\n",
       "  'www.uasem.org',\n",
       "  '116',\n",
       "  'Graphics Educational Campus',\n",
       "  'CTE School',\n",
       "  'The Urban Assembly School for Emergency Management (UASEM) provides students with real-world learning opportunities. Students at UASEM have the unique opportunity to participate in career-related courses, internships and emergency simulations with our partners Federal Emergency Management Agency (FEMA), American Red Cross, Department of Homeland Security and many more. With help from our partners, we develop curricula and activities in Emergency Management that create a sense of personal responsibility and empowerment among our students, parents and staff. Students will develop leadership skills, learn how to use mapping and emergency response software as well as CPR, and learn how to recognize and respond to hazardous materials, among other abilities.',\n",
       "  'Courses in our three Emergency Management (EM) Career Pathways are: Emergency Management, Response and Recovery and Emergency Technology and Communications; Students choose a pathway in 11th and 12th grade; Students participate in at least one major emergency simulation; Students who successfully complete their residency will receive a special industry certification and/or college-approved credentials on their high school diploma; As we expand, we plan to offer Spanish Native Language Arts and Biology, English Language and Composition, Statistics AP classes',\n",
       "  '',\n",
       "  '',\n",
       "  '',\n",
       "  '',\n",
       "  'Peer Mediation, Peer Tutoring, Student Council, National Honor Society, Yearbook, PSAT and SAT Preparation, Step, Dance; Clubs: Drama, Art and Photography, Chess',\n",
       "  'Baseball, Basketball, Outdoor Track, Soccer',\n",
       "  'Basketball, Outdoor Track, Soccer, Softball, Volleyball',\n",
       "  'Bowling, Tennis',\n",
       "  'Intramural Basketball',\n",
       "  '',\n",
       "  '',\n",
       "  '',\n",
       "  '',\n",
       "  '',\n",
       "  '',\n",
       "  '',\n",
       "  '',\n",
       "  'Internship Program Offered, Freshman Summer Orientation at the American Red  Cross headquarters, Home visits scheduled for all incoming freshmen, Incoming freshmen are assessed in reading and math in  the late summer prior to the school year',\n",
       "  'Community Service Requirement',\n",
       "  '8:41 AM',\n",
       "  '3:31 PM',\n",
       "  'This school will provide students with disabilities the supports and services indicated on their IEPs.',\n",
       "  'ESL',\n",
       "  'Not Functionally Accessible',\n",
       "  '1',\n",
       "  'Priority to Manhattan students or residents who attend an information session',\n",
       "  'Then to New York City residents who attend an information session',\n",
       "  'Then to Manhattan students or residents',\n",
       "  'Then to New York City residents',\n",
       "  '',\n",
       "  '',\n",
       "  '',\n",
       "  '',\n",
       "  '',\n",
       "  '',\n",
       "  '439 West 49Th StreetNew York, NY 10019(40.763361732000476, -73.99050909099964)'],\n",
       " ['02M139',\n",
       "  'Stephen T. Mather Building Arts & Craftsmanship High School',\n",
       "  'Manhattan',\n",
       "  'M520',\n",
       "  '212-225-0998',\n",
       "  '212-225-0996',\n",
       "  '9',\n",
       "  '11',\n",
       "  '9',\n",
       "  '12',\n",
       "  'M103, M15, M22, M5, M9',\n",
       "  '1 to Chambers St ; 2, 3, A, C to Fulton St-Broadway-Nassau ; 4, 5, 6, J, Z to Brooklyn Bridge - City Hall ; E to Park Place ; N, Q to Canal St ; R to City Hall',\n",
       "  '411 Pearl Street',\n",
       "  'New York',\n",
       "  'NY',\n",
       "  '10038',\n",
       "  'www.MatherHSNYC.org',\n",
       "  '85',\n",
       "  'Murry Bergtraum Educational Campus',\n",
       "  'CTE School',\n",
       "  'At Stephen T. Mather Building Arts & Craftsmanship High School (Mather HS), you will prepare for college through hands-on learning and skills training in all of your classes. Partnered with the National Park Service, our school offers Career and Technical Education pathways in the specialized building arts of carpentry, masonry, decorative finishes, as well as landscape management through the lens of historic preservation. You will build a strong academic foundation and learn solid trade skills, opening doors to a secure and successful future.',\n",
       "  'Graduate with a CTE industry approved certification and/or college-approved credentials; Learn skills in Carpentry (woodworking), Masonry (stone/brick/plastering); Decorative Finishes (art/painting/ornamental work); Landscape Management; Internships and Job Shadowing with our partner The National Park Service (NPS) and other industry partners; Our mathematics, sciences, technology and humanities courses have real-world applications; Field trips, especially to partner sites such as Ellis Island and the Statue of Liberty; Regents and Advanced Regents Diplomas with a CTE Endorsement; Monthly advisory challenges; Online grade system to track your progress on a mastery/skills-based system; School-wide Advisory Program',\n",
       "  'Arabic, French, Spanish, Spanish Native Language Arts',\n",
       "  'Art History, Biology, Chemistry, Studio Art: 2-D Design, Studio Art: 3-D Design, United States History',\n",
       "  'Art History, Studio Art: 2-D Design, Studio Art: 3-D Design, United States History',\n",
       "  'Arabic, French, Spanish',\n",
       "  'Student council, Wednesday community service, yearbook, Naval JrROTC, National Honor Society, Peer Mediation, tutoring/peer tutoring, Gay/Straight Alliance, among others',\n",
       "  'Baseball & JV Baseball, Basketball & JV Basketball, Outdoor Track, Soccer',\n",
       "  'Basketball, Softball, Volleyball',\n",
       "  'Bowling, Handball, Outdoor Track',\n",
       "  'Soccer, intramural basketball, flag football, weightlifting & aerobic training',\n",
       "  'National Park Service (NPS), which manages 400+ national parks, historic sites and monuments nationwide.',\n",
       "  '',\n",
       "  'CUNY; American College of the Building Arts',\n",
       "  'The Engaging Educator (Improv)',\n",
       "  'Students complete 100 hours of community service by their senior year, volunteering with nonprofit organizations including Bideawee Animal Shelter, Ranger Conservation Corps, Chemo Comfort, Project Sunshine, Harlem Tutorial, NYC Foodbank, among many others.',\n",
       "  'CTE Advisory Council',\n",
       "  '',\n",
       "  '',\n",
       "  'Dress Code: Mather-branded shirt/polo/t-shirt/lanyard & patch visible at all times;  safety equipment at school and on worksites. Mather-branded shirts and other items are available for purchase online and at the school., Tutoring available',\n",
       "  'Community Service Requirement, Extended Day Program, Internship Requirement, Student Summer Orientation, Weekend Program offered',\n",
       "  '9:10 AM',\n",
       "  '3:30 PM',\n",
       "  'This school will provide students with disabilities the supports and services indicated on their IEPs.',\n",
       "  'ESL',\n",
       "  'Functionally Accessible',\n",
       "  '1',\n",
       "  'Priority to Manhattan students or residents who attend an information session',\n",
       "  'Then to New York City residents who attend an information session',\n",
       "  'Then to Manhattan students or residents',\n",
       "  'Then to New York City residents',\n",
       "  '',\n",
       "  '',\n",
       "  '',\n",
       "  '',\n",
       "  '',\n",
       "  '',\n",
       "  '411 Pearl StreetNew York, NY 10038(40.71067947100045, -74.00080702099967)'],\n",
       " ['02M260',\n",
       "  'M.S. 260 Clinton School Writers & Artists',\n",
       "  'Manhattan',\n",
       "  'M933',\n",
       "  '212-695-9114',\n",
       "  '212-695-9611',\n",
       "  '6',\n",
       "  '9',\n",
       "  '6',\n",
       "  '12',\n",
       "  'M104, M11, M20, M23, M34A-SBS, M34-SBS, M4, M42, M7',\n",
       "  '1, 2, 3, A, C, E to 34th St - Penn Station',\n",
       "  '425 West 33Rd Street',\n",
       "  'Manhattan',\n",
       "  'NY',\n",
       "  '10001',\n",
       "  'www.theclintonschool.net',\n",
       "  '266',\n",
       "  'N/A',\n",
       "  'New School',\n",
       "  'The Clinton School believes that students who are prepared for college must have an education that encourages them to take risks as they produce and perform. Our college preparatory curriculum relies on our expertise in developing writers and building a tight-knit community. As we evolve and grow, Clinton remains committed to developing students who can think analytically and write creatively in a wide range of genres. Our arts programming builds on our 25 years of experience in visual and performing arts on a middle school level. We are also deepening our existing partnerships with City Center, Theater for a New Audience, Dancing Classrooms and the Associated Press, and taking advantage of our proximity to new cultural partners. Our academic core is based on the International Baccalaureate Diploma Program. The IB Diploma is a good fit for our diverse community, and for the creative, confident, thoughtful and self-motivated learners that have always been successful at Clinton. Beyond the IB, we offer opportunities to take college courses at neighboring universities.',\n",
       "  'International Baccalaureate Diploma Program and corresponding exams at the end of 12th grade, Free college courses at neighboring universities, International Travel, Special Arts Programs, Music, Internships, College Mentoring',\n",
       "  'Chinese (Mandarin)',\n",
       "  '',\n",
       "  '',\n",
       "  '',\n",
       "  'College Now, Technology, Model UN, Student Government, School Leadership Team, Music, School Musical, National Honor Society, The Clinton Post (School Newspaper), Clinton Soup (Literary Magazine), GLSEN, Glee',\n",
       "  'Soccer, Volleyball',\n",
       "  'Soccer, Volleyball',\n",
       "  'Cross Country, Outdoor Track',\n",
       "  'Cross Country, Track and Field, Soccer, Flag Football, Basketball',\n",
       "  'Unleashed',\n",
       "  '',\n",
       "  '',\n",
       "  'Whitney Museum, Theater for a New Audience, City Center, Dancing Classrooms',\n",
       "  '',\n",
       "  '',\n",
       "  '',\n",
       "  '',\n",
       "  'The 2015 cohort will be the first high school class in our newly constructed home located at 10 East 15th Street, allowing students from all parts of the city easy access by way of public transportation routed through Union Square. As our building is a new construction, it contains:  -visual arts rooms with kilns  -a music room with separate practice rooms  -two science labs  -a library and lounge designed to serve as a social media center and gathering space  -a cafeteria with treeline views  -a 8,500 square foot gym  -a college guidance suite  -classroom design that allows for maximum natural light  -three elevators',\n",
       "  'Community Service Requirement, Student Summer Orientation',\n",
       "  '',\n",
       "  '',\n",
       "  'This school will provide students with disabilities the supports and services indicated on their IEPs.',\n",
       "  'ESL',\n",
       "  'Not Functionally Accessible',\n",
       "  '1',\n",
       "  'Priority to continuing 8th graders',\n",
       "  'Then to Manhattan students or residents',\n",
       "  'Then to New York City residents',\n",
       "  '0',\n",
       "  '',\n",
       "  '',\n",
       "  '',\n",
       "  '',\n",
       "  '',\n",
       "  '',\n",
       "  '425 West 33Rd StreetManhattan, NY 10001(40.75321087800046, -73.99785851499968)']]"
      ]
     },
     "execution_count": 11,
     "metadata": {},
     "output_type": "execute_result"
    }
   ],
   "source": [
    "largeSchools1.take(10)"
   ]
  },
  {
   "cell_type": "code",
   "execution_count": null,
   "metadata": {
    "collapsed": true
   },
   "outputs": [],
   "source": []
  }
 ],
 "metadata": {
  "kernelspec": {
   "display_name": "Python 2",
   "language": "python",
   "name": "python2"
  },
  "language_info": {
   "codemirror_mode": {
    "name": "ipython",
    "version": 2
   },
   "file_extension": ".py",
   "mimetype": "text/x-python",
   "name": "python",
   "nbconvert_exporter": "python",
   "pygments_lexer": "ipython2",
   "version": "2.7.11"
  }
 },
 "nbformat": 4,
 "nbformat_minor": 0
}
