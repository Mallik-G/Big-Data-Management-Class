{
 "cells": [
  {
   "cell_type": "code",
   "execution_count": 33,
   "metadata": {
    "collapsed": true
   },
   "outputs": [],
   "source": [
    "from pyspark.sql import  SQLContext\n",
    "sqlContext=SQLContext(sc)"
   ]
  },
  {
   "cell_type": "code",
   "execution_count": 34,
   "metadata": {
    "collapsed": true
   },
   "outputs": [],
   "source": [
    "SAT_FN = 'SAT_Results.csv'\n",
    "HSD_FN = 'DOE_High_School_Directory_2014-2015.csv'"
   ]
  },
  {
   "cell_type": "code",
   "execution_count": 35,
   "metadata": {
    "collapsed": false
   },
   "outputs": [],
   "source": [
    "df = sqlContext.read.format('com.databricks.spark.csv').options(header='true', inferschema='true').load(HSD_FN)"
   ]
  },
  {
   "cell_type": "code",
   "execution_count": 36,
   "metadata": {
    "collapsed": false,
    "scrolled": true
   },
   "outputs": [
    {
     "name": "stdout",
     "output_type": "stream",
     "text": [
      "+-------------------+--------------------+----+-------------+------------+----------+--------------+--------------+-----------------+-----------------+----+------+----------------------+----+----------+----+-------+--------------+-----------+-----------+------------------+------------------+----------------+-------------------------+-----------------+-----------------------+--------------------------+----------------+-----------------+----------------+-------------+-----------+----------------+----------------+----------------+-----------------+-----------------+-----------------+-------------+-----------+-----------+----------+--------+-----------+------------+--------------------------------+---------------+----------+----------+----------+----------+----------+----------+----------+----------+----------+----------+----------+\n",
      "|                dbn|         school_name|boro|building_code|phone_number|fax_number|grade_span_min|grade_span_max|expgrade_span_min|expgrade_span_max| bus|subway|primary_address_line_1|city|state_code| zip|website|total_students|campus_name|school_type|overview_paragraph|program_highlights|language_classes|advancedplacement_courses|online_ap_courses|online_language_courses|extracurricular_activities|psal_sports_boys|psal_sports_girls|psal_sports_coed|school_sports|partner_cbo|partner_hospital|partner_highered|partner_cultural|partner_nonprofit|partner_corporate|partner_financial|partner_other|addtl_info1|addtl_info2|start_time|end_time|se_services|ell_programs|school_accessibility_description|number_programs|priority01|priority02|priority03|priority04|priority05|priority06|priority07|priority08|priority09|priority10|Location 1|\n",
      "+-------------------+--------------------+----+-------------+------------+----------+--------------+--------------+-----------------+-----------------+----+------+----------------------+----+----------+----+-------+--------------+-----------+-----------+------------------+------------------+----------------+-------------------------+-----------------+-----------------------+--------------------------+----------------+-----------------+----------------+-------------+-----------+----------------+----------------+----------------+-----------------+-----------------+-----------------+-------------+-----------+-----------+----------+--------+-----------+------------+--------------------------------+---------------+----------+----------+----------+----------+----------+----------+----------+----------+----------+----------+----------+\n",
      "|           New York|            NY 10002|null|         null|        null|      null|          null|          null|             null|             null|null|  null|                  null|null|      null|null|   null|          null|       null|       null|              null|              null|            null|                     null|             null|                   null|                      null|            null|             null|            null|         null|       null|            null|            null|            null|             null|             null|             null|         null|       null|       null|      null|    null|       null|        null|                            null|           null|      null|      null|      null|      null|      null|      null|      null|      null|      null|      null|      null|\n",
      "| (40.71376394700047| -73.985260039999...|null|         null|        null|      null|          null|          null|             null|             null|null|  null|                  null|null|      null|null|   null|          null|       null|       null|              null|              null|            null|                     null|             null|                   null|                      null|            null|             null|            null|         null|       null|            null|            null|            null|             null|             null|             null|         null|       null|       null|      null|    null|       null|        null|                            null|           null|      null|      null|      null|      null|      null|      null|      null|      null|      null|      null|      null|\n",
      "|           New York|            NY 10002|null|         null|        null|      null|          null|          null|             null|             null|null|  null|                  null|null|      null|null|   null|          null|       null|       null|              null|              null|            null|                     null|             null|                   null|                      null|            null|             null|            null|         null|       null|            null|            null|            null|             null|             null|             null|         null|       null|       null|      null|    null|       null|        null|                            null|           null|      null|      null|      null|      null|      null|      null|      null|      null|      null|      null|      null|\n",
      "|  (40.7123318510005| -73.984796624999...|null|         null|        null|      null|          null|          null|             null|             null|null|  null|                  null|null|      null|null|   null|          null|       null|       null|              null|              null|            null|                     null|             null|                   null|                      null|            null|             null|            null|         null|       null|            null|            null|            null|             null|             null|             null|         null|       null|       null|      null|    null|       null|        null|                            null|           null|      null|      null|      null|      null|      null|      null|      null|      null|      null|      null|      null|\n",
      "|           New York|            NY 10009|null|         null|        null|      null|          null|          null|             null|             null|null|  null|                  null|null|      null|null|   null|          null|       null|       null|              null|              null|            null|                     null|             null|                   null|                      null|            null|             null|            null|         null|       null|            null|            null|            null|             null|             null|             null|         null|       null|       null|      null|    null|       null|        null|                            null|           null|      null|      null|      null|      null|      null|      null|      null|      null|      null|      null|      null|\n",
      "|(40.729782687000466| -73.983041440999...|null|         null|        null|      null|          null|          null|             null|             null|null|  null|                  null|null|      null|null|   null|          null|       null|       null|              null|              null|            null|                     null|             null|                   null|                      null|            null|             null|            null|         null|       null|            null|            null|            null|             null|             null|             null|         null|       null|       null|      null|    null|       null|        null|                            null|           null|      null|      null|      null|      null|      null|      null|      null|      null|      null|      null|      null|\n",
      "|           New York|            NY 10002|null|         null|        null|      null|          null|          null|             null|             null|null|  null|                  null|null|      null|null|   null|          null|       null|       null|              null|              null|            null|                     null|             null|                   null|                      null|            null|             null|            null|         null|       null|            null|            null|            null|             null|             null|             null|         null|       null|       null|      null|    null|       null|        null|                            null|           null|      null|      null|      null|      null|      null|      null|      null|      null|      null|      null|      null|\n",
      "|(40.720569079000484| -73.985672690999...|null|         null|        null|      null|          null|          null|             null|             null|null|  null|                  null|null|      null|null|   null|          null|       null|       null|              null|              null|            null|                     null|             null|                   null|                      null|            null|             null|            null|         null|       null|            null|            null|            null|             null|             null|             null|         null|       null|       null|      null|    null|       null|        null|                            null|           null|      null|      null|      null|      null|      null|      null|      null|      null|      null|      null|      null|\n",
      "|           New York|            NY 10002|null|         null|        null|      null|          null|          null|             null|             null|null|  null|                  null|null|      null|null|   null|          null|       null|       null|              null|              null|            null|                     null|             null|                   null|                      null|            null|             null|            null|         null|       null|            null|            null|            null|             null|             null|             null|         null|       null|       null|      null|    null|       null|        null|                            null|           null|      null|      null|      null|      null|      null|      null|      null|      null|      null|      null|      null|\n",
      "|(40.718725451000466| -73.979426385999...|null|         null|        null|      null|          null|          null|             null|             null|null|  null|                  null|null|      null|null|   null|          null|       null|       null|              null|              null|            null|                     null|             null|                   null|                      null|            null|             null|            null|         null|       null|            null|            null|            null|             null|             null|             null|         null|       null|       null|      null|    null|       null|        null|                            null|           null|      null|      null|      null|      null|      null|      null|      null|      null|      null|      null|      null|\n",
      "|           New York|            NY 10002|null|         null|        null|      null|          null|          null|             null|             null|null|  null|                  null|null|      null|null|   null|          null|       null|       null|              null|              null|            null|                     null|             null|                   null|                      null|            null|             null|            null|         null|       null|            null|            null|            null|             null|             null|             null|         null|       null|       null|      null|    null|       null|        null|                            null|           null|      null|      null|      null|      null|      null|      null|      null|      null|      null|      null|      null|\n",
      "|(40.718961617000446| -73.976066020999...|null|         null|        null|      null|          null|          null|             null|             null|null|  null|                  null|null|      null|null|   null|          null|       null|       null|              null|              null|            null|                     null|             null|                   null|                      null|            null|             null|            null|         null|       null|            null|            null|            null|             null|             null|             null|         null|       null|       null|      null|    null|       null|        null|                            null|           null|      null|      null|      null|      null|      null|      null|      null|      null|      null|      null|      null|\n",
      "|           New York|            NY 10010|null|         null|        null|      null|          null|          null|             null|             null|null|  null|                  null|null|      null|null|   null|          null|       null|       null|              null|              null|            null|                     null|             null|                   null|                      null|            null|             null|            null|         null|       null|            null|            null|            null|             null|             null|             null|         null|       null|       null|      null|    null|       null|        null|                            null|           null|      null|      null|      null|      null|      null|      null|      null|      null|      null|      null|      null|\n",
      "|(40.738599087000466| -73.982511910999...|null|         null|        null|      null|          null|          null|             null|             null|null|  null|                  null|null|      null|null|   null|          null|       null|       null|              null|              null|            null|                     null|             null|                   null|                      null|            null|             null|            null|         null|       null|            null|            null|            null|             null|             null|             null|         null|       null|       null|      null|    null|       null|        null|                            null|           null|      null|      null|      null|      null|      null|      null|      null|      null|      null|      null|      null|\n",
      "|           New York|            NY 10019|null|         null|        null|      null|          null|          null|             null|             null|null|  null|                  null|null|      null|null|   null|          null|       null|       null|              null|              null|            null|                     null|             null|                   null|                      null|            null|             null|            null|         null|       null|            null|            null|            null|             null|             null|             null|         null|       null|       null|      null|    null|       null|        null|                            null|           null|      null|      null|      null|      null|      null|      null|      null|      null|      null|      null|      null|\n",
      "|(40.763361732000476| -73.990509090999...|null|         null|        null|      null|          null|          null|             null|             null|null|  null|                  null|null|      null|null|   null|          null|       null|       null|              null|              null|            null|                     null|             null|                   null|                      null|            null|             null|            null|         null|       null|            null|            null|            null|             null|             null|             null|         null|       null|       null|      null|    null|       null|        null|                            null|           null|      null|      null|      null|      null|      null|      null|      null|      null|      null|      null|      null|\n",
      "|           New York|            NY 10038|null|         null|        null|      null|          null|          null|             null|             null|null|  null|                  null|null|      null|null|   null|          null|       null|       null|              null|              null|            null|                     null|             null|                   null|                      null|            null|             null|            null|         null|       null|            null|            null|            null|             null|             null|             null|         null|       null|       null|      null|    null|       null|        null|                            null|           null|      null|      null|      null|      null|      null|      null|      null|      null|      null|      null|      null|\n",
      "| (40.71067947100045| -74.000807020999...|null|         null|        null|      null|          null|          null|             null|             null|null|  null|                  null|null|      null|null|   null|          null|       null|       null|              null|              null|            null|                     null|             null|                   null|                      null|            null|             null|            null|         null|       null|            null|            null|            null|             null|             null|             null|         null|       null|       null|      null|    null|       null|        null|                            null|           null|      null|      null|      null|      null|      null|      null|      null|      null|      null|      null|      null|\n",
      "|          Manhattan|            NY 10001|null|         null|        null|      null|          null|          null|             null|             null|null|  null|                  null|null|      null|null|   null|          null|       null|       null|              null|              null|            null|                     null|             null|                   null|                      null|            null|             null|            null|         null|       null|            null|            null|            null|             null|             null|             null|         null|       null|       null|      null|    null|       null|        null|                            null|           null|      null|      null|      null|      null|      null|      null|      null|      null|      null|      null|      null|\n",
      "| (40.75321087800046| -73.997858514999...|null|         null|        null|      null|          null|          null|             null|             null|null|  null|                  null|null|      null|null|   null|          null|       null|       null|              null|              null|            null|                     null|             null|                   null|                      null|            null|             null|            null|         null|       null|            null|            null|            null|             null|             null|             null|         null|       null|       null|      null|    null|       null|        null|                            null|           null|      null|      null|      null|      null|      null|      null|      null|      null|      null|      null|      null|\n",
      "+-------------------+--------------------+----+-------------+------------+----------+--------------+--------------+-----------------+-----------------+----+------+----------------------+----+----------+----+-------+--------------+-----------+-----------+------------------+------------------+----------------+-------------------------+-----------------+-----------------------+--------------------------+----------------+-----------------+----------------+-------------+-----------+----------------+----------------+----------------+-----------------+-----------------+-----------------+-------------+-----------+-----------+----------+--------+-----------+------------+--------------------------------+---------------+----------+----------+----------+----------+----------+----------+----------+----------+----------+----------+----------+\n",
      "only showing top 20 rows\n",
      "\n"
     ]
    }
   ],
   "source": [
    "df.show()"
   ]
  },
  {
   "cell_type": "code",
   "execution_count": 37,
   "metadata": {
    "collapsed": false
   },
   "outputs": [
    {
     "data": {
      "text/plain": [
       "[(0, 'DBN'),\n",
       " (1, 'SCHOOL NAME'),\n",
       " (2, 'Num of SAT Test Takers'),\n",
       " (3, 'SAT Critical Reading Avg. Score'),\n",
       " (4, 'SAT Math Avg. Score'),\n",
       " (5, 'SAT Writing Avg. Score')]"
      ]
     },
     "execution_count": 37,
     "metadata": {},
     "output_type": "execute_result"
    }
   ],
   "source": [
    "sat = sc.textFile(SAT_FN, use_unicode=False).cache()\n",
    "list(enumerate(sat.first().split(',')))"
   ]
  },
  {
   "cell_type": "code",
   "execution_count": 38,
   "metadata": {
    "collapsed": false
   },
   "outputs": [],
   "source": [
    "def extractScores(index, lines):\n",
    "    import csv\n",
    "    if index==0:\n",
    "        lines.next()\n",
    "    reader = csv.reader(lines)\n",
    "    for row in reader:\n",
    "        if row[2]!='s':\n",
    "            (dbn, takers, score) = (row[0], int(row[2]), int(row[4]))\n",
    "            yield (dbn, (score*takers, takers))\n",
    "        \n",
    "satScores = sat.mapPartitionsWithIndex(extractScores)"
   ]
  },
  {
   "cell_type": "code",
   "execution_count": 39,
   "metadata": {
    "collapsed": false
   },
   "outputs": [
    {
     "data": {
      "text/plain": [
       "[('02M047', (6400, 16)),\n",
       " ('21K410', (207575, 475)),\n",
       " ('30Q301', (43120, 98)),\n",
       " ('17K382', (22066, 59)),\n",
       " ('18K637', (13335, 35)),\n",
       " ('32K403', (18300, 50)),\n",
       " ('09X365', (18306, 54)),\n",
       " ('11X270', (22064, 56)),\n",
       " ('05M367', (12078, 33)),\n",
       " ('14K404', (24276, 68)),\n",
       " ('30Q575', (66420, 135)),\n",
       " ('13K336', (3366, 9)),\n",
       " ('04M635', (17712, 48)),\n",
       " ('24Q264', (40406, 89)),\n",
       " ('17K408', (19494, 57)),\n",
       " ('19K618', (22260, 60)),\n",
       " ('27Q309', (13644, 36)),\n",
       " ('32K552', (24388, 67)),\n",
       " ('13K499', (26208, 72)),\n",
       " ('07X600', (30400, 76))]"
      ]
     },
     "execution_count": 39,
     "metadata": {},
     "output_type": "execute_result"
    }
   ],
   "source": [
    "satScores.take(20)"
   ]
  },
  {
   "cell_type": "code",
   "execution_count": 40,
   "metadata": {
    "collapsed": false
   },
   "outputs": [
    {
     "data": {
      "text/plain": [
       "[(0, 'dbn'),\n",
       " (1, 'school_name'),\n",
       " (2, 'boro'),\n",
       " (3, 'building_code'),\n",
       " (4, 'phone_number'),\n",
       " (5, 'fax_number'),\n",
       " (6, 'grade_span_min'),\n",
       " (7, 'grade_span_max'),\n",
       " (8, 'expgrade_span_min'),\n",
       " (9, 'expgrade_span_max'),\n",
       " (10, 'bus'),\n",
       " (11, 'subway'),\n",
       " (12, 'primary_address_line_1'),\n",
       " (13, 'city'),\n",
       " (14, 'state_code'),\n",
       " (15, 'zip'),\n",
       " (16, 'website'),\n",
       " (17, 'total_students'),\n",
       " (18, 'campus_name'),\n",
       " (19, 'school_type'),\n",
       " (20, 'overview_paragraph'),\n",
       " (21, 'program_highlights'),\n",
       " (22, 'language_classes'),\n",
       " (23, 'advancedplacement_courses'),\n",
       " (24, 'online_ap_courses'),\n",
       " (25, 'online_language_courses'),\n",
       " (26, 'extracurricular_activities'),\n",
       " (27, 'psal_sports_boys'),\n",
       " (28, 'psal_sports_girls'),\n",
       " (29, 'psal_sports_coed'),\n",
       " (30, 'school_sports'),\n",
       " (31, 'partner_cbo'),\n",
       " (32, 'partner_hospital'),\n",
       " (33, 'partner_highered'),\n",
       " (34, 'partner_cultural'),\n",
       " (35, 'partner_nonprofit'),\n",
       " (36, 'partner_corporate'),\n",
       " (37, 'partner_financial'),\n",
       " (38, 'partner_other'),\n",
       " (39, 'addtl_info1'),\n",
       " (40, 'addtl_info2'),\n",
       " (41, 'start_time'),\n",
       " (42, 'end_time'),\n",
       " (43, 'se_services'),\n",
       " (44, 'ell_programs'),\n",
       " (45, 'school_accessibility_description'),\n",
       " (46, 'number_programs'),\n",
       " (47, 'priority01'),\n",
       " (48, 'priority02'),\n",
       " (49, 'priority03'),\n",
       " (50, 'priority04'),\n",
       " (51, 'priority05'),\n",
       " (52, 'priority06'),\n",
       " (53, 'priority07'),\n",
       " (54, 'priority08'),\n",
       " (55, 'priority09'),\n",
       " (56, 'priority10'),\n",
       " (57, 'Location 1')]"
      ]
     },
     "execution_count": 40,
     "metadata": {},
     "output_type": "execute_result"
    }
   ],
   "source": [
    "schools = sc.textFile(HSD_FN, use_unicode=False).cache()\n",
    "list(enumerate(schools.first().split(',')))"
   ]
  },
  {
   "cell_type": "code",
   "execution_count": 41,
   "metadata": {
    "collapsed": false
   },
   "outputs": [],
   "source": [
    "def extractSchools(index, lines):\n",
    "    import csv\n",
    "    if index==0:\n",
    "        lines.next()\n",
    "    reader = csv.reader(lines)\n",
    "    for row in reader:\n",
    "        if len(row)==58 and row[17].isdigit():\n",
    "            (dbn, boro, total_students) = (row[0], row[2], int(row[17]))\n",
    "            if total_students>500:\n",
    "                yield (dbn, boro)\n",
    "largeSchools = schools.mapPartitionsWithIndex(extractSchools)"
   ]
  },
  {
   "cell_type": "code",
   "execution_count": 42,
   "metadata": {
    "collapsed": false
   },
   "outputs": [
    {
     "data": {
      "text/plain": [
       "[('01M450', 'Manhattan'),\n",
       " ('01M539', 'Manhattan'),\n",
       " ('01M696', 'Manhattan'),\n",
       " ('02M374', 'Manhattan'),\n",
       " ('02M400', 'Manhattan'),\n",
       " ('02M408', 'Manhattan'),\n",
       " ('02M412', 'Manhattan'),\n",
       " ('02M413', 'Manhattan'),\n",
       " ('02M416', 'Manhattan'),\n",
       " ('02M418', 'Manhattan')]"
      ]
     },
     "execution_count": 42,
     "metadata": {},
     "output_type": "execute_result"
    }
   ],
   "source": [
    "largeSchools.take(10)"
   ]
  },
  {
   "cell_type": "code",
   "execution_count": 43,
   "metadata": {
    "collapsed": false
   },
   "outputs": [
    {
     "data": {
      "text/plain": [
       "[('02M047', (6400, 16)),\n",
       " ('21K410', (207575, 475)),\n",
       " ('30Q301', (43120, 98)),\n",
       " ('17K382', (22066, 59)),\n",
       " ('18K637', (13335, 35)),\n",
       " ('32K403', (18300, 50)),\n",
       " ('09X365', (18306, 54)),\n",
       " ('11X270', (22064, 56)),\n",
       " ('05M367', (12078, 33)),\n",
       " ('14K404', (24276, 68))]"
      ]
     },
     "execution_count": 43,
     "metadata": {},
     "output_type": "execute_result"
    }
   ],
   "source": [
    "satScores.take(10)"
   ]
  },
  {
   "cell_type": "code",
   "execution_count": 44,
   "metadata": {
    "collapsed": false
   },
   "outputs": [],
   "source": [
    "scores = largeSchools.join(satScores).values()"
   ]
  },
  {
   "cell_type": "code",
   "execution_count": 45,
   "metadata": {
    "collapsed": false
   },
   "outputs": [
    {
     "data": {
      "text/plain": [
       "[('Bronx', (23069, 59)),\n",
       " ('Staten Island', (52216, 107)),\n",
       " ('Bronx', (16317, 49)),\n",
       " ('Brooklyn', (33235, 85)),\n",
       " ('Bronx', (24570, 65)),\n",
       " ('Manhattan', (24948, 66)),\n",
       " ('Brooklyn', (17920, 56)),\n",
       " ('Bronx', (37120, 80)),\n",
       " ('Queens', (180978, 278)),\n",
       " ('Queens', (503426, 934))]"
      ]
     },
     "execution_count": 45,
     "metadata": {},
     "output_type": "execute_result"
    }
   ],
   "source": [
    "scores.take(10)"
   ]
  },
  {
   "cell_type": "code",
   "execution_count": 46,
   "metadata": {
    "collapsed": false
   },
   "outputs": [
    {
     "data": {
      "text/plain": [
       "[('Bronx', (23069, 59)),\n",
       " ('Staten Island', (52216, 107)),\n",
       " ('Bronx', (16317, 49)),\n",
       " ('Brooklyn', (33235, 85)),\n",
       " ('Bronx', (24570, 65)),\n",
       " ('Manhattan', (24948, 66)),\n",
       " ('Brooklyn', (17920, 56)),\n",
       " ('Bronx', (37120, 80)),\n",
       " ('Queens', (180978, 278)),\n",
       " ('Queens', (503426, 934)),\n",
       " ('Manhattan', (35784, 84)),\n",
       " ('Brooklyn', (36822, 102)),\n",
       " ('Brooklyn', (48470, 131)),\n",
       " ('Brooklyn', (246050, 518)),\n",
       " ('Brooklyn', (35992, 88)),\n",
       " ('Bronx', (502928, 731)),\n",
       " ('Manhattan', (79632, 144)),\n",
       " ('Queens', (86304, 174)),\n",
       " ('Queens', (153027, 347)),\n",
       " ('Bronx', (18084, 44)),\n",
       " ('Brooklyn', (59736, 131)),\n",
       " ('Bronx', (45288, 111)),\n",
       " ('Manhattan', (11776, 32)),\n",
       " ('Queens', (75950, 175)),\n",
       " ('Brooklyn', (87320, 185)),\n",
       " ('Staten Island', (170867, 391)),\n",
       " ('Queens', (35760, 80)),\n",
       " ('Queens', (164827, 403)),\n",
       " ('Queens', (37471, 101)),\n",
       " ('Manhattan', (27650, 70)),\n",
       " ('Brooklyn', (39330, 95)),\n",
       " ('Manhattan', (38232, 81)),\n",
       " ('Queens', (163216, 404)),\n",
       " ('Bronx', (28116, 66)),\n",
       " ('Brooklyn', (214776, 456)),\n",
       " ('Bronx', (15552, 36)),\n",
       " ('Brooklyn', (112812, 238)),\n",
       " ('Manhattan', (116160, 264)),\n",
       " ('Bronx', (10556, 26)),\n",
       " ('Manhattan', (119070, 270)),\n",
       " ('Queens', (23622, 62)),\n",
       " ('Queens', (140800, 320)),\n",
       " ('Brooklyn', (76076, 182)),\n",
       " ('Bronx', (20790, 55)),\n",
       " ('Bronx', (188718, 443)),\n",
       " ('Brooklyn', (26208, 72)),\n",
       " ('Queens', (132598, 334)),\n",
       " ('Manhattan', (192750, 375)),\n",
       " ('Queens', (69285, 155)),\n",
       " ('Queens', (66420, 135)),\n",
       " ('Bronx', (24684, 66)),\n",
       " ('Manhattan', (91266, 159)),\n",
       " ('Brooklyn', (30324, 76)),\n",
       " ('Queens', (251658, 558)),\n",
       " ('Queens', (177355, 395)),\n",
       " ('Queens', (30807, 63)),\n",
       " ('Queens', (27317, 59)),\n",
       " ('Brooklyn', (79365, 165)),\n",
       " ('Brooklyn', (54576, 144)),\n",
       " ('Manhattan', (150864, 336)),\n",
       " ('Brooklyn', (59782, 142)),\n",
       " ('Brooklyn', (209664, 448)),\n",
       " ('Manhattan', (23460, 60)),\n",
       " ('Brooklyn', (106967, 259)),\n",
       " ('Brooklyn', (42048, 72)),\n",
       " ('Bronx', (51415, 113)),\n",
       " ('Queens', (51777, 99)),\n",
       " ('Manhattan', (32475, 75)),\n",
       " ('Bronx', (20845, 55)),\n",
       " ('Queens', (55614, 138)),\n",
       " ('Bronx', (44916, 114)),\n",
       " ('Queens', (95254, 194)),\n",
       " ('Staten Island', (118698, 271)),\n",
       " ('Bronx', (23436, 62)),\n",
       " ('Brooklyn', (53431, 119)),\n",
       " ('Brooklyn', (31878, 69)),\n",
       " ('Queens', (45342, 99)),\n",
       " ('Brooklyn', (38364, 92)),\n",
       " ('Manhattan', (26760, 60)),\n",
       " ('Bronx', (17388, 46)),\n",
       " ('Brooklyn', (17112, 46)),\n",
       " ('Bronx', (30186, 78)),\n",
       " ('Manhattan', (141705, 335)),\n",
       " ('Bronx', (31047, 79)),\n",
       " ('Queens', (28884, 58)),\n",
       " ('Brooklyn', (187110, 385)),\n",
       " ('Manhattan', (55675, 131)),\n",
       " ('Manhattan', (10128, 24)),\n",
       " ('Brooklyn', (360592, 727)),\n",
       " ('Brooklyn', (27720, 72)),\n",
       " ('Brooklyn', (10121, 29)),\n",
       " ('Queens', (47793, 89)),\n",
       " ('Queens', (18262, 46)),\n",
       " ('Bronx', (27072, 72)),\n",
       " ('Brooklyn', (145299, 259)),\n",
       " ('Manhattan', (150075, 261)),\n",
       " ('Manhattan', (81663, 167)),\n",
       " ('Brooklyn', (331732, 694)),\n",
       " ('Bronx', (45687, 97)),\n",
       " ('Brooklyn', (53064, 134)),\n",
       " ('Bronx', (19431, 51)),\n",
       " ('Manhattan', (75438, 127)),\n",
       " ('Staten Island', (253590, 535)),\n",
       " ('Queens', (30044, 74)),\n",
       " ('Bronx', (75033, 189)),\n",
       " ('Manhattan', (103968, 228)),\n",
       " ('Brooklyn', (22066, 59)),\n",
       " ('Queens', (196416, 396)),\n",
       " ('Manhattan', (32256, 84)),\n",
       " ('Brooklyn', (427656, 824)),\n",
       " ('Staten Island', (39668, 94)),\n",
       " ('Queens', (101220, 241)),\n",
       " ('Brooklyn', (59361, 141)),\n",
       " ('Brooklyn', (30954, 77)),\n",
       " ('Manhattan', (23940, 63)),\n",
       " ('Manhattan', (67260, 114)),\n",
       " ('Bronx', (41952, 114)),\n",
       " ('Manhattan', (20680, 55)),\n",
       " ('Brooklyn', (841543, 1277)),\n",
       " ('Manhattan', (35532, 94)),\n",
       " ('Manhattan', (101436, 214)),\n",
       " ('Queens', (13644, 36)),\n",
       " ('Brooklyn', (46330, 113)),\n",
       " ('Staten Island', (392202, 807)),\n",
       " ('Queens', (30260, 68)),\n",
       " ('Queens', (31006, 74)),\n",
       " ('Manhattan', (25864, 61)),\n",
       " ('Manhattan', (299484, 531)),\n",
       " ('Queens', (30260, 68)),\n",
       " ('Manhattan', (26532, 66)),\n",
       " ('Brooklyn', (207575, 475)),\n",
       " ('Staten Island', (61787, 137)),\n",
       " ('Manhattan', (78520, 130)),\n",
       " ('Queens', (28221, 69)),\n",
       " ('Queens', (64232, 148)),\n",
       " ('Manhattan', (611520, 832)),\n",
       " ('Bronx', (33440, 80)),\n",
       " ('Bronx', (180940, 415)),\n",
       " ('Manhattan', (46060, 94)),\n",
       " ('Queens', (15781, 43)),\n",
       " ('Brooklyn', (11687, 31)),\n",
       " ('Manhattan', (26268, 66)),\n",
       " ('Queens', (164640, 392)),\n",
       " ('Staten Island', (154814, 227)),\n",
       " ('Manhattan', (129659, 263)),\n",
       " ('Queens', (378714, 762)),\n",
       " ('Queens', (190806, 462)),\n",
       " ('Queens', (67925, 143)),\n",
       " ('Manhattan', (28140, 70)),\n",
       " ('Manhattan', (35178, 66)),\n",
       " ('Queens', (88040, 155)),\n",
       " ('Queens', (201716, 422)),\n",
       " ('Queens', (370284, 708)),\n",
       " ('Queens', (39618, 93)),\n",
       " ('Bronx', (20784, 48)),\n",
       " ('Manhattan', (29184, 76)),\n",
       " ('Staten Island', (163125, 375)),\n",
       " ('Queens', (483960, 888)),\n",
       " ('Brooklyn', (23058, 54))]"
      ]
     },
     "execution_count": 46,
     "metadata": {},
     "output_type": "execute_result"
    }
   ],
   "source": [
    "largeSchools.join(satScores) \\\n",
    "            .values().collect()"
   ]
  },
  {
   "cell_type": "code",
   "execution_count": 47,
   "metadata": {
    "collapsed": false
   },
   "outputs": [
    {
     "data": {
      "text/plain": [
       "[('Bronx', (1619364, 3444)),\n",
       " ('Manhattan', (3206992, 6228)),\n",
       " ('Brooklyn', (4544126, 9322)),\n",
       " ('Staten Island', (1406967, 2944)),\n",
       " ('Queens', (5190534, 10942))]"
      ]
     },
     "execution_count": 47,
     "metadata": {},
     "output_type": "execute_result"
    }
   ],
   "source": [
    "largeSchools.join(satScores) \\\n",
    "            .values() \\\n",
    "            .reduceByKey(lambda x, y: (x[0]+y[0], x[1]+y[1])).collect()"
   ]
  },
  {
   "cell_type": "code",
   "execution_count": 48,
   "metadata": {
    "collapsed": false
   },
   "outputs": [
    {
     "data": {
      "text/plain": [
       "[('Bronx', 470),\n",
       " ('Manhattan', 514),\n",
       " ('Brooklyn', 487),\n",
       " ('Staten Island', 477),\n",
       " ('Queens', 474)]"
      ]
     },
     "execution_count": 48,
     "metadata": {},
     "output_type": "execute_result"
    }
   ],
   "source": [
    "largeSchools.join(satScores) \\\n",
    "            .values() \\\n",
    "            .reduceByKey(lambda x, y: (x[0]+y[0], x[1]+y[1])) \\\n",
    "            .mapValues(lambda x: x[0]/x[1]) \\\n",
    "            .collect()"
   ]
  },
  {
   "cell_type": "code",
   "execution_count": 49,
   "metadata": {
    "collapsed": false
   },
   "outputs": [
    {
     "data": {
      "text/plain": [
       "[('Manhattan', 514),\n",
       " ('Brooklyn', 487),\n",
       " ('Staten Island', 477),\n",
       " ('Queens', 474),\n",
       " ('Bronx', 470)]"
      ]
     },
     "execution_count": 49,
     "metadata": {},
     "output_type": "execute_result"
    }
   ],
   "source": [
    "largeSchools.join(satScores) \\\n",
    "            .values() \\\n",
    "            .reduceByKey(lambda x, y: (x[0]+y[0], x[1]+y[1])) \\\n",
    "            .mapValues(lambda x: x[0]/x[1]) \\\n",
    "            .sortBy(lambda x: -x[1]) \\\n",
    "            .collect()"
   ]
  },
  {
   "cell_type": "code",
   "execution_count": 50,
   "metadata": {
    "collapsed": true
   },
   "outputs": [],
   "source": [
    "from pyspark.sql import Row"
   ]
  },
  {
   "cell_type": "code",
   "execution_count": 51,
   "metadata": {
    "collapsed": false
   },
   "outputs": [
    {
     "name": "stdout",
     "output_type": "stream",
     "text": [
      "+------+----------+----------+\n",
      "|   dbn|num_takers|sum_scores|\n",
      "+------+----------+----------+\n",
      "|02M047|        16|      6400|\n",
      "|21K410|       475|    207575|\n",
      "|30Q301|        98|     43120|\n",
      "|17K382|        59|     22066|\n",
      "|18K637|        35|     13335|\n",
      "|32K403|        50|     18300|\n",
      "|09X365|        54|     18306|\n",
      "|11X270|        56|     22064|\n",
      "|05M367|        33|     12078|\n",
      "|14K404|        68|     24276|\n",
      "|30Q575|       135|     66420|\n",
      "|13K336|         9|      3366|\n",
      "|04M635|        48|     17712|\n",
      "|24Q264|        89|     40406|\n",
      "|17K408|        57|     19494|\n",
      "|19K618|        60|     22260|\n",
      "|27Q309|        36|     13644|\n",
      "|32K552|        67|     24388|\n",
      "|13K499|        72|     26208|\n",
      "|07X600|        76|     30400|\n",
      "+------+----------+----------+\n",
      "only showing top 20 rows\n",
      "\n"
     ]
    }
   ],
   "source": [
    "satRows = satScores.map(lambda x: Row(dbn=x[0], sum_scores=x[1][0], num_takers=x[1][1]))\n",
    "satTable = sqlContext.createDataFrame(satRows)\n",
    "satTable.show()"
   ]
  },
  {
   "cell_type": "code",
   "execution_count": 52,
   "metadata": {
    "collapsed": false
   },
   "outputs": [
    {
     "name": "stdout",
     "output_type": "stream",
     "text": [
      "+---------+------+\n",
      "|     boro|   dbn|\n",
      "+---------+------+\n",
      "|Manhattan|01M450|\n",
      "|Manhattan|01M539|\n",
      "|Manhattan|01M696|\n",
      "|Manhattan|02M374|\n",
      "|Manhattan|02M400|\n",
      "|Manhattan|02M408|\n",
      "|Manhattan|02M412|\n",
      "|Manhattan|02M413|\n",
      "|Manhattan|02M416|\n",
      "|Manhattan|02M418|\n",
      "|Manhattan|02M420|\n",
      "|Manhattan|02M425|\n",
      "|Manhattan|02M475|\n",
      "|Manhattan|02M489|\n",
      "|Manhattan|02M519|\n",
      "|Manhattan|02M520|\n",
      "|Manhattan|02M529|\n",
      "|Manhattan|02M542|\n",
      "|Manhattan|02M580|\n",
      "|Manhattan|02M600|\n",
      "+---------+------+\n",
      "only showing top 20 rows\n",
      "\n"
     ]
    }
   ],
   "source": [
    "schoolRows = largeSchools.map(lambda x: Row(dbn=x[0], boro=x[1]))\n",
    "schoolTable = sqlContext.createDataFrame(schoolRows)\n",
    "schoolTable.show()"
   ]
  },
  {
   "cell_type": "code",
   "execution_count": 53,
   "metadata": {
    "collapsed": false
   },
   "outputs": [],
   "source": [
    "df = schoolTable.join(satTable, on=\"dbn\", how=\"inner\") \\\n",
    "                .groupBy(\"boro\") \\\n",
    "                .sum(\"sum_scores\", \"num_takers\")"
   ]
  },
  {
   "cell_type": "code",
   "execution_count": 54,
   "metadata": {
    "collapsed": false
   },
   "outputs": [
    {
     "name": "stdout",
     "output_type": "stream",
     "text": [
      "+-------------+---------------+---------------+\n",
      "|         boro|sum(sum_scores)|sum(num_takers)|\n",
      "+-------------+---------------+---------------+\n",
      "|       Queens|        5190534|          10942|\n",
      "|     Brooklyn|        4544126|           9322|\n",
      "|Staten Island|        1406967|           2944|\n",
      "|        Bronx|        1619364|           3444|\n",
      "|    Manhattan|        3206992|           6228|\n",
      "+-------------+---------------+---------------+\n",
      "\n"
     ]
    }
   ],
   "source": [
    "df.show()"
   ]
  },
  {
   "cell_type": "code",
   "execution_count": 55,
   "metadata": {
    "collapsed": false
   },
   "outputs": [
    {
     "name": "stdout",
     "output_type": "stream",
     "text": [
      "+-------------+------------------+\n",
      "|         boro|               avg|\n",
      "+-------------+------------------+\n",
      "|       Queens| 474.3679400475233|\n",
      "|     Brooklyn|487.46256168204246|\n",
      "|Staten Island| 477.9099864130435|\n",
      "|        Bronx|  470.198606271777|\n",
      "|    Manhattan| 514.9312780989081|\n",
      "+-------------+------------------+\n",
      "\n"
     ]
    }
   ],
   "source": [
    "df.withColumn(\"avg\", (df[1]/df[2])) \\\n",
    "          .select('boro', 'avg') \\\n",
    "          .show()"
   ]
  },
  {
   "cell_type": "code",
   "execution_count": 56,
   "metadata": {
    "collapsed": false
   },
   "outputs": [],
   "source": [
    "def extractSchools(index, lines):\n",
    "    import csv\n",
    "    import operator\n",
    "    if index==0:\n",
    "        lines.next()\n",
    "    reader = csv.reader(lines)\n",
    "    for row in reader:\n",
    "        if len(row)==58 and row[17].isdigit():\n",
    "            (dbn, bus, subway) = (row[0], row[10], row[11])\n",
    "            bus = bus.split(', ')\n",
    "            subway = reduce(operator.add, map(lambda x: x.split(' to ')[0].split(', '), subway.split('; ')))\n",
    "            yield (dbn, tuple(bus+subway))\n",
    "transports = schools.mapPartitionsWithIndex(extractSchools)"
   ]
  },
  {
   "cell_type": "code",
   "execution_count": 63,
   "metadata": {
    "collapsed": false
   },
   "outputs": [
    {
     "data": {
      "text/plain": [
       "[('01M292',\n",
       "  ('B39',\n",
       "   'M14A',\n",
       "   'M14D',\n",
       "   'M15',\n",
       "   'M15-SBS',\n",
       "   'M21',\n",
       "   'M22',\n",
       "   'M9',\n",
       "   'B',\n",
       "   'D',\n",
       "   'F',\n",
       "   'J',\n",
       "   'M',\n",
       "   'Z')),\n",
       " ('01M448', ('M14A', 'M14D', 'M15', 'M21', 'M22', 'M9', 'F', 'J', 'M', 'Z')),\n",
       " ('01M450',\n",
       "  ('M101',\n",
       "   'M102',\n",
       "   'M103',\n",
       "   'M14A',\n",
       "   'M14D',\n",
       "   'M15',\n",
       "   'M15-SBS',\n",
       "   'M2',\n",
       "   'M23',\n",
       "   'M3',\n",
       "   'M8',\n",
       "   'M9',\n",
       "   '6',\n",
       "   'L')),\n",
       " ('01M509',\n",
       "  ('B39',\n",
       "   'M103',\n",
       "   'M14A',\n",
       "   'M14D',\n",
       "   'M15',\n",
       "   'M15-SBS',\n",
       "   'M21',\n",
       "   'M22',\n",
       "   'M8',\n",
       "   'M9',\n",
       "   'B',\n",
       "   'D',\n",
       "   'F',\n",
       "   'J',\n",
       "   'M',\n",
       "   'Z')),\n",
       " ('01M539',\n",
       "  ('B39', 'M14A', 'M14D', 'M21', 'M22', 'M8', 'M9', 'F', 'J', 'M', 'Z')),\n",
       " ('01M696', ('M14A', 'M14D', 'M21', 'M22', 'M9', 'N/A')),\n",
       " ('02M047',\n",
       "  ('M101',\n",
       "   'M102',\n",
       "   'M14A',\n",
       "   'M14D',\n",
       "   'M15',\n",
       "   'M15-SBS',\n",
       "   'M2',\n",
       "   'M23',\n",
       "   'M34A-SBS',\n",
       "   'M5',\n",
       "   'M9',\n",
       "   '4',\n",
       "   '5',\n",
       "   'Q',\n",
       "   '6',\n",
       "   'N',\n",
       "   'R',\n",
       "   'L')),\n",
       " ('02M135',\n",
       "  ('M10',\n",
       "   'M104',\n",
       "   'M11',\n",
       "   'M20',\n",
       "   'M31',\n",
       "   'M34A-SBS',\n",
       "   'M42',\n",
       "   'M50',\n",
       "   'M57',\n",
       "   'M7',\n",
       "   '1',\n",
       "   'C',\n",
       "   'E',\n",
       "   'A',\n",
       "   'B',\n",
       "   'D',\n",
       "   'B',\n",
       "   'D',\n",
       "   'N',\n",
       "   'Q',\n",
       "   'R')),\n",
       " ('02M139',\n",
       "  ('M103',\n",
       "   'M15',\n",
       "   'M22',\n",
       "   'M5',\n",
       "   'M9',\n",
       "   '1',\n",
       "   '2',\n",
       "   '3',\n",
       "   'A',\n",
       "   'C',\n",
       "   '4',\n",
       "   '5',\n",
       "   '6',\n",
       "   'J',\n",
       "   'Z',\n",
       "   'E',\n",
       "   'N',\n",
       "   'Q',\n",
       "   'R')),\n",
       " ('02M260',\n",
       "  ('M104',\n",
       "   'M11',\n",
       "   'M20',\n",
       "   'M23',\n",
       "   'M34A-SBS',\n",
       "   'M34-SBS',\n",
       "   'M4',\n",
       "   'M42',\n",
       "   'M7',\n",
       "   '1',\n",
       "   '2',\n",
       "   '3',\n",
       "   'A',\n",
       "   'C',\n",
       "   'E'))]"
      ]
     },
     "execution_count": 63,
     "metadata": {},
     "output_type": "execute_result"
    }
   ],
   "source": [
    "transports.take(10)"
   ]
  },
  {
   "cell_type": "code",
   "execution_count": 72,
   "metadata": {
    "collapsed": false,
    "scrolled": false
   },
   "outputs": [
    {
     "data": {
      "text/plain": [
       "[('S1115', 612),\n",
       " ('M79', 594),\n",
       " ('Q42', 582),\n",
       " ('M22', 574),\n",
       " ('Bx3', 571),\n",
       " ('B52', 560),\n",
       " ('B63', 557),\n",
       " ('B69', 548),\n",
       " ('B54', 543),\n",
       " ('B25', 541),\n",
       " ('M20', 540),\n",
       " ('M9', 539),\n",
       " ('M86', 538),\n",
       " ('B65', 538),\n",
       " ('B45', 534),\n",
       " ('Bx10', 534),\n",
       " ('Bx26', 533),\n",
       " ('B103', 531),\n",
       " ('Q64', 529),\n",
       " ('Bx22', 525),\n",
       " ('M72', 523),\n",
       " ('B41', 520),\n",
       " ('B38', 520),\n",
       " ('M5', 520),\n",
       " ('Q35', 519),\n",
       " ('M66', 518),\n",
       " ('B62', 513),\n",
       " ('3', 513),\n",
       " ('A', 510),\n",
       " ('C', 510),\n",
       " ('Q88', 508),\n",
       " ('R', 508),\n",
       " ('Q84', 507),\n",
       " ('Q30', 507),\n",
       " ('Q20A', 505),\n",
       " ('S79-SBS', 505),\n",
       " ('Q31', 504),\n",
       " ('G', 503),\n",
       " ('B11', 503),\n",
       " ('D', 502),\n",
       " ('E', 501),\n",
       " ('1', 499),\n",
       " ('SIR', 498),\n",
       " ('M35', 496),\n",
       " ('4', 495),\n",
       " ('M10', 495),\n",
       " ('Q17', 495),\n",
       " ('N', 493),\n",
       " ('Q28', 492),\n",
       " ('Q13', 492)]"
      ]
     },
     "execution_count": 72,
     "metadata": {},
     "output_type": "execute_result"
    }
   ],
   "source": [
    "import itertools\n",
    "transports.join(satScores) \\\n",
    "          .flatMap(lambda x: itertools.product(x[1][0], [x[1][1]])) \\\n",
    "          .reduceByKey(lambda x, y: (x[0]+y[0], x[1]+y[1])) \\\n",
    "          .mapValues(lambda x: x[0]/x[1]) \\\n",
    "          .sortBy(lambda x: -x[1]) \\\n",
    "          .take(50)"
   ]
  },
  {
   "cell_type": "code",
   "execution_count": 73,
   "metadata": {
    "collapsed": false
   },
   "outputs": [
    {
     "ename": "ImportError",
     "evalue": "No module named csv_parser",
     "output_type": "error",
     "traceback": [
      "\u001b[0;31m---------------------------------------------------------------------------\u001b[0m",
      "\u001b[0;31mImportError\u001b[0m                               Traceback (most recent call last)",
      "\u001b[0;32m<ipython-input-73-c89b252f2f7b>\u001b[0m in \u001b[0;36m<module>\u001b[0;34m()\u001b[0m\n\u001b[1;32m      6\u001b[0m                 \u001b[0;32myield\u001b[0m \u001b[0;34m(\u001b[0m\u001b[0mdbn\u001b[0m\u001b[0;34m,\u001b[0m \u001b[0mboro\u001b[0m\u001b[0;34m)\u001b[0m\u001b[0;34m\u001b[0m\u001b[0m\n\u001b[1;32m      7\u001b[0m \u001b[0;34m\u001b[0m\u001b[0m\n\u001b[0;32m----> 8\u001b[0;31m \u001b[0;32mfrom\u001b[0m \u001b[0mcsv_parser\u001b[0m \u001b[0;32mimport\u001b[0m \u001b[0mcsvRDD\u001b[0m\u001b[0;34m\u001b[0m\u001b[0m\n\u001b[0m\u001b[1;32m      9\u001b[0m \u001b[0mlargeSchools1\u001b[0m \u001b[0;34m=\u001b[0m \u001b[0mcsvRDD\u001b[0m\u001b[0;34m(\u001b[0m\u001b[0mschools\u001b[0m\u001b[0;34m)\u001b[0m\u001b[0;34m\u001b[0m\u001b[0m\n",
      "\u001b[0;31mImportError\u001b[0m: No module named csv_parser"
     ]
    }
   ],
   "source": [
    "def extractSchools(lines):\n",
    "    for row in lines:\n",
    "        if row[17].isdigit():\n",
    "            (dbn, boro, total_students) = (row[0], row[2], int(row[17]))\n",
    "            if total_students>500:\n",
    "                yield (dbn, boro)\n",
    "\n",
    "from csv_parser import csvRDD\n",
    "largeSchools1 = csvRDD(schools)"
   ]
  },
  {
   "cell_type": "code",
   "execution_count": 74,
   "metadata": {
    "collapsed": false
   },
   "outputs": [
    {
     "ename": "NameError",
     "evalue": "name 'largeSchools1' is not defined",
     "output_type": "error",
     "traceback": [
      "\u001b[0;31m---------------------------------------------------------------------------\u001b[0m",
      "\u001b[0;31mNameError\u001b[0m                                 Traceback (most recent call last)",
      "\u001b[0;32m<ipython-input-74-b14f31f055c4>\u001b[0m in \u001b[0;36m<module>\u001b[0;34m()\u001b[0m\n\u001b[0;32m----> 1\u001b[0;31m \u001b[0mlargeSchools1\u001b[0m\u001b[0;34m.\u001b[0m\u001b[0mtake\u001b[0m\u001b[0;34m(\u001b[0m\u001b[0;36m10\u001b[0m\u001b[0;34m)\u001b[0m\u001b[0;34m\u001b[0m\u001b[0m\n\u001b[0m",
      "\u001b[0;31mNameError\u001b[0m: name 'largeSchools1' is not defined"
     ]
    }
   ],
   "source": [
    "largeSchools1.take(10)"
   ]
  },
  {
   "cell_type": "code",
   "execution_count": null,
   "metadata": {
    "collapsed": true
   },
   "outputs": [],
   "source": []
  }
 ],
 "metadata": {
  "kernelspec": {
   "display_name": "Python 2",
   "language": "python",
   "name": "python2"
  },
  "language_info": {
   "codemirror_mode": {
    "name": "ipython",
    "version": 2
   },
   "file_extension": ".py",
   "mimetype": "text/x-python",
   "name": "python",
   "nbconvert_exporter": "python",
   "pygments_lexer": "ipython2",
   "version": "2.7.11"
  }
 },
 "nbformat": 4,
 "nbformat_minor": 0
}
