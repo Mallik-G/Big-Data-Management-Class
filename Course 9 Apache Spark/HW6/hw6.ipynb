{
 "cells": [
  {
   "cell_type": "code",
   "execution_count": 1,
   "metadata": {
    "collapsed": false,
    "scrolled": true
   },
   "outputs": [
    {
     "data": {
      "text/plain": [
       "<pyspark.context.SparkContext at 0x108f3eed0>"
      ]
     },
     "execution_count": 1,
     "metadata": {},
     "output_type": "execute_result"
    }
   ],
   "source": [
    "sc"
   ]
  },
  {
   "cell_type": "code",
   "execution_count": 2,
   "metadata": {
    "collapsed": false
   },
   "outputs": [],
   "source": [
    "#import data\n",
    "\n",
    "high_school = sc.textFile('DOE_High_School_Directory_2014-2015.csv')\n",
    "sat_results = sc.textFile('SAT_Results.csv')\n",
    "\n",
    "# print high_school.count()\n",
    "# print sat_results.count()"
   ]
  },
  {
   "cell_type": "code",
   "execution_count": 3,
   "metadata": {
    "collapsed": false
   },
   "outputs": [
    {
     "name": "stdout",
     "output_type": "stream",
     "text": [
      "dbn,school_name,boro,building_code,phone_number,fax_number,grade_span_min,grade_span_max,expgrade_span_min,expgrade_span_max,bus,subway,primary_address_line_1,city,state_code,zip,website,total_students,campus_name,school_type,overview_paragraph,program_highlights,language_classes,advancedplacement_courses,online_ap_courses,online_language_courses,extracurricular_activities,psal_sports_boys,psal_sports_girls,psal_sports_coed,school_sports,partner_cbo,partner_hospital,partner_highered,partner_cultural,partner_nonprofit,partner_corporate,partner_financial,partner_other,addtl_info1,addtl_info2,start_time,end_time,se_services,ell_programs,school_accessibility_description,number_programs,priority01,priority02,priority03,priority04,priority05,priority06,priority07,priority08,priority09,priority10,Location 1\n",
      "-----\n",
      "DBN,SCHOOL NAME,Num of SAT Test Takers,SAT Critical Reading Avg. Score,SAT Math Avg. Score,SAT Writing Avg. Score\n"
     ]
    }
   ],
   "source": [
    "# remove header\n",
    "\n",
    "header_school = high_school.first()\n",
    "high_school = high_school.filter(lambda x: x != header_school)\n",
    "\n",
    "header_sat = sat_results.first()\n",
    "sat_results = sat_results.filter(lambda x: x != header_sat)\n",
    "\n",
    "print header_school\n",
    "print \"-----\"\n",
    "print header_sat"
   ]
  },
  {
   "cell_type": "code",
   "execution_count": 4,
   "metadata": {
    "collapsed": false
   },
   "outputs": [],
   "source": [
    "# filter and clean data\n",
    "\n",
    "high_school = high_school.filter(lambda x: len(x)>100)\n",
    "high_school = high_school.filter(lambda x: x.split(',')[2] in ['Manhattan','Bronx','Brooklyn','Queens','Staten Island'])\n",
    "\n",
    "high_school = high_school.map(lambda x: (x.split(',')[0], x.split(',')[2]))\n",
    "\n",
    "high_school_df = sqlContext.createDataFrame(high_school, ('DBN', 'Borough'))\n",
    "\n",
    "# high_school_df.show()"
   ]
  },
  {
   "cell_type": "code",
   "execution_count": 5,
   "metadata": {
    "collapsed": false
   },
   "outputs": [],
   "source": [
    "sat_results = sat_results.filter(lambda x: x.split(',')[-4] != 's')\n",
    "\n",
    "sat_results = sat_results.map(lambda x: (x.split(',')[0], int(x.split(',')[-4]), int(x.split(',')[-4])*int(x.split(',')[-1])))\n",
    "\n",
    "sat_results_df = sqlContext.createDataFrame(sat_results, ('DBN', 'Num Test Takers', 'Sum Math'))\n",
    "\n",
    "# sat_results_df.show()"
   ]
  },
  {
   "cell_type": "code",
   "execution_count": 6,
   "metadata": {
    "collapsed": false,
    "scrolled": false
   },
   "outputs": [
    {
     "name": "stdout",
     "output_type": "stream",
     "text": [
      "+------+---------------+--------+---------+\n",
      "|   DBN|Num Test Takers|Sum Math|  Borough|\n",
      "+------+---------------+--------+---------+\n",
      "|02M449|             72|   27936|Manhattan|\n",
      "|15K519|             77|   29645| Brooklyn|\n",
      "|02M288|             62|   24304|Manhattan|\n",
      "|10X440|            443|  181630|    Bronx|\n",
      "|13K595|             89|   38359| Brooklyn|\n",
      "|14K558|             72|   26208| Brooklyn|\n",
      "|27Q260|             87|   32451|   Queens|\n",
      "|07X527|             62|   22506|    Bronx|\n",
      "|27Q262|             74|   29674|   Queens|\n",
      "|30Q501|            174|   85956|   Queens|\n",
      "|21K337|             54|   16956| Brooklyn|\n",
      "|30Q502|            148|   58904|   Queens|\n",
      "|10X445|            731|  474419|    Bronx|\n",
      "|04M435|            375|  170625|Manhattan|\n",
      "|10X284|             54|   20790|    Bronx|\n",
      "|16K498|             46|   16468| Brooklyn|\n",
      "|13K483|            105|   40845| Brooklyn|\n",
      "|11X249|             74|   28268|    Bronx|\n",
      "|18K642|             40|   14960| Brooklyn|\n",
      "|03M479|            261|  154512|Manhattan|\n",
      "+------+---------------+--------+---------+\n",
      "only showing top 20 rows\n",
      "\n"
     ]
    }
   ],
   "source": [
    "# join data\n",
    "\n",
    "join_data = sat_results_df.join(high_school_df, ['DBN'])\n",
    "\n",
    "join_data.show()"
   ]
  },
  {
   "cell_type": "code",
   "execution_count": 7,
   "metadata": {
    "collapsed": false
   },
   "outputs": [
    {
     "name": "stdout",
     "output_type": "stream",
     "text": [
      "+-------------+--------------------+-------------+\n",
      "|      Borough|sum(Num Test Takers)|sum(Sum Math)|\n",
      "+-------------+--------------------+-------------+\n",
      "|       Queens|               11274|      4864971|\n",
      "|     Brooklyn|               12003|      5097081|\n",
      "|Staten Island|                3005|      1378080|\n",
      "|        Bronx|                6396|      2639824|\n",
      "|    Manhattan|                8121|      3827992|\n",
      "+-------------+--------------------+-------------+\n",
      "\n"
     ]
    }
   ],
   "source": [
    "fianl_data = join_data.groupby('Borough').sum()\n",
    "fianl_data.show()"
   ]
  },
  {
   "cell_type": "code",
   "execution_count": 8,
   "metadata": {
    "collapsed": false
   },
   "outputs": [
    {
     "data": {
      "text/plain": [
       "[(u'Queens', 431),\n",
       " (u'Brooklyn', 424),\n",
       " (u'Staten Island', 458),\n",
       " (u'Bronx', 412),\n",
       " (u'Manhattan', 471)]"
      ]
     },
     "execution_count": 8,
     "metadata": {},
     "output_type": "execute_result"
    }
   ],
   "source": [
    "result = fianl_data.map(lambda x: (x[0], x[2]/x[1]))\n",
    "result.collect()"
   ]
  }
 ],
 "metadata": {
  "kernelspec": {
   "display_name": "Python 2",
   "language": "python",
   "name": "python2"
  },
  "language_info": {
   "codemirror_mode": {
    "name": "ipython",
    "version": 2
   },
   "file_extension": ".py",
   "mimetype": "text/x-python",
   "name": "python",
   "nbconvert_exporter": "python",
   "pygments_lexer": "ipython2",
   "version": "2.7.11"
  }
 },
 "nbformat": 4,
 "nbformat_minor": 0
}
