{
 "cells": [
  {
   "cell_type": "markdown",
   "metadata": {},
   "source": [
    "# Task\n",
    "\n",
    "Please write a Spark application that takes the above file yellow_tripdata_2011-05.csv on HDFS as its input and produce the top 3 origin neighborhoods that delivered passengers to each of the five borough based on the number of trips served."
   ]
  },
  {
   "cell_type": "code",
   "execution_count": 1,
   "metadata": {
    "collapsed": true
   },
   "outputs": [],
   "source": [
    "import datetime\n",
    "import operator\n",
    "import os\n",
    "import sys\n",
    "import time\n",
    "\n",
    "import pyspark"
   ]
  },
  {
   "cell_type": "code",
   "execution_count": 2,
   "metadata": {
    "collapsed": false
   },
   "outputs": [],
   "source": [
    "import rtree\n",
    "import fiona.crs\n",
    "import geopandas as gpd\n",
    "index = rtree.Rtree()\n",
    "zones = gpd.read_file('neighborhoods.geojson').to_crs(fiona.crs.from_epsg(2263))\n",
    "# for idx,geometry in enumerate(zones.geometry):\n",
    "#     index.insert(idx, geometry.bounds)\n",
    "# return (index, zones, zones.properties)"
   ]
  },
  {
   "cell_type": "code",
   "execution_count": 36,
   "metadata": {
    "collapsed": false
   },
   "outputs": [],
   "source": [
    "for idx,geometry in enumerate(zones.geometry):\n",
    "    index.insert(idx, geometry.bounds)"
   ]
  },
  {
   "cell_type": "code",
   "execution_count": 37,
   "metadata": {
    "collapsed": false
   },
   "outputs": [
    {
     "data": {
      "text/plain": [
       "<rtree.index.Index at 0x10ff74290>"
      ]
     },
     "execution_count": 37,
     "metadata": {},
     "output_type": "execute_result"
    }
   ],
   "source": [
    "index"
   ]
  },
  {
   "cell_type": "code",
   "execution_count": 39,
   "metadata": {
    "collapsed": false,
    "scrolled": true
   },
   "outputs": [
    {
     "data": {
      "text/plain": [
       "u'Queens'"
      ]
     },
     "execution_count": 39,
     "metadata": {},
     "output_type": "execute_result"
    }
   ],
   "source": [
    "zones.borough[1]"
   ]
  },
  {
   "cell_type": "code",
   "execution_count": 40,
   "metadata": {
    "collapsed": false
   },
   "outputs": [
    {
     "data": {
      "text/plain": [
       "'Queens'"
      ]
     },
     "execution_count": 40,
     "metadata": {},
     "output_type": "execute_result"
    }
   ],
   "source": [
    "str(zones.borough[1])"
   ]
  },
  {
   "cell_type": "code",
   "execution_count": 41,
   "metadata": {
    "collapsed": false,
    "scrolled": false
   },
   "outputs": [
    {
     "data": {
      "text/html": [
       "<div>\n",
       "<table border=\"1\" class=\"dataframe\">\n",
       "  <thead>\n",
       "    <tr style=\"text-align: right;\">\n",
       "      <th></th>\n",
       "      <th>borough</th>\n",
       "      <th>geometry</th>\n",
       "      <th>neighborhood</th>\n",
       "    </tr>\n",
       "  </thead>\n",
       "  <tbody>\n",
       "    <tr>\n",
       "      <th>0</th>\n",
       "      <td>Queens</td>\n",
       "      <td>(POLYGON ((1042695.41268177 157932.5909777562,...</td>\n",
       "      <td>Arverne</td>\n",
       "    </tr>\n",
       "    <tr>\n",
       "      <th>1</th>\n",
       "      <td>Queens</td>\n",
       "      <td>(POLYGON ((1041567.549112553 166236.1995676575...</td>\n",
       "      <td>Broad Channel</td>\n",
       "    </tr>\n",
       "    <tr>\n",
       "      <th>2</th>\n",
       "      <td>Bronx</td>\n",
       "      <td>(POLYGON ((1044339.23427794 246814.3387769974,...</td>\n",
       "      <td>City Island</td>\n",
       "    </tr>\n",
       "    <tr>\n",
       "      <th>3</th>\n",
       "      <td>Queens</td>\n",
       "      <td>(POLYGON ((1048643.510334175 157165.0353089103...</td>\n",
       "      <td>Edgemere</td>\n",
       "    </tr>\n",
       "    <tr>\n",
       "      <th>4</th>\n",
       "      <td>Manhattan</td>\n",
       "      <td>(POLYGON ((972697.5892621264 193015.8087967121...</td>\n",
       "      <td>Ellis Island</td>\n",
       "    </tr>\n",
       "    <tr>\n",
       "      <th>5</th>\n",
       "      <td>Manhattan</td>\n",
       "      <td>(POLYGON ((988855.2701673042 209379.9600719489...</td>\n",
       "      <td>Flatiron District</td>\n",
       "    </tr>\n",
       "    <tr>\n",
       "      <th>6</th>\n",
       "      <td>Brooklyn</td>\n",
       "      <td>(POLYGON ((1002290.931614941 158511.0111480284...</td>\n",
       "      <td>Gerritsen Beach</td>\n",
       "    </tr>\n",
       "    <tr>\n",
       "      <th>7</th>\n",
       "      <td>Brooklyn</td>\n",
       "      <td>(POLYGON ((983172.2402874186 151181.7700830466...</td>\n",
       "      <td>Sea Gate</td>\n",
       "    </tr>\n",
       "    <tr>\n",
       "      <th>8</th>\n",
       "      <td>Manhattan</td>\n",
       "      <td>(POLYGON ((988393.9578039527 213817.0774394134...</td>\n",
       "      <td>Theater District</td>\n",
       "    </tr>\n",
       "    <tr>\n",
       "      <th>9</th>\n",
       "      <td>Bronx</td>\n",
       "      <td>(POLYGON ((1032350.96826855 234897.0683896698,...</td>\n",
       "      <td>Throgs Neck</td>\n",
       "    </tr>\n",
       "    <tr>\n",
       "      <th>10</th>\n",
       "      <td>Brooklyn</td>\n",
       "      <td>(POLYGON ((1007199.300534071 169180.0729590046...</td>\n",
       "      <td>Bergen Beach</td>\n",
       "    </tr>\n",
       "    <tr>\n",
       "      <th>11</th>\n",
       "      <td>Brooklyn</td>\n",
       "      <td>(POLYGON ((986653.9948327752 189003.7364093927...</td>\n",
       "      <td>Carroll Gardens</td>\n",
       "    </tr>\n",
       "    <tr>\n",
       "      <th>12</th>\n",
       "      <td>Brooklyn</td>\n",
       "      <td>(POLYGON ((995789.3137840726 187312.2280538441...</td>\n",
       "      <td>Clinton Hill</td>\n",
       "    </tr>\n",
       "    <tr>\n",
       "      <th>13</th>\n",
       "      <td>Queens</td>\n",
       "      <td>(POLYGON ((1030734.480163199 227172.5496674016...</td>\n",
       "      <td>College Point</td>\n",
       "    </tr>\n",
       "    <tr>\n",
       "      <th>14</th>\n",
       "      <td>Queens</td>\n",
       "      <td>(POLYGON ((1026136.050461259 208305.1769400339...</td>\n",
       "      <td>Corona</td>\n",
       "    </tr>\n",
       "    <tr>\n",
       "      <th>15</th>\n",
       "      <td>Queens</td>\n",
       "      <td>(POLYGON ((1011505.861053474 219011.386548206,...</td>\n",
       "      <td>Ditmars Steinway</td>\n",
       "    </tr>\n",
       "    <tr>\n",
       "      <th>16</th>\n",
       "      <td>Brooklyn</td>\n",
       "      <td>(POLYGON ((997302.3223243782 178004.7685763204...</td>\n",
       "      <td>Flatbush</td>\n",
       "    </tr>\n",
       "    <tr>\n",
       "      <th>17</th>\n",
       "      <td>Brooklyn</td>\n",
       "      <td>(POLYGON ((1005728.588653132 169986.4421622541...</td>\n",
       "      <td>Flatlands</td>\n",
       "    </tr>\n",
       "    <tr>\n",
       "      <th>18</th>\n",
       "      <td>Brooklyn</td>\n",
       "      <td>(POLYGON ((1020106.517703008 164080.5318383513...</td>\n",
       "      <td>Jamaica Bay</td>\n",
       "    </tr>\n",
       "    <tr>\n",
       "      <th>19</th>\n",
       "      <td>Queens</td>\n",
       "      <td>(POLYGON ((1022740.40176501 179130.5551112474,...</td>\n",
       "      <td>Howard Beach</td>\n",
       "    </tr>\n",
       "    <tr>\n",
       "      <th>20</th>\n",
       "      <td>Brooklyn</td>\n",
       "      <td>(POLYGON ((1026656.729477766 169555.6135163179...</td>\n",
       "      <td>Jamaica Bay</td>\n",
       "    </tr>\n",
       "    <tr>\n",
       "      <th>21</th>\n",
       "      <td>Manhattan</td>\n",
       "      <td>(POLYGON ((1005744.985949762 251004.8507903385...</td>\n",
       "      <td>Inwood</td>\n",
       "    </tr>\n",
       "    <tr>\n",
       "      <th>22</th>\n",
       "      <td>Brooklyn</td>\n",
       "      <td>(POLYGON ((1030489.58471887 167673.9275744826,...</td>\n",
       "      <td>Jamaica Bay</td>\n",
       "    </tr>\n",
       "    <tr>\n",
       "      <th>23</th>\n",
       "      <td>Brooklyn</td>\n",
       "      <td>(POLYGON ((1006699.410443396 157740.4879366691...</td>\n",
       "      <td>Marine Park</td>\n",
       "    </tr>\n",
       "    <tr>\n",
       "      <th>24</th>\n",
       "      <td>Brooklyn</td>\n",
       "      <td>(POLYGON ((1005251.649319291 162059.0077562972...</td>\n",
       "      <td>Marine Park</td>\n",
       "    </tr>\n",
       "    <tr>\n",
       "      <th>25</th>\n",
       "      <td>Staten Island</td>\n",
       "      <td>(POLYGON ((939593.58909774 172262.9519788488, ...</td>\n",
       "      <td>Mariners Harbor</td>\n",
       "    </tr>\n",
       "    <tr>\n",
       "      <th>26</th>\n",
       "      <td>Bronx</td>\n",
       "      <td>(POLYGON ((1009322.57110081 239083.5212973725,...</td>\n",
       "      <td>Melrose</td>\n",
       "    </tr>\n",
       "    <tr>\n",
       "      <th>27</th>\n",
       "      <td>Queens</td>\n",
       "      <td>(POLYGON ((1024254.605186566 146811.3968599917...</td>\n",
       "      <td>Neponsit</td>\n",
       "    </tr>\n",
       "    <tr>\n",
       "      <th>28</th>\n",
       "      <td>Bronx</td>\n",
       "      <td>(POLYGON ((1042822.588211628 243439.7672661519...</td>\n",
       "      <td>Pelham Islands</td>\n",
       "    </tr>\n",
       "    <tr>\n",
       "      <th>29</th>\n",
       "      <td>Staten Island</td>\n",
       "      <td>(POLYGON ((966810.5748780243 163588.1843112861...</td>\n",
       "      <td>Rosebank</td>\n",
       "    </tr>\n",
       "    <tr>\n",
       "      <th>...</th>\n",
       "      <td>...</td>\n",
       "      <td>...</td>\n",
       "      <td>...</td>\n",
       "    </tr>\n",
       "    <tr>\n",
       "      <th>280</th>\n",
       "      <td>Manhattan</td>\n",
       "      <td>(POLYGON ((983458.4226768739 204633.0261620288...</td>\n",
       "      <td>SoHo</td>\n",
       "    </tr>\n",
       "    <tr>\n",
       "      <th>281</th>\n",
       "      <td>Bronx</td>\n",
       "      <td>(POLYGON ((1023478.729740807 238791.150387127,...</td>\n",
       "      <td>Soundview</td>\n",
       "    </tr>\n",
       "    <tr>\n",
       "      <th>282</th>\n",
       "      <td>Brooklyn</td>\n",
       "      <td>(POLYGON ((1002946.989729843 155779.7928159658...</td>\n",
       "      <td>Sheepshead Bay</td>\n",
       "    </tr>\n",
       "    <tr>\n",
       "      <th>283</th>\n",
       "      <td>Staten Island</td>\n",
       "      <td>(POLYGON ((964105.6728179598 171706.0168901923...</td>\n",
       "      <td>St. George</td>\n",
       "    </tr>\n",
       "    <tr>\n",
       "      <th>284</th>\n",
       "      <td>Staten Island</td>\n",
       "      <td>(POLYGON ((964105.6728179598 171706.0168901923...</td>\n",
       "      <td>Stapleton</td>\n",
       "    </tr>\n",
       "    <tr>\n",
       "      <th>285</th>\n",
       "      <td>Manhattan</td>\n",
       "      <td>(POLYGON ((991350.7508319035 207087.4585569472...</td>\n",
       "      <td>Stuyvesant Town</td>\n",
       "    </tr>\n",
       "    <tr>\n",
       "      <th>286</th>\n",
       "      <td>Queens</td>\n",
       "      <td>(POLYGON ((1008663.357352038 212065.9979143968...</td>\n",
       "      <td>Sunnyside</td>\n",
       "    </tr>\n",
       "    <tr>\n",
       "      <th>287</th>\n",
       "      <td>Bronx</td>\n",
       "      <td>(POLYGON ((1028930.330406878 265051.9488454555...</td>\n",
       "      <td>Wakefield</td>\n",
       "    </tr>\n",
       "    <tr>\n",
       "      <th>288</th>\n",
       "      <td>Brooklyn</td>\n",
       "      <td>(POLYGON ((986247.1768555207 181745.9089258481...</td>\n",
       "      <td>Sunset Park</td>\n",
       "    </tr>\n",
       "    <tr>\n",
       "      <th>289</th>\n",
       "      <td>Staten Island</td>\n",
       "      <td>(POLYGON ((956990.1261602258 161801.4447536799...</td>\n",
       "      <td>Todt Hill</td>\n",
       "    </tr>\n",
       "    <tr>\n",
       "      <th>290</th>\n",
       "      <td>Bronx</td>\n",
       "      <td>(POLYGON ((1011611.651359204 253618.3378012406...</td>\n",
       "      <td>University Heights</td>\n",
       "    </tr>\n",
       "    <tr>\n",
       "      <th>291</th>\n",
       "      <td>Staten Island</td>\n",
       "      <td>(POLYGON ((918882.911153377 129148.442979857, ...</td>\n",
       "      <td>Tottenville</td>\n",
       "    </tr>\n",
       "    <tr>\n",
       "      <th>292</th>\n",
       "      <td>Bronx</td>\n",
       "      <td>(POLYGON ((1028851.05459024 245631.0368628588,...</td>\n",
       "      <td>Unionport</td>\n",
       "    </tr>\n",
       "    <tr>\n",
       "      <th>293</th>\n",
       "      <td>Manhattan</td>\n",
       "      <td>(POLYGON ((995779.1442510332 230875.7449837301...</td>\n",
       "      <td>Upper West Side</td>\n",
       "    </tr>\n",
       "    <tr>\n",
       "      <th>294</th>\n",
       "      <td>Bronx</td>\n",
       "      <td>(POLYGON ((1020772.786972924 268286.7427073697...</td>\n",
       "      <td>Van Cortlandt Park</td>\n",
       "    </tr>\n",
       "    <tr>\n",
       "      <th>295</th>\n",
       "      <td>Bronx</td>\n",
       "      <td>(POLYGON ((1021568.464384871 245784.5036059653...</td>\n",
       "      <td>Van Nest</td>\n",
       "    </tr>\n",
       "    <tr>\n",
       "      <th>296</th>\n",
       "      <td>Manhattan</td>\n",
       "      <td>(POLYGON ((1005744.985949762 251004.8507903385...</td>\n",
       "      <td>Washington Heights</td>\n",
       "    </tr>\n",
       "    <tr>\n",
       "      <th>297</th>\n",
       "      <td>Staten Island</td>\n",
       "      <td>(POLYGON ((957253.0304110913 170273.9325701322...</td>\n",
       "      <td>West Brighton</td>\n",
       "    </tr>\n",
       "    <tr>\n",
       "      <th>298</th>\n",
       "      <td>Bronx</td>\n",
       "      <td>(POLYGON ((1016741.652253407 244876.9096235254...</td>\n",
       "      <td>West Farms</td>\n",
       "    </tr>\n",
       "    <tr>\n",
       "      <th>299</th>\n",
       "      <td>Manhattan</td>\n",
       "      <td>(POLYGON ((981808.7087331522 209745.070768735,...</td>\n",
       "      <td>West Village</td>\n",
       "    </tr>\n",
       "    <tr>\n",
       "      <th>300</th>\n",
       "      <td>Bronx</td>\n",
       "      <td>(POLYGON ((1027703.7895652 247684.1845328793, ...</td>\n",
       "      <td>Westchester Square</td>\n",
       "    </tr>\n",
       "    <tr>\n",
       "      <th>301</th>\n",
       "      <td>Staten Island</td>\n",
       "      <td>(POLYGON ((947800.0332756455 167491.8774851804...</td>\n",
       "      <td>Westerleigh</td>\n",
       "    </tr>\n",
       "    <tr>\n",
       "      <th>302</th>\n",
       "      <td>Queens</td>\n",
       "      <td>(POLYGON ((1041208.756228532 226820.3472964532...</td>\n",
       "      <td>Whitestone</td>\n",
       "    </tr>\n",
       "    <tr>\n",
       "      <th>303</th>\n",
       "      <td>Brooklyn</td>\n",
       "      <td>(POLYGON ((996010.0417737475 203451.785424655,...</td>\n",
       "      <td>Williamsburg</td>\n",
       "    </tr>\n",
       "    <tr>\n",
       "      <th>304</th>\n",
       "      <td>Staten Island</td>\n",
       "      <td>(POLYGON ((943413.6369951314 159912.1088958083...</td>\n",
       "      <td>Willowbrook</td>\n",
       "    </tr>\n",
       "    <tr>\n",
       "      <th>305</th>\n",
       "      <td>Brooklyn</td>\n",
       "      <td>(POLYGON ((989781.9570946024 180007.1541453055...</td>\n",
       "      <td>Windsor Terrace</td>\n",
       "    </tr>\n",
       "    <tr>\n",
       "      <th>306</th>\n",
       "      <td>Queens</td>\n",
       "      <td>(POLYGON ((1022425.547973993 192864.1746637179...</td>\n",
       "      <td>Woodhaven</td>\n",
       "    </tr>\n",
       "    <tr>\n",
       "      <th>307</th>\n",
       "      <td>Bronx</td>\n",
       "      <td>(POLYGON ((1023099.610064583 267391.8968665717...</td>\n",
       "      <td>Woodlawn</td>\n",
       "    </tr>\n",
       "    <tr>\n",
       "      <th>308</th>\n",
       "      <td>Staten Island</td>\n",
       "      <td>(POLYGON ((934975.6247884227 136292.4888986608...</td>\n",
       "      <td>Woodrow</td>\n",
       "    </tr>\n",
       "    <tr>\n",
       "      <th>309</th>\n",
       "      <td>Queens</td>\n",
       "      <td>(POLYGON ((1011714.171903836 215333.314232037,...</td>\n",
       "      <td>Woodside</td>\n",
       "    </tr>\n",
       "  </tbody>\n",
       "</table>\n",
       "<p>310 rows × 3 columns</p>\n",
       "</div>"
      ],
      "text/plain": [
       "           borough                                           geometry  \\\n",
       "0           Queens  (POLYGON ((1042695.41268177 157932.5909777562,...   \n",
       "1           Queens  (POLYGON ((1041567.549112553 166236.1995676575...   \n",
       "2            Bronx  (POLYGON ((1044339.23427794 246814.3387769974,...   \n",
       "3           Queens  (POLYGON ((1048643.510334175 157165.0353089103...   \n",
       "4        Manhattan  (POLYGON ((972697.5892621264 193015.8087967121...   \n",
       "5        Manhattan  (POLYGON ((988855.2701673042 209379.9600719489...   \n",
       "6         Brooklyn  (POLYGON ((1002290.931614941 158511.0111480284...   \n",
       "7         Brooklyn  (POLYGON ((983172.2402874186 151181.7700830466...   \n",
       "8        Manhattan  (POLYGON ((988393.9578039527 213817.0774394134...   \n",
       "9            Bronx  (POLYGON ((1032350.96826855 234897.0683896698,...   \n",
       "10        Brooklyn  (POLYGON ((1007199.300534071 169180.0729590046...   \n",
       "11        Brooklyn  (POLYGON ((986653.9948327752 189003.7364093927...   \n",
       "12        Brooklyn  (POLYGON ((995789.3137840726 187312.2280538441...   \n",
       "13          Queens  (POLYGON ((1030734.480163199 227172.5496674016...   \n",
       "14          Queens  (POLYGON ((1026136.050461259 208305.1769400339...   \n",
       "15          Queens  (POLYGON ((1011505.861053474 219011.386548206,...   \n",
       "16        Brooklyn  (POLYGON ((997302.3223243782 178004.7685763204...   \n",
       "17        Brooklyn  (POLYGON ((1005728.588653132 169986.4421622541...   \n",
       "18        Brooklyn  (POLYGON ((1020106.517703008 164080.5318383513...   \n",
       "19          Queens  (POLYGON ((1022740.40176501 179130.5551112474,...   \n",
       "20        Brooklyn  (POLYGON ((1026656.729477766 169555.6135163179...   \n",
       "21       Manhattan  (POLYGON ((1005744.985949762 251004.8507903385...   \n",
       "22        Brooklyn  (POLYGON ((1030489.58471887 167673.9275744826,...   \n",
       "23        Brooklyn  (POLYGON ((1006699.410443396 157740.4879366691...   \n",
       "24        Brooklyn  (POLYGON ((1005251.649319291 162059.0077562972...   \n",
       "25   Staten Island  (POLYGON ((939593.58909774 172262.9519788488, ...   \n",
       "26           Bronx  (POLYGON ((1009322.57110081 239083.5212973725,...   \n",
       "27          Queens  (POLYGON ((1024254.605186566 146811.3968599917...   \n",
       "28           Bronx  (POLYGON ((1042822.588211628 243439.7672661519...   \n",
       "29   Staten Island  (POLYGON ((966810.5748780243 163588.1843112861...   \n",
       "..             ...                                                ...   \n",
       "280      Manhattan  (POLYGON ((983458.4226768739 204633.0261620288...   \n",
       "281          Bronx  (POLYGON ((1023478.729740807 238791.150387127,...   \n",
       "282       Brooklyn  (POLYGON ((1002946.989729843 155779.7928159658...   \n",
       "283  Staten Island  (POLYGON ((964105.6728179598 171706.0168901923...   \n",
       "284  Staten Island  (POLYGON ((964105.6728179598 171706.0168901923...   \n",
       "285      Manhattan  (POLYGON ((991350.7508319035 207087.4585569472...   \n",
       "286         Queens  (POLYGON ((1008663.357352038 212065.9979143968...   \n",
       "287          Bronx  (POLYGON ((1028930.330406878 265051.9488454555...   \n",
       "288       Brooklyn  (POLYGON ((986247.1768555207 181745.9089258481...   \n",
       "289  Staten Island  (POLYGON ((956990.1261602258 161801.4447536799...   \n",
       "290          Bronx  (POLYGON ((1011611.651359204 253618.3378012406...   \n",
       "291  Staten Island  (POLYGON ((918882.911153377 129148.442979857, ...   \n",
       "292          Bronx  (POLYGON ((1028851.05459024 245631.0368628588,...   \n",
       "293      Manhattan  (POLYGON ((995779.1442510332 230875.7449837301...   \n",
       "294          Bronx  (POLYGON ((1020772.786972924 268286.7427073697...   \n",
       "295          Bronx  (POLYGON ((1021568.464384871 245784.5036059653...   \n",
       "296      Manhattan  (POLYGON ((1005744.985949762 251004.8507903385...   \n",
       "297  Staten Island  (POLYGON ((957253.0304110913 170273.9325701322...   \n",
       "298          Bronx  (POLYGON ((1016741.652253407 244876.9096235254...   \n",
       "299      Manhattan  (POLYGON ((981808.7087331522 209745.070768735,...   \n",
       "300          Bronx  (POLYGON ((1027703.7895652 247684.1845328793, ...   \n",
       "301  Staten Island  (POLYGON ((947800.0332756455 167491.8774851804...   \n",
       "302         Queens  (POLYGON ((1041208.756228532 226820.3472964532...   \n",
       "303       Brooklyn  (POLYGON ((996010.0417737475 203451.785424655,...   \n",
       "304  Staten Island  (POLYGON ((943413.6369951314 159912.1088958083...   \n",
       "305       Brooklyn  (POLYGON ((989781.9570946024 180007.1541453055...   \n",
       "306         Queens  (POLYGON ((1022425.547973993 192864.1746637179...   \n",
       "307          Bronx  (POLYGON ((1023099.610064583 267391.8968665717...   \n",
       "308  Staten Island  (POLYGON ((934975.6247884227 136292.4888986608...   \n",
       "309         Queens  (POLYGON ((1011714.171903836 215333.314232037,...   \n",
       "\n",
       "           neighborhood  \n",
       "0               Arverne  \n",
       "1         Broad Channel  \n",
       "2           City Island  \n",
       "3              Edgemere  \n",
       "4          Ellis Island  \n",
       "5     Flatiron District  \n",
       "6       Gerritsen Beach  \n",
       "7              Sea Gate  \n",
       "8      Theater District  \n",
       "9           Throgs Neck  \n",
       "10         Bergen Beach  \n",
       "11      Carroll Gardens  \n",
       "12         Clinton Hill  \n",
       "13        College Point  \n",
       "14               Corona  \n",
       "15     Ditmars Steinway  \n",
       "16             Flatbush  \n",
       "17            Flatlands  \n",
       "18          Jamaica Bay  \n",
       "19         Howard Beach  \n",
       "20          Jamaica Bay  \n",
       "21               Inwood  \n",
       "22          Jamaica Bay  \n",
       "23          Marine Park  \n",
       "24          Marine Park  \n",
       "25      Mariners Harbor  \n",
       "26              Melrose  \n",
       "27             Neponsit  \n",
       "28       Pelham Islands  \n",
       "29             Rosebank  \n",
       "..                  ...  \n",
       "280                SoHo  \n",
       "281           Soundview  \n",
       "282      Sheepshead Bay  \n",
       "283          St. George  \n",
       "284           Stapleton  \n",
       "285     Stuyvesant Town  \n",
       "286           Sunnyside  \n",
       "287           Wakefield  \n",
       "288         Sunset Park  \n",
       "289           Todt Hill  \n",
       "290  University Heights  \n",
       "291         Tottenville  \n",
       "292           Unionport  \n",
       "293     Upper West Side  \n",
       "294  Van Cortlandt Park  \n",
       "295            Van Nest  \n",
       "296  Washington Heights  \n",
       "297       West Brighton  \n",
       "298          West Farms  \n",
       "299        West Village  \n",
       "300  Westchester Square  \n",
       "301         Westerleigh  \n",
       "302          Whitestone  \n",
       "303        Williamsburg  \n",
       "304         Willowbrook  \n",
       "305     Windsor Terrace  \n",
       "306           Woodhaven  \n",
       "307            Woodlawn  \n",
       "308             Woodrow  \n",
       "309            Woodside  \n",
       "\n",
       "[310 rows x 3 columns]"
      ]
     },
     "execution_count": 41,
     "metadata": {},
     "output_type": "execute_result"
    }
   ],
   "source": [
    "zones"
   ]
  },
  {
   "cell_type": "code",
   "execution_count": 3,
   "metadata": {
    "collapsed": true
   },
   "outputs": [],
   "source": [
    "from pyspark.sql import SQLContext\n",
    "sqlContext=SQLContext(sc)"
   ]
  },
  {
   "cell_type": "code",
   "execution_count": 17,
   "metadata": {
    "collapsed": false
   },
   "outputs": [],
   "source": [
    "df = sc.textFile(\"output.csv\", use_unicode=False).cache()"
   ]
  },
  {
   "cell_type": "code",
   "execution_count": 18,
   "metadata": {
    "collapsed": false
   },
   "outputs": [],
   "source": [
    "def extractScores(index, lines):\n",
    "    import csv\n",
    "    reader = csv.reader(lines)\n",
    "    for row in reader:\n",
    "        (b, n) = (row[0].strip(\"'\"), row[1].strip(\"'\"))\n",
    "        yield ((b,n),1)\n",
    "        \n",
    "df1 = df.mapPartitionsWithIndex(extractScores)"
   ]
  },
  {
   "cell_type": "code",
   "execution_count": 19,
   "metadata": {
    "collapsed": false
   },
   "outputs": [
    {
     "data": {
      "text/plain": [
       "[(('Manhattan', 'Chelsea'), 1),\n",
       " (('Manhattan', 'EastVillage'), 1),\n",
       " (('Manhattan', \"Hell'sKitchen\"), 1),\n",
       " (('Manhattan', 'Midtown'), 1),\n",
       " (('Manhattan', 'GreenwichVillage'), 1),\n",
       " (('Manhattan', 'TheaterDistrict'), 1),\n",
       " (('Manhattan', 'UpperEastSide'), 1),\n",
       " (('Manhattan', 'Gramercy'), 1),\n",
       " (('Manhattan', 'UpperWestSide'), 1),\n",
       " (('Manhattan', 'Midtown'), 1),\n",
       " (('Manhattan', 'KipsBay'), 1),\n",
       " (('Queens', 'UpperEastSide'), 1),\n",
       " (('Manhattan', 'EastVillage'), 1),\n",
       " (('Manhattan', 'Chelsea'), 1),\n",
       " (('Manhattan', 'Midtown'), 1),\n",
       " (('Manhattan', 'Midtown'), 1),\n",
       " (('Manhattan', 'Midtown'), 1),\n",
       " (('Manhattan', 'GreenwichVillage'), 1),\n",
       " (('Manhattan', 'EastVillage'), 1),\n",
       " (('Manhattan', 'FlatironDistrict'), 1)]"
      ]
     },
     "execution_count": 19,
     "metadata": {},
     "output_type": "execute_result"
    }
   ],
   "source": [
    "df1.take(20)"
   ]
  },
  {
   "cell_type": "code",
   "execution_count": 52,
   "metadata": {
    "collapsed": false
   },
   "outputs": [],
   "source": [
    "df2 = df1.reduceByKey(lambda a, b: (a+b))\\\n",
    "            .sortBy(lambda x: -x[1]) \n"
   ]
  },
  {
   "cell_type": "code",
   "execution_count": 69,
   "metadata": {
    "collapsed": false
   },
   "outputs": [
    {
     "data": {
      "text/plain": [
       "[(('Manhattan', 'Midtown'), 2396124),\n",
       " (('Manhattan', 'UpperEastSide'), 2029549),\n",
       " (('Manhattan', 'UpperWestSide'), 1308388),\n",
       " (('Manhattan', 'Chelsea'), 1264311),\n",
       " (('Manhattan', \"Hell'sKitchen\"), 751111),\n",
       " (('Manhattan', 'EastVillage'), 555723),\n",
       " (('Manhattan', 'WestVillage'), 553480),\n",
       " (('Manhattan', 'TheaterDistrict'), 522833),\n",
       " (('Manhattan', 'MurrayHill'), 364961),\n",
       " (('Manhattan', 'SoHo'), 343788),\n",
       " (('Manhattan', 'GreenwichVillage'), 317738),\n",
       " (('Manhattan', 'Gramercy'), 310155),\n",
       " (('Manhattan', 'KipsBay'), 295427),\n",
       " (('Manhattan', 'Tribeca'), 251971),\n",
       " (('Manhattan', 'FinancialDistrict'), 244442),\n",
       " (('Manhattan', 'CentralPark'), 229968),\n",
       " (('Manhattan', 'LaGuardiaAirport'), 229932),\n",
       " (('Manhattan', 'FlatironDistrict'), 223023),\n",
       " (('Manhattan', 'LowerEastSide'), 187992),\n",
       " (('Manhattan', 'EastHarlem'), 133881)]"
      ]
     },
     "execution_count": 69,
     "metadata": {},
     "output_type": "execute_result"
    }
   ],
   "source": [
    "df2.take(20)"
   ]
  },
  {
   "cell_type": "code",
   "execution_count": 55,
   "metadata": {
    "collapsed": false
   },
   "outputs": [],
   "source": [
    "df3 = df2.map(lambda x: x[0])"
   ]
  },
  {
   "cell_type": "code",
   "execution_count": 122,
   "metadata": {
    "collapsed": false
   },
   "outputs": [
    {
     "data": {
      "text/plain": [
       "[('Manhattan', 'Midtown'),\n",
       " ('Manhattan', 'UpperEastSide'),\n",
       " ('Manhattan', 'UpperWestSide'),\n",
       " ('Manhattan', 'Chelsea'),\n",
       " ('Manhattan', \"Hell'sKitchen\"),\n",
       " ('Manhattan', 'EastVillage'),\n",
       " ('Manhattan', 'WestVillage'),\n",
       " ('Manhattan', 'TheaterDistrict'),\n",
       " ('Manhattan', 'MurrayHill'),\n",
       " ('Manhattan', 'SoHo')]"
      ]
     },
     "execution_count": 122,
     "metadata": {},
     "output_type": "execute_result"
    }
   ],
   "source": [
    "df3.take(10)"
   ]
  },
  {
   "cell_type": "code",
   "execution_count": 155,
   "metadata": {
    "collapsed": false
   },
   "outputs": [],
   "source": [
    "df4 = df3.reduceByKey(lambda a, b: (a+','+b))"
   ]
  },
  {
   "cell_type": "code",
   "execution_count": 156,
   "metadata": {
    "collapsed": false,
    "scrolled": false
   },
   "outputs": [
    {
     "data": {
      "text/plain": [
       "[('Manhattan',\n",
       "  \"Midtown,UpperEastSide,UpperWestSide,Chelsea,Hell'sKitchen,EastVillage,WestVillage,TheaterDistrict,MurrayHill,SoHo,GreenwichVillage,Gramercy,KipsBay,Tribeca,FinancialDistrict,CentralPark,LaGuardiaAirport,FlatironDistrict,LowerEastSide,EastHarlem,JohnF.KennedyInternationalAirport,MorningsideHeights,BatteryParkCity,NoHo,Harlem,StuyvesantTown,Nolita,Chinatown,CivicCenter,Williamsburg,LittleItaly,LongIslandCity,DowntownBrooklyn,BrooklynHeights,Astoria,Sunnyside,WashingtonHeights,CarrollGardens,FortGreene,CobbleHill,ParkSlope,BoerumHill,EastElmhurst,Woodside,DUMBO,Greenpoint,DitmarsSteinway,TwoBridges,ProspectHeights,Jamaica,SouthOzonePark,ClintonHill,Inwood,Randall'sIsland,RooseveltIsland,ForestHills,Elmhurst,Bedford-Stuyvesant,SouthSlope,MottHaven,Gowanus,FlushingMeadowsCoronaPark,JacksonHeights,RegoPark,Maspeth,CrownHeights,Concourse,SunsetPark,Flushing,Bushwick,PortMorris,ColumbiaSt,Kensington,Prospect-LeffertsGardens,Briarwood,RichmondHill,ProspectPark,Flatbush,Corona,RedHook,VinegarHill,Kingsbridge,Longwood,SpringfieldGardens,KewGardens,Highbridge,BayRidge,ConcourseVillage,Midwood,WindsorTerrace,NavyYard,Melrose,MarbleHill,EastFlatbush,MorrisHeights,BoroughPark,KewGardensHills,SheepsheadBay,OzonePark,Ridgewood,Woodhaven,EastNewYork,Fordham,GovernorsIsland,Parkchester,SpuytenDuyvil,Unionport,MountEden,CypressHills,FortHamilton,CollegePoint,Belmont,Gravesend,Bensonhurst,Riverdale,BronxPark,Morrisania,JamaicaHills,UniversityHeights,Soundview,MountHope,Norwood,BrightonBeach,ForestPark,Canarsie,Flatlands,Whitestone,ClaremontVillage,MiddleVillage,Fieldston,JamaicaEstates,Bellerose,CambriaHeights,DykerHeights,HuntsPoint,QueensVillage,Brownsville,HowardBeach,WestFarms,MorrisPark,ThrogsNeck,Bayside,NorthRiverdale,EastMorrisania,BathBeach,Glendale,WestchesterSquare,Green-WoodCemetery,Williamsbridge,RikersIsland,Bronxdale,VanNest,MarinePark,BroadChannel,ClasonPoint,NewSpringville,Tremont,Allerton,FreshMeadows,VanCortlandtPark,Woodlawn,JamaicaBay,PelhamBayPark,ParkHill,Bull'sHead,FloralPark,Rosedale,Wakefield,EmersonHill,St.Albans,AlleyPondPark,Hollis,Co-opCity,PelhamGardens,CityIsland,FreshkillsPark,ManhattanBeach,CastletonCorners,ConeyIsland,FloydBennettField,LittleNeck,DonganHills,GlenOaks,Schuylerville,Eastchester,Concord,RandallManor,BreezyPoint,Baychester,PelhamBay,CunninghamPark,ShoreAcres,CastleHill,FerryPointPark,EllisIsland,TodtHill,SouthBeach,MarinersHarbor,Bayswater,RockawayPark,WestBrighton,MillBasin,Olinville,Holliswood,PlumBeach,RockawayBeach,HowlandHook,Prince'sBay,PortRichmond,CrotonaPark,Tottenville,Tompkinsville,MidlandBeach,LatourettePark,BergenBeach,Arrochar,FortWadsworth,CountryClub,Woodrow,Laurelton,Rossville,Richmondtown,GreatKillsPark\"),\n",
       " ('Bronx',\n",
       "  \"UpperEastSide,Midtown,UpperWestSide,LaGuardiaAirport,Chelsea,Hell'sKitchen,JohnF.KennedyInternationalAirport,EastHarlem,TheaterDistrict,EastVillage,Harlem,MottHaven,CastleHill,MorningsideHeights,WestVillage,KipsBay,MurrayHill,Parkchester,Longwood,GreenwichVillage,Gramercy,WashingtonHeights,FinancialDistrict,Morrisania,LowerEastSide,Concourse,Unionport,CentralPark,Allerton,FlatironDistrict,SoHo,Tribeca,PortMorris,Astoria,Highbridge,Soundview,DitmarsSteinway,MorrisHeights,ConcourseVillage,Fordham,Norwood,Kingsbridge,EastMorrisania,LongIslandCity,HuntsPoint,ClaremontVillage,MountEden,WestchesterSquare,StuyvesantTown,MountHope,Chinatown,BronxPark,BatteryParkCity,NoHo,VanNest,ThrogsNeck,ClasonPoint,Inwood,EastElmhurst,Sunnyside,RikersIsland,MorrisPark,UniversityHeights,Williamsburg,Belmont,WestFarms,Melrose,CivicCenter,Williamsbridge,DowntownBrooklyn,Nolita,Woodside,PelhamGardens,Randall'sIsland,Tremont,CrotonaPark,PelhamBayPark,JacksonHeights,Wakefield,VanCortlandtPark,Schuylerville,Eastchester,Co-opCity,PelhamBay,Woodlawn,Elmhurst,FortGreene,Riverdale,LittleItaly,NorthRiverdale,SpuytenDuyvil,Flushing,Fieldston,ForestHills,Edenwald,Bronxdale,BrooklynHeights,Baychester,ProspectHeights,ParkSlope,FerryPointPark,Olinville,CountryClub,Greenpoint,MarbleHill,TwoBridges,RegoPark,BoerumHill,CarrollGardens,Bedford-Stuyvesant,RooseveltIsland,Maspeth,Jamaica,Whitestone,DUMBO,CrownHeights,SouthOzonePark,CityIsland,CollegePoint,Corona,Gowanus,ClintonHill,KewGardensHills,ColumbiaSt,Bushwick,SunsetPark,SouthSlope,FlushingMeadowsCoronaPark,CobbleHill,Prospect-LeffertsGardens,SpringfieldGardens,EastNewYork,RichmondHill,Bayside,Woodhaven,EastFlatbush,ProspectPark,KewGardens,Flatbush,FreshMeadows,Bensonhurst,ForestPark,FloralPark,VinegarHill,BayTerrace,Kensington,Briarwood,SouthBrotherIsland,OzonePark,Flatlands,Ridgewood,Laurelton,AlleyPondPark,QueensVillage,BroadChannel,BayRidge,NavyYard,Canarsie,MiddleVillage\"),\n",
       " ('StatenIsland',\n",
       "  \"JohnF.KennedyInternationalAirport,Midtown,FinancialDistrict,Chelsea,LaGuardiaAirport,NewSpringville,Hell'sKitchen,WestVillage,Tribeca,TheaterDistrict,UpperEastSide,EastVillage,EmersonHill,GreenwichVillage,FreshkillsPark,MurrayHill,SoHo,LatourettePark,UpperWestSide,Gramercy,KipsBay,CastletonCorners,LowerEastSide,BatteryParkCity,Bull'sHead,Graniteville,FlatironDistrict,St.George,RandallManor,Tompkinsville,TodtHill,ArdenHeights,Concord,GreatKills,Chinatown,SilverLake,CivicCenter,PortRichmond,NoHo,Williamsburg,DonganHills,Greenpoint,WestBrighton,Huguenot,Rossville,GrymesHill,Arrochar,DowntownBrooklyn,ParkHill,FortHamilton,Woodrow,SunsetPark,Oakwood,NewBrighton,BrooklynHeights,ShoreAcres,GreatKillsPark,StuyvesantTown,LittleItaly,Willowbrook,BayRidge,CentralPark,Nolita,Stapleton,MidlandBeach,SouthBeach,Clifton,LighthouseHill,Rosebank,EastHarlem,LongIslandCity,Eltingville,MorningsideHeights,Charleston,ParkSlope,EastElmhurst,CarrollGardens,Prince'sBay,Westerleigh,Richmondtown,Harlem,CobbleHill,MarinersHarbor,Bensonhurst,BoerumHill,NewDorpBeach,DykerHeights,FortWadsworth,Sunnyside,Bloomfield,HowlandHook,NewDorp,Tottenville,Flatlands,MarinePark,BoroughPark,Bedford-Stuyvesant,ColumbiaSt,DUMBO,BayTerrace,SheepsheadBay,Flushing,SouthSlope,Maspeth,Gowanus,ConeyIsland,TwoBridges,BrightonBeach,RegoPark,MottHaven,PleasantPlains,Elmhurst,FortGreene,DitmarsSteinway,RedHook,GrantCity,SouthOzonePark,BathBeach,NavyYard,WashingtonHeights,CrownHeights,Kensington,Green-WoodCemetery,Ridgewood,ManhattanBeach\"),\n",
       " ('Brooklyn',\n",
       "  \"Midtown,EastVillage,Williamsburg,Chelsea,LowerEastSide,JohnF.KennedyInternationalAirport,LaGuardiaAirport,WestVillage,SoHo,UpperEastSide,GreenwichVillage,Hell'sKitchen,FinancialDistrict,Tribeca,Gramercy,ParkSlope,TheaterDistrict,CarrollGardens,UpperWestSide,BrooklynHeights,DowntownBrooklyn,KipsBay,BoerumHill,FortGreene,FlatironDistrict,Chinatown,Nolita,MurrayHill,Greenpoint,NoHo,CobbleHill,CivicCenter,BatteryParkCity,ProspectHeights,Bedford-Stuyvesant,LongIslandCity,Gowanus,ClintonHill,DUMBO,Kensington,CrownHeights,LittleItaly,SouthSlope,SheepsheadBay,SunsetPark,StuyvesantTown,CentralPark,BoroughPark,Astoria,Bushwick,EastHarlem,Sunnyside,Flatbush,BayRidge,Gravesend,DykerHeights,MorningsideHeights,Harlem,Midwood,ProspectPark,Prospect-LeffertsGardens,EastFlatbush,EastElmhurst,RedHook,WindsorTerrace,Canarsie,ColumbiaSt,Woodside,EastNewYork,FortHamilton,Bensonhurst,TwoBridges,ForestHills,DitmarsSteinway,VinegarHill,Flatlands,Brownsville,Elmhurst,NavyYard,WashingtonHeights,BrightonBeach,Maspeth,CypressHills,JacksonHeights,Green-WoodCemetery,BathBeach,Ridgewood,RegoPark,MarinePark,JamaicaBay,RooseveltIsland,SouthOzonePark,FloydBennettField,Flushing,BergenBeach,ConeyIsland,ForestPark,Jamaica,OzonePark,KewGardens,MottHaven,MillBasin,Woodhaven,Concourse,FlushingMeadowsCoronaPark,HowardBeach,MiddleVillage,RichmondHill,Glendale,Corona,SeaGate,Inwood,ManhattanBeach,KewGardensHills,Briarwood,BroadChannel,GerritsenBeach,Randall'sIsland,GovernorsIsland,SpringfieldGardens,CollegePoint,PortMorris,BreezyPoint,Bayside,ConcourseVillage,Morrisania,Whitestone,CambriaHeights,Soundview,St.Albans,Concord,Melrose,Stapleton,Highbridge,QueensVillage,PlumBeach,Longwood,BayTerrace,Laurelton,Schuylerville,HuntsPoint,Parkchester,MorrisHeights,Williamsbridge,Fordham,Arrochar,FerryPointPark,VanCortlandtPark,NorthRiverdale,Rossville,PelhamBayPark,Clifton,ClasonPoint,JamaicaEstates,JamaicaHills,TodtHill,Bloomfield,Hollis,FarRockaway,Bayswater,PelhamBay,ThrogsNeck,RockawayBeach,FreshMeadows,PortRichmond,NewSpringville,FortWadsworth,WestFarms,Kingsbridge,Westerleigh,St.George,Allerton,Tompkinsville,HollisHills,WestBrighton,RockawayPark,RandallManor\"),\n",
       " ('Queens',\n",
       "  \"Midtown,UpperEastSide,JohnF.KennedyInternationalAirport,LaGuardiaAirport,LongIslandCity,TheaterDistrict,UpperWestSide,Chelsea,Hell'sKitchen,Astoria,EastVillage,MurrayHill,WestVillage,FinancialDistrict,KipsBay,Sunnyside,Gramercy,ForestHills,SoHo,EastElmhurst,LowerEastSide,GreenwichVillage,Woodside,Tribeca,FlatironDistrict,EastHarlem,DitmarsSteinway,Williamsburg,CentralPark,Flushing,Elmhurst,MorningsideHeights,JacksonHeights,BatteryParkCity,Harlem,NoHo,StuyvesantTown,Maspeth,Greenpoint,Nolita,RegoPark,Chinatown,Jamaica,DowntownBrooklyn,RichmondHill,BrooklynHeights,CivicCenter,FlushingMeadowsCoronaPark,SouthOzonePark,WashingtonHeights,CarrollGardens,FortGreene,ParkSlope,CobbleHill,Briarwood,LittleItaly,KewGardens,BoerumHill,RooseveltIsland,Corona,KewGardensHills,JamaicaHills,MiddleVillage,SpringfieldGardens,CollegePoint,OzonePark,ProspectHeights,Ridgewood,JamaicaEstates,DUMBO,Woodhaven,Bushwick,Bayside,BroadChannel,Glendale,Bedford-Stuyvesant,ForestPark,HowardBeach,Randall'sIsland,ColumbiaSt,ClintonHill,CrownHeights,St.Albans,QueensVillage,Whitestone,FreshMeadows,Hollis,Gowanus,SouthSlope,Rosedale,TwoBridges,MottHaven,CambriaHeights,BayTerrace,Bellerose,SunsetPark,EastNewYork,Inwood,Laurelton,Flatbush,PortMorris,Prospect-LeffertsGardens,RockawayBeach,Kensington,Concourse,CypressHills,Holliswood,Douglaston,ProspectPark,FloralPark,CunninghamPark,Arverne,VinegarHill,RedHook,EastFlatbush,FarRockaway,AlleyPondPark,RikersIsland,BoroughPark,Longwood,Bayswater,LittleNeck,Brownsville,SheepsheadBay,BreezyPoint,BrightonBeach,Canarsie,BayRidge,WindsorTerrace,Kingsbridge,Unionport,ConcourseVillage,HollisHills,RockawayPark,Edgemere,Soundview,Midwood,FortHamilton,Flatlands,HuntsPoint,ClasonPoint,NavyYard,Bensonhurst,GlenOaks,Fordham,Parkchester,Gravesend,ThrogsNeck,Belmont,Melrose,WestchesterSquare,Highbridge,Norwood,FerryPointPark,BronxPark,MountHope,VanCortlandtPark,FloydBennettField,PelhamGardens,JamaicaBay,UniversityHeights,Co-opCity,Williamsbridge,Green-WoodCemetery,PelhamBay,MorrisPark,ClaremontVillage,Morrisania,MarinePark,MountEden,Woodlawn,BelleHarbor,WestFarms,BathBeach,Wakefield,VanNest,Tremont,SpuytenDuyvil,Olinville,Allerton,DykerHeights,CastleHill,BergenBeach,Concord,PelhamBayPark,Arrochar,Prince'sBay,MarbleHill,CityIsland,St.George,Oakwood,NorthRiverdale,PortRichmond,MorrisHeights,Neponsit,ConeyIsland,EmersonHill,ManhattanBeach,Riverdale,ShoreAcres,PlumBeach,SouthBeach,Woodrow\")]"
      ]
     },
     "execution_count": 156,
     "metadata": {},
     "output_type": "execute_result"
    }
   ],
   "source": [
    "df4.take(10)"
   ]
  },
  {
   "cell_type": "code",
   "execution_count": 131,
   "metadata": {
    "collapsed": true
   },
   "outputs": [],
   "source": [
    "df5 = df4.mapValues(lambda x: x.split(\",\")[:3])"
   ]
  },
  {
   "cell_type": "code",
   "execution_count": 132,
   "metadata": {
    "collapsed": false
   },
   "outputs": [
    {
     "data": {
      "text/plain": [
       "[('Manhattan', ['Midtown', 'UpperEastSide', 'UpperWestSide']),\n",
       " ('Bronx', ['UpperEastSide', 'Midtown', 'UpperWestSide']),\n",
       " ('StatenIsland',\n",
       "  ['JohnF.KennedyInternationalAirport', 'Midtown', 'FinancialDistrict']),\n",
       " ('Brooklyn', ['Midtown', 'EastVillage', 'Williamsburg']),\n",
       " ('Queens', ['Midtown', 'UpperEastSide', 'JohnF.KennedyInternationalAirport'])]"
      ]
     },
     "execution_count": 132,
     "metadata": {},
     "output_type": "execute_result"
    }
   ],
   "source": [
    "df5.take(10)"
   ]
  },
  {
   "cell_type": "code",
   "execution_count": 19,
   "metadata": {
    "collapsed": true
   },
   "outputs": [],
   "source": [
    "df_final = df1.reduceByKey(lambda a, b: (a+b))\\\n",
    "            .sortBy(lambda x: -x[1]) \\\n",
    "            .map(lambda x: x[0]) \\\n",
    "            .reduceByKey(lambda a, b: (a+','+b)) \\\n",
    "            .mapValues(lambda x: x.split(\",\")[:3]) "
   ]
  },
  {
   "cell_type": "code",
   "execution_count": 20,
   "metadata": {
    "collapsed": false
   },
   "outputs": [
    {
     "data": {
      "text/plain": [
       "[('Manhattan', ['Midtown', 'UpperEastSide', 'UpperWestSide']),\n",
       " ('Bronx', ['UpperEastSide', 'Midtown', 'UpperWestSide']),\n",
       " ('StatenIsland',\n",
       "  ['JohnF.KennedyInternationalAirport', 'Midtown', 'FinancialDistrict']),\n",
       " ('Brooklyn', ['Midtown', 'EastVillage', 'Williamsburg']),\n",
       " ('Queens', ['Midtown', 'UpperEastSide', 'JohnF.KennedyInternationalAirport'])]"
      ]
     },
     "execution_count": 20,
     "metadata": {},
     "output_type": "execute_result"
    }
   ],
   "source": [
    "df_final.collect()"
   ]
  },
  {
   "cell_type": "code",
   "execution_count": null,
   "metadata": {
    "collapsed": true
   },
   "outputs": [],
   "source": []
  },
  {
   "cell_type": "code",
   "execution_count": 161,
   "metadata": {
    "collapsed": false
   },
   "outputs": [],
   "source": [
    "dffff3 = df2.map(lambda a: (a[0][0], (a[0][1], a[1])))"
   ]
  },
  {
   "cell_type": "code",
   "execution_count": 162,
   "metadata": {
    "collapsed": false,
    "scrolled": true
   },
   "outputs": [
    {
     "data": {
      "text/plain": [
       "[('Manhattan', ('Midtown', 2396124)),\n",
       " ('Manhattan', ('UpperEastSide', 2029549)),\n",
       " ('Manhattan', ('UpperWestSide', 1308388)),\n",
       " ('Manhattan', ('Chelsea', 1264311)),\n",
       " ('Manhattan', (\"Hell'sKitchen\", 751111)),\n",
       " ('Manhattan', ('EastVillage', 555723)),\n",
       " ('Manhattan', ('WestVillage', 553480)),\n",
       " ('Manhattan', ('TheaterDistrict', 522833)),\n",
       " ('Manhattan', ('MurrayHill', 364961)),\n",
       " ('Manhattan', ('SoHo', 343788))]"
      ]
     },
     "execution_count": 162,
     "metadata": {},
     "output_type": "execute_result"
    }
   ],
   "source": [
    "dffff3.take(10)"
   ]
  },
  {
   "cell_type": "code",
   "execution_count": 173,
   "metadata": {
    "collapsed": false
   },
   "outputs": [],
   "source": [
    "dfff4 = dffff3.reduceByKey(lambda a, b: a+b)"
   ]
  },
  {
   "cell_type": "code",
   "execution_count": 175,
   "metadata": {
    "collapsed": false
   },
   "outputs": [],
   "source": [
    "dfff5 = dfff4.mapValues(lambda x: (x[0],x[2],x[4]))"
   ]
  },
  {
   "cell_type": "code",
   "execution_count": 176,
   "metadata": {
    "collapsed": false,
    "scrolled": false
   },
   "outputs": [
    {
     "data": {
      "text/plain": [
       "[('Manhattan',\n",
       "  ('Midtown', 2396124, 'UpperEastSide', 2029549, 'UpperWestSide', 1308388)),\n",
       " ('Bronx', ('UpperEastSide', 9189, 'Midtown', 7943, 'UpperWestSide', 7225)),\n",
       " ('StatenIsland',\n",
       "  ('JohnF.KennedyInternationalAirport',\n",
       "   415,\n",
       "   'Midtown',\n",
       "   385,\n",
       "   'FinancialDistrict',\n",
       "   257)),\n",
       " ('Brooklyn', ('Midtown', 55328, 'EastVillage', 54647, 'Williamsburg', 48727)),\n",
       " ('Queens',\n",
       "  ('Midtown',\n",
       "   132378,\n",
       "   'UpperEastSide',\n",
       "   66421,\n",
       "   'JohnF.KennedyInternationalAirport',\n",
       "   59232))]"
      ]
     },
     "execution_count": 176,
     "metadata": {},
     "output_type": "execute_result"
    }
   ],
   "source": [
    "dfff5.take(5)"
   ]
  },
  {
   "cell_type": "code",
   "execution_count": 177,
   "metadata": {
    "collapsed": true
   },
   "outputs": [],
   "source": [
    "df_final_1 = df1.reduceByKey(lambda a, b: (a+b))\\\n",
    "            .sortBy(lambda x: -x[1]) \\\n",
    "            .map(lambda a: (a[0][0], (a[0][1], a[1]))) \\\n",
    "            .reduceByKey(lambda a, b: a+b) \\\n",
    "            .mapValues(lambda x: (x[0],x[2],x[4]))"
   ]
  },
  {
   "cell_type": "code",
   "execution_count": 178,
   "metadata": {
    "collapsed": false
   },
   "outputs": [
    {
     "data": {
      "text/plain": [
       "[('Manhattan', ('Midtown', 'UpperEastSide', 'UpperWestSide')),\n",
       " ('Bronx', ('UpperEastSide', 'Midtown', 'UpperWestSide')),\n",
       " ('StatenIsland',\n",
       "  ('JohnF.KennedyInternationalAirport', 'Midtown', 'FinancialDistrict')),\n",
       " ('Brooklyn', ('Midtown', 'EastVillage', 'Williamsburg')),\n",
       " ('Queens', ('Midtown', 'UpperEastSide', 'JohnF.KennedyInternationalAirport'))]"
      ]
     },
     "execution_count": 178,
     "metadata": {},
     "output_type": "execute_result"
    }
   ],
   "source": [
    "df_final_1.take(5)"
   ]
  },
  {
   "cell_type": "code",
   "execution_count": 20,
   "metadata": {
    "collapsed": false
   },
   "outputs": [],
   "source": [
    "df_final_2 = df1.reduceByKey(lambda a, b: (a+b))\\\n",
    "            .map(lambda a: (a[0][0], (a[0][1], a[1]))) \\\n",
    "            .sortBy(lambda x: -x[1][1]) \\\n",
    "            .reduceByKey(lambda a, b: a+b) \\\n",
    "            .mapValues(lambda x: (x[0],x[2],x[4]))"
   ]
  },
  {
   "cell_type": "code",
   "execution_count": 21,
   "metadata": {
    "collapsed": false
   },
   "outputs": [
    {
     "data": {
      "text/plain": [
       "[('Manhattan', ('Midtown', 'UpperEastSide', 'UpperWestSide')),\n",
       " ('Bronx', ('UpperEastSide', 'Midtown', 'UpperWestSide')),\n",
       " ('StatenIsland',\n",
       "  ('JohnF.KennedyInternationalAirport', 'Midtown', 'FinancialDistrict')),\n",
       " ('Brooklyn', ('Midtown', 'EastVillage', 'Williamsburg')),\n",
       " ('Queens', ('Midtown', 'UpperEastSide', 'JohnF.KennedyInternationalAirport'))]"
      ]
     },
     "execution_count": 21,
     "metadata": {},
     "output_type": "execute_result"
    }
   ],
   "source": [
    "df_final_2.take(10)"
   ]
  },
  {
   "cell_type": "code",
   "execution_count": null,
   "metadata": {
    "collapsed": true
   },
   "outputs": [],
   "source": []
  }
 ],
 "metadata": {
  "kernelspec": {
   "display_name": "Python 2",
   "language": "python",
   "name": "python2"
  },
  "language_info": {
   "codemirror_mode": {
    "name": "ipython",
    "version": 2
   },
   "file_extension": ".py",
   "mimetype": "text/x-python",
   "name": "python",
   "nbconvert_exporter": "python",
   "pygments_lexer": "ipython2",
   "version": "2.7.11"
  }
 },
 "nbformat": 4,
 "nbformat_minor": 0
}
