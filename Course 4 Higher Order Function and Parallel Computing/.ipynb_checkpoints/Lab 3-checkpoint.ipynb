{
 "cells": [
  {
   "cell_type": "code",
   "execution_count": 1,
   "metadata": {
    "collapsed": false
   },
   "outputs": [
    {
     "name": "stderr",
     "output_type": "stream",
     "text": [
      "/Users/Tianqi/anaconda/lib/python2.7/site-packages/matplotlib/__init__.py:872: UserWarning: axes.color_cycle is deprecated and replaced with axes.prop_cycle; please use the latter.\n",
      "  warnings.warn(self.msg_depr % (key, alt_key))\n"
     ]
    }
   ],
   "source": [
    "import pandas as pd\n",
    "%matplotlib inline\n",
    "import matplotlib.pyplot as plt\n",
    "import seaborn as sns\n",
    "import csv\n",
    "import dateutil"
   ]
  },
  {
   "cell_type": "code",
   "execution_count": 2,
   "metadata": {
    "collapsed": true
   },
   "outputs": [],
   "source": [
    "sns.set_style('whitegrid')\n",
    "sns.set_color_codes('muted')"
   ]
  },
  {
   "cell_type": "code",
   "execution_count": 3,
   "metadata": {
    "collapsed": true
   },
   "outputs": [],
   "source": [
    "tips = sns.load_dataset('tips')"
   ]
  },
  {
   "cell_type": "code",
   "execution_count": 4,
   "metadata": {
    "collapsed": false
   },
   "outputs": [
    {
     "data": {
      "text/html": [
       "<div>\n",
       "<table border=\"1\" class=\"dataframe\">\n",
       "  <thead>\n",
       "    <tr style=\"text-align: right;\">\n",
       "      <th></th>\n",
       "      <th>total_bill</th>\n",
       "      <th>tip</th>\n",
       "      <th>sex</th>\n",
       "      <th>smoker</th>\n",
       "      <th>day</th>\n",
       "      <th>time</th>\n",
       "      <th>size</th>\n",
       "    </tr>\n",
       "  </thead>\n",
       "  <tbody>\n",
       "    <tr>\n",
       "      <th>0</th>\n",
       "      <td>16.99</td>\n",
       "      <td>1.01</td>\n",
       "      <td>Female</td>\n",
       "      <td>No</td>\n",
       "      <td>Sun</td>\n",
       "      <td>Dinner</td>\n",
       "      <td>2</td>\n",
       "    </tr>\n",
       "    <tr>\n",
       "      <th>1</th>\n",
       "      <td>10.34</td>\n",
       "      <td>1.66</td>\n",
       "      <td>Male</td>\n",
       "      <td>No</td>\n",
       "      <td>Sun</td>\n",
       "      <td>Dinner</td>\n",
       "      <td>3</td>\n",
       "    </tr>\n",
       "    <tr>\n",
       "      <th>2</th>\n",
       "      <td>21.01</td>\n",
       "      <td>3.50</td>\n",
       "      <td>Male</td>\n",
       "      <td>No</td>\n",
       "      <td>Sun</td>\n",
       "      <td>Dinner</td>\n",
       "      <td>3</td>\n",
       "    </tr>\n",
       "    <tr>\n",
       "      <th>3</th>\n",
       "      <td>23.68</td>\n",
       "      <td>3.31</td>\n",
       "      <td>Male</td>\n",
       "      <td>No</td>\n",
       "      <td>Sun</td>\n",
       "      <td>Dinner</td>\n",
       "      <td>2</td>\n",
       "    </tr>\n",
       "    <tr>\n",
       "      <th>4</th>\n",
       "      <td>24.59</td>\n",
       "      <td>3.61</td>\n",
       "      <td>Female</td>\n",
       "      <td>No</td>\n",
       "      <td>Sun</td>\n",
       "      <td>Dinner</td>\n",
       "      <td>4</td>\n",
       "    </tr>\n",
       "  </tbody>\n",
       "</table>\n",
       "</div>"
      ],
      "text/plain": [
       "   total_bill   tip     sex smoker  day    time  size\n",
       "0       16.99  1.01  Female     No  Sun  Dinner     2\n",
       "1       10.34  1.66    Male     No  Sun  Dinner     3\n",
       "2       21.01  3.50    Male     No  Sun  Dinner     3\n",
       "3       23.68  3.31    Male     No  Sun  Dinner     2\n",
       "4       24.59  3.61  Female     No  Sun  Dinner     4"
      ]
     },
     "execution_count": 4,
     "metadata": {},
     "output_type": "execute_result"
    }
   ],
   "source": [
    "tips.head()"
   ]
  },
  {
   "cell_type": "code",
   "execution_count": 6,
   "metadata": {
    "collapsed": true
   },
   "outputs": [],
   "source": [
    "rows = tips.values.tolist()"
   ]
  },
  {
   "cell_type": "code",
   "execution_count": 7,
   "metadata": {
    "collapsed": false
   },
   "outputs": [
    {
     "data": {
      "text/plain": [
       "[16.99, 1.01, 'Female', 'No', 'Sun', 'Dinner', 2]"
      ]
     },
     "execution_count": 7,
     "metadata": {},
     "output_type": "execute_result"
    }
   ],
   "source": [
    "rows[0]"
   ]
  },
  {
   "cell_type": "code",
   "execution_count": 9,
   "metadata": {
    "collapsed": false
   },
   "outputs": [],
   "source": [
    "gender = map(lambda x: x[2], rows)"
   ]
  },
  {
   "cell_type": "code",
   "execution_count": 17,
   "metadata": {
    "collapsed": false
   },
   "outputs": [
    {
     "data": {
      "text/plain": [
       "['Female', 'Male', 'Male']"
      ]
     },
     "execution_count": 17,
     "metadata": {},
     "output_type": "execute_result"
    }
   ],
   "source": [
    "gender[:3]"
   ]
  },
  {
   "cell_type": "code",
   "execution_count": 13,
   "metadata": {
    "collapsed": false
   },
   "outputs": [],
   "source": [
    "# sum(map(lambda x: 1, filter(lambda x: x=='Male', gender)))\n",
    "pairs = map(lambda x: (int(x=='Male'), int(x=='Female')), gender)"
   ]
  },
  {
   "cell_type": "code",
   "execution_count": 15,
   "metadata": {
    "collapsed": false
   },
   "outputs": [
    {
     "data": {
      "text/plain": [
       "[(0, 1), (1, 0), (1, 0)]"
      ]
     },
     "execution_count": 15,
     "metadata": {},
     "output_type": "execute_result"
    }
   ],
   "source": [
    "pairs[:3]"
   ]
  },
  {
   "cell_type": "code",
   "execution_count": 16,
   "metadata": {
    "collapsed": false
   },
   "outputs": [
    {
     "data": {
      "text/plain": [
       "(157, 87)"
      ]
     },
     "execution_count": 16,
     "metadata": {},
     "output_type": "execute_result"
    }
   ],
   "source": [
    "reduce (lambda x,y: (x[0]+y[0], x[1]+y[1]), pairs)"
   ]
  },
  {
   "cell_type": "code",
   "execution_count": 19,
   "metadata": {
    "collapsed": false
   },
   "outputs": [],
   "source": [
    "weekday = map(lambda x: x[4], rows)"
   ]
  },
  {
   "cell_type": "code",
   "execution_count": 20,
   "metadata": {
    "collapsed": false
   },
   "outputs": [
    {
     "data": {
      "text/plain": [
       "['Sun', 'Sun', 'Sun']"
      ]
     },
     "execution_count": 20,
     "metadata": {},
     "output_type": "execute_result"
    }
   ],
   "source": [
    "weekday[:3]"
   ]
  },
  {
   "cell_type": "code",
   "execution_count": 29,
   "metadata": {
    "collapsed": true
   },
   "outputs": [],
   "source": [
    "days = map(lambda x: (int(x=='Sun'),int(x=='Mon'),int(x=='Tue'),int(x=='Wed'),int(x=='Thur'),int(x=='Fri'),int(x=='Sat')), weekday)"
   ]
  },
  {
   "cell_type": "code",
   "execution_count": 30,
   "metadata": {
    "collapsed": false
   },
   "outputs": [
    {
     "data": {
      "text/plain": [
       "[(1, 0, 0, 0, 0, 0, 0), (1, 0, 0, 0, 0, 0, 0), (1, 0, 0, 0, 0, 0, 0)]"
      ]
     },
     "execution_count": 30,
     "metadata": {},
     "output_type": "execute_result"
    }
   ],
   "source": [
    "days[:3]"
   ]
  },
  {
   "cell_type": "code",
   "execution_count": 31,
   "metadata": {
    "collapsed": false
   },
   "outputs": [
    {
     "data": {
      "text/plain": [
       "(76, 0, 0, 0, 62, 19, 87)"
      ]
     },
     "execution_count": 31,
     "metadata": {},
     "output_type": "execute_result"
    }
   ],
   "source": [
    "reduce (lambda x,y: (x[0]+y[0], x[1]+y[1], x[2]+y[2], x[3]+y[3], x[4]+y[4], x[5]+y[5], x[6]+y[6]), days)"
   ]
  },
  {
   "cell_type": "markdown",
   "metadata": {},
   "source": [
    "## better way"
   ]
  },
  {
   "cell_type": "code",
   "execution_count": 40,
   "metadata": {
    "collapsed": false
   },
   "outputs": [],
   "source": [
    "def reducer(x, y):\n",
    "    x[y] = x.get(y, 0)+1\n",
    "    return x\n",
    "\n",
    "counts = reduce(reducer, weekday,{})"
   ]
  },
  {
   "cell_type": "code",
   "execution_count": 36,
   "metadata": {
    "collapsed": false,
    "scrolled": true
   },
   "outputs": [
    {
     "data": {
      "text/plain": [
       "{'Fri': 19, 'Sat': 87, 'Sun': 76, 'Thur': 62}"
      ]
     },
     "execution_count": 36,
     "metadata": {},
     "output_type": "execute_result"
    }
   ],
   "source": [
    "counts"
   ]
  },
  {
   "cell_type": "markdown",
   "metadata": {},
   "source": [
    "## citibike"
   ]
  },
  {
   "cell_type": "code",
   "execution_count": 44,
   "metadata": {
    "collapsed": false
   },
   "outputs": [],
   "source": [
    "Y = None\n",
    "def checkDate(x):\n",
    "    global Y\n",
    "    d = dateutil.parser.parse(x['starttime']).date()\n",
    "    if d!= Y:\n",
    "        Y=d\n",
    "        return True\n",
    "    return False\n",
    "\n",
    "filename = 'citibike.csv'\n",
    "with open(filename, 'r') as fi:\n",
    "    reader = csv.DictReader(fi)\n",
    "    \n",
    "    values = filter(checkDate, reader)"
   ]
  },
  {
   "cell_type": "code",
   "execution_count": 47,
   "metadata": {
    "collapsed": false
   },
   "outputs": [
    {
     "data": {
      "text/plain": [
       "<csv.DictReader instance at 0x108a83908>"
      ]
     },
     "execution_count": 47,
     "metadata": {},
     "output_type": "execute_result"
    }
   ],
   "source": [
    "reader"
   ]
  },
  {
   "cell_type": "code",
   "execution_count": 46,
   "metadata": {
    "collapsed": false,
    "scrolled": true
   },
   "outputs": [
    {
     "data": {
      "text/plain": [
       "[{'bikeid': '17131',\n",
       "  'birth_year': '1978',\n",
       "  'cartodb_id': '1',\n",
       "  'end_station_id': '423',\n",
       "  'end_station_latitude': '40.76584941',\n",
       "  'end_station_longitude': '-73.98690506',\n",
       "  'end_station_name': 'W 54 St & 9 Ave',\n",
       "  'gender': '2',\n",
       "  'start_station_id': '521',\n",
       "  'start_station_latitude': '40.75044999',\n",
       "  'start_station_longitude': '-73.99481051',\n",
       "  'start_station_name': '8 Ave & W 31 St',\n",
       "  'starttime': '2015-02-01 00:00:00+00',\n",
       "  'stoptime': '2015-02-01 00:14:00+00',\n",
       "  'the_geom': '',\n",
       "  'tripduration': '801',\n",
       "  'usertype': 'Subscriber'},\n",
       " {'bikeid': '20684',\n",
       "  'birth_year': '1992',\n",
       "  'cartodb_id': '6442',\n",
       "  'end_station_id': '489',\n",
       "  'end_station_latitude': '40.75066386',\n",
       "  'end_station_longitude': '-74.00176802',\n",
       "  'end_station_name': '10 Ave & W 28 St',\n",
       "  'gender': '1',\n",
       "  'start_station_id': '442',\n",
       "  'start_station_latitude': '40.746647',\n",
       "  'start_station_longitude': '-73.993915',\n",
       "  'start_station_name': 'W 27 St & 7 Ave',\n",
       "  'starttime': '2015-02-02 00:02:00+00',\n",
       "  'stoptime': '2015-02-02 00:05:00+00',\n",
       "  'the_geom': '',\n",
       "  'tripduration': '199',\n",
       "  'usertype': 'Subscriber'},\n",
       " {'bikeid': '20328',\n",
       "  'birth_year': '1982',\n",
       "  'cartodb_id': '7901',\n",
       "  'end_station_id': '2008',\n",
       "  'end_station_latitude': '40.70569254',\n",
       "  'end_station_longitude': '-74.01677685',\n",
       "  'end_station_name': 'Little West St & 1 Pl',\n",
       "  'gender': '1',\n",
       "  'start_station_id': '387',\n",
       "  'start_station_latitude': '40.71273266',\n",
       "  'start_station_longitude': '-74.0046073',\n",
       "  'start_station_name': 'Centre St & Chambers St',\n",
       "  'starttime': '2015-02-03 00:00:00+00',\n",
       "  'stoptime': '2015-02-03 00:12:00+00',\n",
       "  'the_geom': '',\n",
       "  'tripduration': '704',\n",
       "  'usertype': 'Subscriber'},\n",
       " {'bikeid': '15253',\n",
       "  'birth_year': '1969',\n",
       "  'cartodb_id': '12655',\n",
       "  'end_station_id': '438',\n",
       "  'end_station_latitude': '40.72779126',\n",
       "  'end_station_longitude': '-73.98564945',\n",
       "  'end_station_name': 'St Marks Pl & 1 Ave',\n",
       "  'gender': '1',\n",
       "  'start_station_id': '237',\n",
       "  'start_station_latitude': '40.73047309',\n",
       "  'start_station_longitude': '-73.98672378',\n",
       "  'start_station_name': 'E 11 St & 2 Ave',\n",
       "  'starttime': '2015-02-04 00:00:00+00',\n",
       "  'stoptime': '2015-02-04 00:02:00+00',\n",
       "  'the_geom': '',\n",
       "  'tripduration': '146',\n",
       "  'usertype': 'Subscriber'},\n",
       " {'bikeid': '20290',\n",
       "  'birth_year': '1971',\n",
       "  'cartodb_id': '21628',\n",
       "  'end_station_id': '461',\n",
       "  'end_station_latitude': '40.73587678',\n",
       "  'end_station_longitude': '-73.98205027',\n",
       "  'end_station_name': 'E 20 St & 2 Ave',\n",
       "  'gender': '1',\n",
       "  'start_station_id': '497',\n",
       "  'start_station_latitude': '40.73704984',\n",
       "  'start_station_longitude': '-73.99009296',\n",
       "  'start_station_name': 'E 17 St & Broadway',\n",
       "  'starttime': '2015-02-05 00:00:00+00',\n",
       "  'stoptime': '2015-02-05 00:17:00+00',\n",
       "  'the_geom': '',\n",
       "  'tripduration': '1034',\n",
       "  'usertype': 'Subscriber'},\n",
       " {'bikeid': '19891',\n",
       "  'birth_year': '1989',\n",
       "  'cartodb_id': '30836',\n",
       "  'end_station_id': '472',\n",
       "  'end_station_latitude': '40.7457121',\n",
       "  'end_station_longitude': '-73.98194829',\n",
       "  'end_station_name': 'E 32 St & Park Ave',\n",
       "  'gender': '1',\n",
       "  'start_station_id': '491',\n",
       "  'start_station_latitude': '40.74096374',\n",
       "  'start_station_longitude': '-73.98602213',\n",
       "  'start_station_name': 'E 24 St & Park Ave S',\n",
       "  'starttime': '2015-02-06 00:01:00+00',\n",
       "  'stoptime': '2015-02-06 00:05:00+00',\n",
       "  'the_geom': '',\n",
       "  'tripduration': '212',\n",
       "  'usertype': 'Subscriber'},\n",
       " {'bikeid': '19071',\n",
       "  'birth_year': '1963',\n",
       "  'cartodb_id': '39412',\n",
       "  'end_station_id': '489',\n",
       "  'end_station_latitude': '40.75066386',\n",
       "  'end_station_longitude': '-74.00176802',\n",
       "  'end_station_name': '10 Ave & W 28 St',\n",
       "  'gender': '1',\n",
       "  'start_station_id': '116',\n",
       "  'start_station_latitude': '40.74177603',\n",
       "  'start_station_longitude': '-74.00149746',\n",
       "  'start_station_name': 'W 17 St & 8 Ave',\n",
       "  'starttime': '2015-02-07 00:00:00+00',\n",
       "  'stoptime': '2015-02-07 00:07:00+00',\n",
       "  'the_geom': '',\n",
       "  'tripduration': '424',\n",
       "  'usertype': 'Subscriber'}]"
      ]
     },
     "execution_count": 46,
     "metadata": {},
     "output_type": "execute_result"
    }
   ],
   "source": [
    "values"
   ]
  },
  {
   "cell_type": "code",
   "execution_count": 55,
   "metadata": {
    "collapsed": false
   },
   "outputs": [
    {
     "name": "stdout",
     "output_type": "stream",
     "text": [
      "Time 2.65909790993\n"
     ]
    }
   ],
   "source": [
    "import multiprocessing as mp\n",
    "import shapely.geometry as geom\n",
    "import pyproj\n",
    "from timeit import default_timer\n",
    "\n",
    "\n",
    "def projection(row):\n",
    "    proj = pyproj.Proj(init='epsg:2263', preserve_units=True)\n",
    "    return geom.Point(proj(float(row['start_station_longitude']),\n",
    "                float(row['start_station_latitude'])))\n",
    "\n",
    "pool = mp.Pool(processes=2)\n",
    "\n",
    "filename = 'citibike.csv'\n",
    "with open(filename, 'r') as fi:\n",
    "    reader = csv.DictReader(fi)\n",
    "    \n",
    "    start = default_timer()\n",
    "    coords = pool.map(projection, reader)\n",
    "    end = default_timer()\n",
    "    print 'Time', end-start"
   ]
  },
  {
   "cell_type": "code",
   "execution_count": null,
   "metadata": {
    "collapsed": true
   },
   "outputs": [],
   "source": [
    "def first_ride(reader):\n",
    "    global Y\n",
    "    time = dateutil.parser.parse(x['starttime']).date()\n",
    "    for time.\n",
    "    if d!= Y:\n",
    "        Y=d\n",
    "        return True\n",
    "    return False\n",
    "    yield reader.next()\n",
    "##########################"
   ]
  }
 ],
 "metadata": {
  "kernelspec": {
   "display_name": "Python 2",
   "language": "python",
   "name": "python2"
  },
  "language_info": {
   "codemirror_mode": {
    "name": "ipython",
    "version": 2
   },
   "file_extension": ".py",
   "mimetype": "text/x-python",
   "name": "python",
   "nbconvert_exporter": "python",
   "pygments_lexer": "ipython2",
   "version": "2.7.10"
  }
 },
 "nbformat": 4,
 "nbformat_minor": 0
}
