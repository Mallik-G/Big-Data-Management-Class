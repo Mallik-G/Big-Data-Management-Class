{
 "cells": [
  {
   "cell_type": "code",
   "execution_count": 2,
   "metadata": {
    "collapsed": false
   },
   "outputs": [],
   "source": [
    "import pandas as pd\n",
    "%matplotlib inline\n",
    "import matplotlib.pyplot as plt\n",
    "import seaborn as sns\n",
    "import csv\n",
    "import dateutil"
   ]
  },
  {
   "cell_type": "code",
   "execution_count": 3,
   "metadata": {
    "collapsed": true
   },
   "outputs": [],
   "source": [
    "sns.set_style(\"whitegrid\")\n",
    "sns.set_color_codes(\"muted\")\n",
    "\n",
    "tips = sns.load_dataset(\"tips\")"
   ]
  },
  {
   "cell_type": "markdown",
   "metadata": {},
   "source": [
    "## Lab 3\n",
    "\n",
    "In this lab, we'll be practicing higher order functions in Python. In the first couple task, we will use the tips data set that comes with seaborn. In particular, we'll be working directly on the <b>rows</b> (a Python's list), extracted from the data set."
   ]
  },
  {
   "cell_type": "code",
   "execution_count": 4,
   "metadata": {
    "collapsed": false
   },
   "outputs": [
    {
     "data": {
      "text/html": [
       "<div>\n",
       "<table border=\"1\" class=\"dataframe\">\n",
       "  <thead>\n",
       "    <tr style=\"text-align: right;\">\n",
       "      <th></th>\n",
       "      <th>total_bill</th>\n",
       "      <th>tip</th>\n",
       "      <th>sex</th>\n",
       "      <th>smoker</th>\n",
       "      <th>day</th>\n",
       "      <th>time</th>\n",
       "      <th>size</th>\n",
       "    </tr>\n",
       "  </thead>\n",
       "  <tbody>\n",
       "    <tr>\n",
       "      <th>0</th>\n",
       "      <td>16.99</td>\n",
       "      <td>1.01</td>\n",
       "      <td>Female</td>\n",
       "      <td>No</td>\n",
       "      <td>Sun</td>\n",
       "      <td>Dinner</td>\n",
       "      <td>2</td>\n",
       "    </tr>\n",
       "    <tr>\n",
       "      <th>1</th>\n",
       "      <td>10.34</td>\n",
       "      <td>1.66</td>\n",
       "      <td>Male</td>\n",
       "      <td>No</td>\n",
       "      <td>Sun</td>\n",
       "      <td>Dinner</td>\n",
       "      <td>3</td>\n",
       "    </tr>\n",
       "    <tr>\n",
       "      <th>2</th>\n",
       "      <td>21.01</td>\n",
       "      <td>3.50</td>\n",
       "      <td>Male</td>\n",
       "      <td>No</td>\n",
       "      <td>Sun</td>\n",
       "      <td>Dinner</td>\n",
       "      <td>3</td>\n",
       "    </tr>\n",
       "    <tr>\n",
       "      <th>3</th>\n",
       "      <td>23.68</td>\n",
       "      <td>3.31</td>\n",
       "      <td>Male</td>\n",
       "      <td>No</td>\n",
       "      <td>Sun</td>\n",
       "      <td>Dinner</td>\n",
       "      <td>2</td>\n",
       "    </tr>\n",
       "    <tr>\n",
       "      <th>4</th>\n",
       "      <td>24.59</td>\n",
       "      <td>3.61</td>\n",
       "      <td>Female</td>\n",
       "      <td>No</td>\n",
       "      <td>Sun</td>\n",
       "      <td>Dinner</td>\n",
       "      <td>4</td>\n",
       "    </tr>\n",
       "  </tbody>\n",
       "</table>\n",
       "</div>"
      ],
      "text/plain": [
       "   total_bill   tip     sex smoker  day    time  size\n",
       "0       16.99  1.01  Female     No  Sun  Dinner     2\n",
       "1       10.34  1.66    Male     No  Sun  Dinner     3\n",
       "2       21.01  3.50    Male     No  Sun  Dinner     3\n",
       "3       23.68  3.31    Male     No  Sun  Dinner     2\n",
       "4       24.59  3.61  Female     No  Sun  Dinner     4"
      ]
     },
     "execution_count": 4,
     "metadata": {},
     "output_type": "execute_result"
    }
   ],
   "source": [
    "tips.head()"
   ]
  },
  {
   "cell_type": "code",
   "execution_count": 5,
   "metadata": {
    "collapsed": true
   },
   "outputs": [],
   "source": [
    "rows = tips.values.tolist()"
   ]
  },
  {
   "cell_type": "code",
   "execution_count": 6,
   "metadata": {
    "collapsed": false
   },
   "outputs": [
    {
     "data": {
      "text/plain": [
       "[16.99, 1.01, 'Female', 'No', 'Sun', 'Dinner', 2]"
      ]
     },
     "execution_count": 6,
     "metadata": {},
     "output_type": "execute_result"
    }
   ],
   "source": [
    "rows[0]"
   ]
  },
  {
   "cell_type": "markdown",
   "metadata": {},
   "source": [
    "### Objective 1\n",
    "We would like to know how many of the tip transactions were served by a waiter, and how many were served by a waitress. We can do this by just counting the number of occurence of \"Male\" and \"Female\" in the sex column."
   ]
  },
  {
   "cell_type": "code",
   "execution_count": 7,
   "metadata": {
    "collapsed": true
   },
   "outputs": [],
   "source": [
    "# First, we extract the gender column from rows\n",
    "gender = map(lambda x: x[2], rows)"
   ]
  },
  {
   "cell_type": "code",
   "execution_count": 8,
   "metadata": {
    "collapsed": false
   },
   "outputs": [],
   "source": [
    "# Then, for each row, we'll create a 2-element counter, 1 for the waiter and 1 for the waitress\n",
    "pairs = map(lambda x: (int(x=='Male'), int(x=='Female')), gender)"
   ]
  },
  {
   "cell_type": "code",
   "execution_count": 9,
   "metadata": {
    "collapsed": false
   },
   "outputs": [
    {
     "data": {
      "text/plain": [
       "[(0, 1), (1, 0), (1, 0)]"
      ]
     },
     "execution_count": 9,
     "metadata": {},
     "output_type": "execute_result"
    }
   ],
   "source": [
    "# Here are some samples\n",
    "pairs[:3]"
   ]
  },
  {
   "cell_type": "code",
   "execution_count": 10,
   "metadata": {
    "collapsed": false
   },
   "outputs": [
    {
     "data": {
      "text/plain": [
       "(157, 87)"
      ]
     },
     "execution_count": 10,
     "metadata": {},
     "output_type": "execute_result"
    }
   ],
   "source": [
    "# Then, we sum all the tuples up, column wise, then we get our results\n",
    "reduce(lambda x,y: (x[0]+y[0], x[1]+y[1]), pairs)"
   ]
  },
  {
   "cell_type": "markdown",
   "metadata": {},
   "source": [
    "### Objective 2\n",
    "Next, we'd like to count the number of transactions per day using higher order functions."
   ]
  },
  {
   "cell_type": "code",
   "execution_count": 11,
   "metadata": {
    "collapsed": true
   },
   "outputs": [],
   "source": [
    "# Similar to the previous task, we first extract the 'day' column from the data set\n",
    "day = map(lambda x: x[4], rows)"
   ]
  },
  {
   "cell_type": "code",
   "execution_count": 12,
   "metadata": {
    "collapsed": false
   },
   "outputs": [
    {
     "data": {
      "text/plain": [
       "['Sun', 'Sun', 'Sun']"
      ]
     },
     "execution_count": 12,
     "metadata": {},
     "output_type": "execute_result"
    }
   ],
   "source": [
    "# Some samples\n",
    "day[:3]"
   ]
  },
  {
   "cell_type": "code",
   "execution_count": 13,
   "metadata": {
    "collapsed": false
   },
   "outputs": [],
   "source": [
    "# We're going to use a dictionary to accumulate the count.\n",
    "# In order to use this with reduce(), we would have to both\n",
    "# make change to the accumulating dictionary and return a\n",
    "# copy of the dictionary. Thus, it would be simpler for us\n",
    "# to use an additional function instead of lambda because\n",
    "# lambda only supports expressions.\n",
    "\n",
    "def reducer(x, y):\n",
    "    x[y] = x.get(y, 0)+1\n",
    "    return x\n",
    "\n",
    "counts = reduce(reducer, day, {})"
   ]
  },
  {
   "cell_type": "code",
   "execution_count": 14,
   "metadata": {
    "collapsed": false
   },
   "outputs": [
    {
     "data": {
      "text/plain": [
       "{'Fri': 19, 'Sat': 87, 'Sun': 76, 'Thur': 62}"
      ]
     },
     "execution_count": 14,
     "metadata": {},
     "output_type": "execute_result"
    }
   ],
   "source": [
    "# Here are the results\n",
    "counts"
   ]
  },
  {
   "cell_type": "markdown",
   "metadata": {},
   "source": [
    "### Objective 3\n",
    "Next, we would like to do a similar task as Task 2 of Homework 2 using higher order functions. Our goal is to extract the birth year of the first subscribed rider of each day, assuming that our rides are sorted temporallly. Below is our attemp in class, where we use a global variable to help us keeping track of the previous day status. There is also another approach that doesn't require the global variable, which is a task in your Homework 3."
   ]
  },
  {
   "cell_type": "code",
   "execution_count": 15,
   "metadata": {
    "collapsed": false
   },
   "outputs": [],
   "source": [
    "Y = None\n",
    "def checkDate(x):\n",
    "    global Y\n",
    "    d = dateutil.parser.parse(x['starttime']).day\n",
    "    if d!=Y:\n",
    "        Y = d\n",
    "        return True\n",
    "    return False\n",
    "\n",
    "\n",
    "filename = 'citibike.csv'\n",
    "with open(filename,'r') as fi:\n",
    "    reader = csv.DictReader(fi)    \n",
    "    values = filter(checkDate, reader)\n"
   ]
  },
  {
   "cell_type": "code",
   "execution_count": 16,
   "metadata": {
    "collapsed": false
   },
   "outputs": [
    {
     "name": "stdout",
     "output_type": "stream",
     "text": [
      "{'end_station_id': '423', 'gender': '2', 'bikeid': '17131', 'start_station_latitude': '40.75044999', 'end_station_name': 'W 54 St & 9 Ave', 'cartodb_id': '1', 'start_station_name': '8 Ave & W 31 St', 'start_station_id': '521', 'start_station_longitude': '-73.99481051', 'usertype': 'Subscriber', 'stoptime': '2015-02-01 00:14:00+00', 'end_station_longitude': '-73.98690506', 'starttime': '2015-02-01 00:00:00+00', 'end_station_latitude': '40.76584941', 'tripduration': '801', 'the_geom': '', 'birth_year': '1978'} 7\n"
     ]
    }
   ],
   "source": [
    "print values[0], len(values)"
   ]
  },
  {
   "cell_type": "markdown",
   "metadata": {
    "collapsed": true
   },
   "source": [
    "### Objective 4\n",
    "Next, we demonstrate the use of Python's <b>multiprocessing</b> module to perform parallel computation. In particular, we will use the <b>Pool</b> object to help us process heavy computation in parallel. In this case, we would like to map all the citibike locations into <b>NAD83 / New York Long Island</b> geometry and compute its distance to Times Square.\n",
    "\n",
    "In order to use multiprocessing.Pool, we will need to create a Pool object providing the number of processes available to the program. Then we would use <b>pool.map</b> command to parallelize the application of our functions on an iterable. The use of <b>pool.map</b> is almost identical to the <b>map()</b> higher order function in Python. We could also use it to perform task parallelism by supplying a task-based function with a list of task IDs.\n",
    "\n",
    "#### NOTE:\n",
    "On Windows, you cannot run this notebook. <b>multiprocessing</b> module is required to be wrapped within a main() function, aka you must put this inside a <b>if \\__name\\__=='\\__main\\__'</b> somewhere."
   ]
  },
  {
   "cell_type": "code",
   "execution_count": 17,
   "metadata": {
    "collapsed": false
   },
   "outputs": [
    {
     "name": "stdout",
     "output_type": "stream",
     "text": [
      "Time running sequentially is 3.33 seconds\n",
      "Time running with 2 processes is 1.96 seconds\n"
     ]
    }
   ],
   "source": [
    "import multiprocessing as mp\n",
    "\n",
    "# timeit for measuing time between operation\n",
    "from timeit import default_timer\n",
    "\n",
    "# These modules are needed for projection\n",
    "import shapely.geometry as geom\n",
    "import pyproj\n",
    "\n",
    "# Function to compute distance function\n",
    "proj = pyproj.Proj(init='epsg:2263', preserve_units=True)\n",
    "timesSquare = geom.Point(proj(-73.9857,40.7577))\n",
    "def distanceFromTimesSquare(row):\n",
    "    return geom.Point(proj(float(row['start_station_longitude']),\n",
    "                           float(row['start_station_latitude']))).distance(timesSquare)\n",
    "\n",
    "filename = 'citibike.csv'\n",
    "\n",
    "# First we run a test without parallelism\n",
    "with open(filename,'r') as fi:\n",
    "    reader = csv.DictReader(fi)\n",
    "    start = default_timer()\n",
    "    coords = map(distanceFromTimesSquare, reader)\n",
    "    end = default_timer()\n",
    "    print 'Time running sequentially is %.2f seconds' % (end-start)\n",
    "    \n",
    "pool = mp.Pool(processes=2)\n",
    "with open(filename,'r') as fi:\n",
    "    reader = csv.DictReader(fi)\n",
    "    start = default_timer()\n",
    "    coords = pool.map(distanceFromTimesSquare, reader)\n",
    "    end = default_timer()\n",
    "    print 'Time running with 2 processes is %.2f seconds' % (end-start)"
   ]
  },
  {
   "cell_type": "code",
   "execution_count": null,
   "metadata": {
    "collapsed": true
   },
   "outputs": [],
   "source": []
  }
 ],
 "metadata": {
  "kernelspec": {
   "display_name": "Python 2",
   "language": "python",
   "name": "python2"
  },
  "language_info": {
   "codemirror_mode": {
    "name": "ipython",
    "version": 2
   },
   "file_extension": ".py",
   "mimetype": "text/x-python",
   "name": "python",
   "nbconvert_exporter": "python",
   "pygments_lexer": "ipython2",
   "version": "2.7.11"
  }
 },
 "nbformat": 4,
 "nbformat_minor": 0
}
