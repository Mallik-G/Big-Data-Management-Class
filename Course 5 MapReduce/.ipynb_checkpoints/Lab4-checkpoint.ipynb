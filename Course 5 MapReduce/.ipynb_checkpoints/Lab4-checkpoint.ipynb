{
 "cells": [
  {
   "cell_type": "code",
   "execution_count": 6,
   "metadata": {
    "collapsed": true
   },
   "outputs": [],
   "source": [
    "import mapreduce as mr"
   ]
  },
  {
   "cell_type": "code",
   "execution_count": 7,
   "metadata": {
    "collapsed": true
   },
   "outputs": [],
   "source": [
    "with open ('serviceStatus.txt','r') as fi:\n",
    "    data = [line.strip() for line in fi]"
   ]
  },
  {
   "cell_type": "code",
   "execution_count": 8,
   "metadata": {
    "collapsed": false,
    "scrolled": false
   },
   "outputs": [
    {
     "data": {
      "text/plain": [
       "['1,2,3 : Good Service',\n",
       " '4,5,6 : Delays',\n",
       " '7 : Good Service',\n",
       " 'A,C : Good Service',\n",
       " 'E : Planned Work',\n",
       " 'G : Delays',\n",
       " 'B,D,F,M : Good Service',\n",
       " 'J,Z : Delays',\n",
       " 'L : Good Service',\n",
       " 'N,Q,R : Planned Work',\n",
       " 'S : Good Service']"
      ]
     },
     "execution_count": 8,
     "metadata": {},
     "output_type": "execute_result"
    }
   ],
   "source": [
    "data"
   ]
  },
  {
   "cell_type": "code",
   "execution_count": 19,
   "metadata": {
    "collapsed": false
   },
   "outputs": [
    {
     "name": "stdout",
     "output_type": "stream",
     "text": [
      "[]\n"
     ]
    }
   ],
   "source": [
    "def mapper(line):\n",
    "    for word in line.split(' '):\n",
    "        if word == 'Delays':\n",
    "            yield (word, line)\n",
    "\n",
    "def reducer(k2v2):\n",
    "    word, status = k2v2\n",
    "    return list(status)\n",
    "    \n",
    "print list(mr.run(data, mapper, reducer))"
   ]
  },
  {
   "cell_type": "code",
   "execution_count": 11,
   "metadata": {
    "collapsed": false
   },
   "outputs": [
    {
     "name": "stdout",
     "output_type": "stream",
     "text": [
      "['1978', '1992', '1982', '1969', '1963', '1989', '1963']\n"
     ]
    }
   ],
   "source": [
    "import csv\n",
    "\n",
    "def mapper(row):\n",
    "    if row['usertype'] == 'Subscriber':\n",
    "        data, time = row['starttime'].split(' ')\n",
    "        yield (data, (time, row['birth_year']))\n",
    "\n",
    "def reducer(k2v2):\n",
    "    data, records = k2v2\n",
    "    return min(records)[1]\n",
    "    \n",
    "\n",
    "\n",
    "with open('citibike.csv', 'r') as fi:\n",
    "    reader = csv.DictReader(fi)\n",
    "    print list(mr.run(reader, mapper, reducer))"
   ]
  },
  {
   "cell_type": "code",
   "execution_count": null,
   "metadata": {
    "collapsed": true
   },
   "outputs": [],
   "source": []
  }
 ],
 "metadata": {
  "kernelspec": {
   "display_name": "Python 2",
   "language": "python",
   "name": "python2"
  },
  "language_info": {
   "codemirror_mode": {
    "name": "ipython",
    "version": 2
   },
   "file_extension": ".py",
   "mimetype": "text/x-python",
   "name": "python",
   "nbconvert_exporter": "python",
   "pygments_lexer": "ipython2",
   "version": "2.7.10"
  }
 },
 "nbformat": 4,
 "nbformat_minor": 0
}
